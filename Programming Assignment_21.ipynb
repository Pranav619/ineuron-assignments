{
 "cells": [
  {
   "cell_type": "markdown",
   "id": "2298b624",
   "metadata": {},
   "source": [
    "#### Question1 Write a function that takes a list and a number as arguments. Add the number to the end of the list, then remove the first element of the list. The function should then return the updated list. \n",
    "\n",
    "Examples \n",
    "\n",
    "next_in_line([5, 6, 7, 8, 9], 1) ➞ [6, 7, 8, 9, 1] \n",
    "\n",
    "next_in_line([7, 6, 3, 23, 17], 10) ➞ [6, 3, 23, 17, 10]\n",
    "\n",
    "next_in_line([1, 10, 20, 42 ], 6) ➞ [10, 20, 42, 6] \n",
    "\n",
    "next_in_line([], 6) ➞ \"No list has been selected\""
   ]
  },
  {
   "cell_type": "code",
   "execution_count": 9,
   "id": "507395f8",
   "metadata": {},
   "outputs": [
    {
     "name": "stdout",
     "output_type": "stream",
     "text": [
      "Output ➞ [6, 7, 8, 9, 1]\n",
      "Output ➞ [6, 3, 23, 17, 10]\n",
      "Output ➞ [10, 20, 42, 6]\n",
      "No list has been selected\n"
     ]
    }
   ],
   "source": [
    "def next_in_line(in_list,in_num):\n",
    "    if len(in_list) > 1:\n",
    "        in_list.append(in_num)\n",
    "        in_list.remove(in_list[0])\n",
    "        print(f'Output ➞ {in_list}')\n",
    "    else:\n",
    "        print('No list has been selected')\n",
    "\n",
    "next_in_line([5, 6, 7, 8, 9], 1) \n",
    "next_in_line([7, 6, 3, 23, 17], 10)\n",
    "next_in_line([1, 10, 20, 42 ], 6)\n",
    "next_in_line([], 6)"
   ]
  },
  {
   "cell_type": "markdown",
   "id": "1411f5a3",
   "metadata": {},
   "source": [
    "#### Question2 Create the function that takes a list of dictionaries and returns the sum of people's budgets. \n",
    "\n",
    "Examples \n",
    "\n",
    "get_budgets([ { \"name\": \"John\", \"age\": 21, \"budget\": 23000 }, { \"name\": \"Steve\", \"age\": 32, \"budget\": 40000 }, { \"name\": \"Martin\", \"age\": 16, \"budget\": 2700 } ]) ➞ 65700 \n",
    "\n",
    "get_budgets([ { \"name\": \"John\", \"age\": 21, \"budget\": 29000 }, { \"name\": \"Steve\", \"age\": 32, \"budget\": 32000 }, { \"name\": \"Martin\", \"age\": 16, \"budget\": 1600 } ]) ➞ 62600"
   ]
  },
  {
   "cell_type": "code",
   "execution_count": 13,
   "id": "d2d205e3",
   "metadata": {},
   "outputs": [
    {
     "name": "stdout",
     "output_type": "stream",
     "text": [
      "output : 65700\n"
     ]
    }
   ],
   "source": [
    "def get_budgets(in_dict):\n",
    "    sum=0\n",
    "    for ele in in_dict:\n",
    "        sum= sum + ele[\"budget\"]\n",
    "    print(f'output : {sum}')\n",
    "        \n",
    "get_budgets([ { \"name\": \"John\", \"age\": 21, \"budget\": 23000 }, \n",
    "             { \"name\": \"Steve\", \"age\": 32, \"budget\": 40000 }, \n",
    "             { \"name\": \"Martin\", \"age\": 16, \"budget\": 2700 } ]) \n",
    "    \n"
   ]
  },
  {
   "cell_type": "markdown",
   "id": "39cccaad",
   "metadata": {},
   "source": [
    "#### Question3 Create a function that takes a string and returns a string with its letters in alphabetical order.\n",
    "\n",
    "Examples \n",
    "\n",
    "alphabet_soup(\"hello\") ➞ \"ehllo\" \n",
    "\n",
    "alphabet_soup(\"edabit\") ➞ \"abdeit\" \n",
    "\n",
    "alphabet_soup(\"hacker\") ➞ \"acehkr\" \n",
    "\n",
    "alphabet_soup(\"geek\") ➞ \"eegk\" \n",
    "\n",
    "alphabet_soup(\"javascript\") ➞ \"aacijprstv\""
   ]
  },
  {
   "cell_type": "code",
   "execution_count": 23,
   "id": "e6c76a09",
   "metadata": {},
   "outputs": [
    {
     "name": "stdout",
     "output_type": "stream",
     "text": [
      "output : ehllo\n",
      "output : abdeit\n",
      "output : acehkr\n",
      "output : eegk\n",
      "output : aacijprstv\n"
     ]
    }
   ],
   "source": [
    "def alphabet_soup(a):\n",
    "    b=''.join(sorted(a))\n",
    "    #print(type(b))\n",
    "    print(f'output : {b}')\n",
    "alphabet_soup(\"hello\")\n",
    "alphabet_soup(\"abdeit\") \n",
    "alphabet_soup(\"hacker\") \n",
    "alphabet_soup(\"geek\") \n",
    "alphabet_soup(\"javascript\") "
   ]
  },
  {
   "cell_type": "markdown",
   "id": "d7a5eadd",
   "metadata": {},
   "source": [
    "#### Question4 Suppose that you invest $10,000 for 10 years at an interest rate of 6 % compounded monthly. What will be the value of your investment at the end of the 10 year period? \n",
    "\n",
    "Create a function that accepts the principal p , the term in years t , the interest rate r , and the number of compounding periods per year n . The function returns the value at the end of term rounded to the nearest cent. \n",
    "\n",
    "For the example above:\n",
    "\n",
    "compound_interest(10000, 10, 0.06, 12) ➞ 18193.97\n",
    "\n",
    "Note that the interest rate is given as a decimal and n=12 because with monthly compounding there are 12 periods per year. Compounding can also be done annually, quarterly, weekly, or daily.\n",
    "\n",
    "Examples \n",
    "\n",
    "compound_interest(100, 1, 0.05, 1) ➞ 105.0 \n",
    "\n",
    "compound_interest(3500, 15, 0.1, 4) ➞ 15399.26 \n",
    "\n",
    "compound_interest(100000, 20, 0.15, 365) ➞ 2007316.26"
   ]
  },
  {
   "cell_type": "code",
   "execution_count": 27,
   "id": "b8384b73",
   "metadata": {},
   "outputs": [
    {
     "name": "stdout",
     "output_type": "stream",
     "text": [
      "output: 105.00\n",
      "output: 15399.26\n",
      "output: 2007316.26\n"
     ]
    }
   ],
   "source": [
    "def compound_interest(p,t,r,n):\n",
    "    ci = p*(1+(r/n))**(n*t)\n",
    "    print(f'output: {ci:.2f}')\n",
    "compound_interest(100, 1, 0.05, 1)\n",
    "\n",
    "compound_interest(3500, 15, 0.1, 4)\n",
    "\n",
    "compound_interest(100000, 20, 0.15, 365)\n",
    "          "
   ]
  },
  {
   "cell_type": "markdown",
   "id": "a115e0c5",
   "metadata": {},
   "source": [
    "#### Question5 Write a function that takes a list of elements and returns only the integers.\n",
    "\n",
    "Examples \n",
    "\n",
    "return_only_integer([9, 2, \"space\", \"car\", \"lion\", 16]) ➞ [9, 2, 16] \n",
    "\n",
    "return_only_integer([\"hello\", 81, \"basketball\", 123, \"fox\"]) ➞ [81, 123]\n",
    "\n",
    "return_only_integer([10, \"121\", 56, 20, \"car\", 3, \"lion\"]) ➞ [10, 56, 20, 3]\n",
    "\n",
    "return_only_integer([\"String\", True, 3.3, 1]) ➞ [1]"
   ]
  },
  {
   "cell_type": "code",
   "execution_count": 29,
   "id": "0e72a360",
   "metadata": {},
   "outputs": [
    {
     "name": "stdout",
     "output_type": "stream",
     "text": [
      "output: [9, 2, 16]\n",
      "output: [81, 123]\n",
      "output: [10, 56, 20, 3]\n",
      "output: [1]\n"
     ]
    }
   ],
   "source": [
    "def return_only_integer(list):\n",
    "    l=[]\n",
    "    for ele in list:\n",
    "        if type(ele)==int:\n",
    "            l.append(ele)\n",
    "    print(f'output: {l}')    \n",
    "return_only_integer([9, 2, \"space\", \"car\", \"lion\", 16]) \n",
    "\n",
    "return_only_integer([\"hello\", 81, \"basketball\", 123, \"fox\"])\n",
    "\n",
    "return_only_integer([10, \"121\", 56, 20, \"car\", 3, \"lion\"]) \n",
    "\n",
    "return_only_integer([\"String\", True, 3.3, 1])"
   ]
  },
  {
   "cell_type": "code",
   "execution_count": null,
   "id": "d7c8d39b",
   "metadata": {},
   "outputs": [],
   "source": []
  }
 ],
 "metadata": {
  "kernelspec": {
   "display_name": "Python 3 (ipykernel)",
   "language": "python",
   "name": "python3"
  },
  "language_info": {
   "codemirror_mode": {
    "name": "ipython",
    "version": 3
   },
   "file_extension": ".py",
   "mimetype": "text/x-python",
   "name": "python",
   "nbconvert_exporter": "python",
   "pygments_lexer": "ipython3",
   "version": "3.9.7"
  }
 },
 "nbformat": 4,
 "nbformat_minor": 5
}
