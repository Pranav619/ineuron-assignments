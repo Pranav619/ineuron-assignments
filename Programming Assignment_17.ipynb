{
 "cells": [
  {
   "cell_type": "markdown",
   "id": "e7c74bdd",
   "metadata": {},
   "source": [
    "Question1. Create a function that takes three arguments a, b, c \n",
    "and returns the sum of the numbers that \n",
    "are evenly divided by c from the range a, b inclusive. \n",
    "Examples \n",
    "\n",
    "evenly_divisible(1, 10, 20) ➞ 0 \n",
    "#No number between 1 and 10 can be evenly divided by 20. \n",
    "\n",
    "evenly_divisible(1, 10, 2) ➞ 30 \n",
    "#2 + 4 + 6 + 8 + 10 = 30 \n",
    "\n",
    "evenly_divisible(1, 10, 3) ➞ 18 \n",
    "#3 + 6 + 9 = 18 "
   ]
  },
  {
   "cell_type": "code",
   "execution_count": 8,
   "id": "a8bcd969",
   "metadata": {},
   "outputs": [
    {
     "name": "stdout",
     "output_type": "stream",
     "text": [
      "(1, 10, 3) ➞ 18\n",
      "(1, 10, 2) ➞ 30\n",
      "(1, 10, 20) ➞ 0\n"
     ]
    }
   ],
   "source": [
    "def evenly_divisible(a,b,c):\n",
    "    sum=0\n",
    "    for i in range(a,b+1):\n",
    "        if i%c==0:\n",
    "            sum=sum+i        \n",
    "    print(f'{a,b,c} ➞ {sum}')\n",
    "evenly_divisible(1,10,3)    \n",
    "evenly_divisible(1,10,2)    \n",
    "evenly_divisible(1,10,20)    \n"
   ]
  },
  {
   "cell_type": "markdown",
   "id": "d43154d3",
   "metadata": {},
   "source": [
    "Question2. Create a function that returns True if a given inequality expression is correct and False otherwise.\n",
    "\n",
    "Examples correct_signs(\"3 < 7 < 11\") ➞ True\n",
    "\n",
    "correct_signs(\"13 > 44 > 33 > 1\") ➞ False \n",
    "\n",
    "correct_signs(\"1 < 2 < 6 < 9 > 3\") ➞ True"
   ]
  },
  {
   "cell_type": "code",
   "execution_count": 10,
   "id": "fe837f06",
   "metadata": {},
   "outputs": [
    {
     "name": "stdout",
     "output_type": "stream",
     "text": [
      "3 < 7 < 11 ➞ True\n",
      "13 > 44 > 33 > 1 ➞ False\n",
      "1 < 2 < 6 < 9 > 3 ➞ True\n"
     ]
    }
   ],
   "source": [
    "def correct_signs(l):\n",
    "    #l=input(\"enter the inquality: \")\n",
    "    out= eval(l)\n",
    "    print(f'{l} ➞ {out}')\n",
    "correct_signs(\"3 < 7 < 11\") \n",
    "\n",
    "correct_signs(\"13 > 44 > 33 > 1\") \n",
    "\n",
    "correct_signs(\"1 < 2 < 6 < 9 > 3\") "
   ]
  },
  {
   "cell_type": "markdown",
   "id": "5bf79542",
   "metadata": {},
   "source": [
    "Question3. Create a function that replaces all the vowels in a string with a specified character.\n",
    "\n",
    "Examples\n",
    "\n",
    "replace_vowels(\"the aardvark\", \"#\") ➞ \"th# ##rdv#rk\"\n",
    "\n",
    "replace_vowels(\"minnie mouse\", \"?\") ➞ \"m?nn?? m??s?\" \n",
    "\n",
    "replace_vowels(\"shakespeare\", \"*\") ➞ \"sh*k*sp**r*"
   ]
  },
  {
   "cell_type": "code",
   "execution_count": 18,
   "id": "802e3d64",
   "metadata": {},
   "outputs": [
    {
     "name": "stdout",
     "output_type": "stream",
     "text": [
      "th# ##rdv#rk\n"
     ]
    }
   ],
   "source": [
    "def replace_vowels(a,b):\n",
    "    vowels = ['a','e','i','o','u','A','E','I','O','U']\n",
    "    out=a\n",
    "    for i in a:\n",
    "        if i in vowels:\n",
    "            out= out.replace(i,b)\n",
    "    print(out)\n",
    "replace_vowels(\"the aardvark\", \"#\")    \n",
    "   "
   ]
  },
  {
   "cell_type": "markdown",
   "id": "15ac2471",
   "metadata": {},
   "source": [
    "Question4. Write a function that calculates the factorial of a number recursively .\n",
    "\n",
    "Examples \n",
    "\n",
    "factorial(5) ➞ 120\n",
    "\n",
    "factorial(3) ➞ 6\n",
    "\n",
    "factorial(1) ➞ 1\n",
    "\n",
    "factorial(0) ➞ 1"
   ]
  },
  {
   "cell_type": "code",
   "execution_count": 1,
   "id": "43014ec1",
   "metadata": {},
   "outputs": [
    {
     "name": "stdout",
     "output_type": "stream",
     "text": [
      "factorial(5) ➞ 120\n",
      "factorial(3) ➞ 6\n",
      "factorial(1) ➞ 1\n",
      "factorial(0) ➞ 1\n"
     ]
    }
   ],
   "source": [
    "def factorial(n):\n",
    "    if n==0:\n",
    "        return 1\n",
    "    return n*factorial(n-1)\n",
    "print(f'factorial(5) ➞ {factorial(5)}')\n",
    "print(f'factorial(3) ➞ {factorial(3)}')\n",
    "print(f'factorial(1) ➞ {factorial(1)}')\n",
    "print(f'factorial(0) ➞ {factorial(0)}')"
   ]
  },
  {
   "cell_type": "markdown",
   "id": "33725a8c",
   "metadata": {},
   "source": [
    "Question 5 Hamming distance is the number of characters that differ between two strings.\n",
    "\n",
    "To illustrate: \n",
    "\n",
    "String1:\"abcbba\" \n",
    "\n",
    "String2: \"abcbda\" \n",
    "\n",
    "Hamming Distance: 1 - \"b\" vs. \"d\" is the only difference. \n",
    "\n",
    "Create a function that computes the hamming distance between two strings\n",
    "\n",
    "##### Examples\n",
    "\n",
    "hamming_distance(\"abcde\", \"bcdef\") ➞ 5 \n",
    "\n",
    "hamming_distance(\"abcde\", \"abcde\") ➞ 0 \n",
    "\n",
    "hamming_distance(\"strong\", \"strung\") ➞ 1"
   ]
  },
  {
   "cell_type": "code",
   "execution_count": 8,
   "id": "50bc188e",
   "metadata": {},
   "outputs": [
    {
     "name": "stdout",
     "output_type": "stream",
     "text": [
      "Enter the String_1: abcde\n",
      "Enter the String_2: bcdef\n",
      "Hamning Distance b/w abcde and bcdef ➞ 5\n"
     ]
    }
   ],
   "source": [
    "def genHamDistance():\n",
    "    in_string_1 = input('Enter the String_1: ')\n",
    "    in_string_2 = input('Enter the String_2: ')\n",
    "    if len(in_string_1) == len(in_string_2):\n",
    "        count = 0\n",
    "        for i in range(len(in_string_1)):\n",
    "            if in_string_1[i] != in_string_2[i]:\n",
    "                count = count+1\n",
    "        print(f'Hamning Distance b/w {in_string_1} and {in_string_2} ➞ {count}')\n",
    "    else:\n",
    "        print('Both Strings Must be of Same Length')       \n",
    "genHamDistance()"
   ]
  },
  {
   "cell_type": "code",
   "execution_count": null,
   "id": "da72c40a",
   "metadata": {},
   "outputs": [],
   "source": []
  }
 ],
 "metadata": {
  "kernelspec": {
   "display_name": "Python 3 (ipykernel)",
   "language": "python",
   "name": "python3"
  },
  "language_info": {
   "codemirror_mode": {
    "name": "ipython",
    "version": 3
   },
   "file_extension": ".py",
   "mimetype": "text/x-python",
   "name": "python",
   "nbconvert_exporter": "python",
   "pygments_lexer": "ipython3",
   "version": "3.9.7"
  }
 },
 "nbformat": 4,
 "nbformat_minor": 5
}
