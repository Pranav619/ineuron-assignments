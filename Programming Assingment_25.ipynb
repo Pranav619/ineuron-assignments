{
 "cells": [
  {
   "cell_type": "markdown",
   "id": "746dc978",
   "metadata": {},
   "source": [
    "### Assignment 25"
   ]
  },
  {
   "cell_type": "markdown",
   "id": "318d26df",
   "metadata": {},
   "source": [
    "#### Question1 Create a function that takes three integer arguments (a, b, c) and returns the amount of integers which are of equal value. \n",
    "\n",
    "Examples\n",
    "\n",
    "equal(3, 4, 3) ➞ 2 \n",
    "\n",
    "equal(1, 1, 1) ➞ 3 \n",
    "\n",
    "equal(3, 4, 1) ➞ 0 \n",
    "\n",
    "Notes Your function must return 0, 2 or 3."
   ]
  },
  {
   "cell_type": "code",
   "execution_count": 2,
   "id": "f0add93d",
   "metadata": {},
   "outputs": [
    {
     "name": "stdout",
     "output_type": "stream",
     "text": [
      "(3, 4, 3)➞ 2\n",
      "(1, 1, 1)➞ 3\n",
      "(3, 4, 1)➞ 0\n"
     ]
    }
   ],
   "source": [
    "def equal(a,b,c):\n",
    "    if(a==b):\n",
    "        if(a==c):\n",
    "            print(f'{(a,b,c)}➞ 3')\n",
    "    elif(a==c):\n",
    "        print(f'{(a,b,c)}➞ 2')\n",
    "    else:\n",
    "        print(f'{a,b,c}➞ 0')\n",
    "equal(3, 4, 3)\n",
    "\n",
    "equal(1, 1, 1)\n",
    "\n",
    "equal(3, 4, 1) "
   ]
  },
  {
   "cell_type": "markdown",
   "id": "4ee1747a",
   "metadata": {},
   "source": [
    "#### Question2 Write a function that converts a dictionary into a list of keys-values tuples .\n",
    "\n",
    "Examples \n",
    "\n",
    "dict_to_list({ \"D\": 1, \"B\": 2, \"C\": 3 }) ➞ [(\"B\", 2), (\"C\", 3), (\"D\", 1)] \n",
    "\n",
    "dict_to_list({ \"likes\": 2, \"dislikes\": 3, \"followers\": 10 }) ➞ [(\"dislikes\", 3), (\"followers\", 10), (\"likes\", 2)] \n",
    "\n",
    "Notes Return the elements in the list in alphabetical order."
   ]
  },
  {
   "cell_type": "code",
   "execution_count": 8,
   "id": "20db6496",
   "metadata": {},
   "outputs": [
    {
     "name": "stdout",
     "output_type": "stream",
     "text": [
      "[('B', 2), ('C', 3), ('D', 1)]\n",
      "[('dislikes', 3), ('followers', 10), ('likes', 2)]\n"
     ]
    }
   ],
   "source": [
    "def dict_to_list(dict1):\n",
    "    l=[]\n",
    "    for key,value in dict1.items():\n",
    "        l.append((key,value))\n",
    "    print(sorted(l))\n",
    "dict_to_list({ \"D\": 1, \"B\": 2, \"C\": 3 })\n",
    "dict_to_list({ \"likes\": 2, \"dislikes\": 3, \"followers\": 10 })    "
   ]
  },
  {
   "cell_type": "markdown",
   "id": "e14fade0",
   "metadata": {},
   "source": [
    "#### Question3 Write a function that creates a dictionary with each (key, value) pair being the (lower case, upper case) versions of a letter, respectively. \n",
    "\n",
    "Examples \n",
    "\n",
    "mapping([\"p\", \"s\"]) ➞ { \"p\": \"P\", \"s\": \"S\" } \n",
    "\n",
    "mapping([\"a\", \"b\", \"c\"]) ➞ { \"a\": \"A\", \"b\": \"B\", \"c\": \"C\" } \n",
    "\n",
    "mapping([\"a\", \"v\", \"y\", \"z\"]) ➞ { \"a\": \"A\", \"v\": \"V\", \"y\": \"Y\", \"z\": \"Z\" } \n",
    "\n",
    "Notes All of the letters in the input list will always be lowercase"
   ]
  },
  {
   "cell_type": "code",
   "execution_count": 12,
   "id": "86fa6497",
   "metadata": {},
   "outputs": [
    {
     "name": "stdout",
     "output_type": "stream",
     "text": [
      "['p', 's']➞ {'p': 'P', 's': 'S'}\n",
      "['a', 'b', 'c']➞ {'a': 'A', 'b': 'B', 'c': 'C'}\n",
      "['a', 'v', 'y', 'z']➞ {'a': 'A', 'v': 'V', 'y': 'Y', 'z': 'Z'}\n"
     ]
    }
   ],
   "source": [
    "def mapping(l):\n",
    "    dict1={}\n",
    "    for i in l:\n",
    "        dict1[i]= i.upper()\n",
    "    print(f'{l}➞ {dict1}')    \n",
    "mapping([\"p\", \"s\"])   \n",
    "mapping([\"a\", \"b\", \"c\"]) \n",
    "\n",
    "mapping([\"a\", \"v\", \"y\", \"z\"])"
   ]
  },
  {
   "cell_type": "markdown",
   "id": "c43bb451",
   "metadata": {},
   "source": [
    "#### Question4 Write a function, that replaces all vowels in a string with a specified vowel. \n",
    "\n",
    "Examples \n",
    "\n",
    "vow_replace(\"apples and bananas\", \"u\") ➞ \"upplus und bununus\" \n",
    "\n",
    "vow_replace(\"cheese casserole\", \"o\") ➞ \"chooso cossorolo\" \n",
    "\n",
    "vow_replace(\"stuffed jalapeno poppers\", \"e\") ➞ \"steffed jelepene peppers\" \n",
    "\n",
    "Notes All words will be lowercase. Y is not considered a vowel."
   ]
  },
  {
   "cell_type": "code",
   "execution_count": 16,
   "id": "e4aa4cce",
   "metadata": {},
   "outputs": [
    {
     "name": "stdout",
     "output_type": "stream",
     "text": [
      "output ➞ upplus und bununus\n",
      "output ➞ chooso cossorolo\n",
      "output ➞ steffed jelepene peppers\n"
     ]
    }
   ],
   "source": [
    "def vow_replace(str,rplc):\n",
    "    vowels=['a','e','i','o','u']\n",
    "    str1=\"\"\n",
    "    for ele in str:\n",
    "        if ele in vowels:\n",
    "            str1=str1+rplc\n",
    "        else:\n",
    "            str1=str1+ele\n",
    "    print('output ➞',str1)        \n",
    "vow_replace(\"apples and bananas\", \"u\")\n",
    "vow_replace(\"cheese casserole\", \"o\") \n",
    "vow_replace(\"stuffed jalapeno poppers\", \"e\") \n",
    "    "
   ]
  },
  {
   "cell_type": "markdown",
   "id": "332da2a3",
   "metadata": {},
   "source": [
    "#### Question5 Create a function that takes a string as input and capitalizes a letter if its ASCII code is even and returns its lower case version if its ASCII code is odd. \n",
    "\n",
    "Examples \n",
    "\n",
    "ascii_capitalize(\"to be or not to be!\") ➞ \"To Be oR NoT To Be!\" \n",
    "\n",
    "ascii_capitalize(\"THE LITTLE MERMAID\") ➞ \"THe LiTTLe meRmaiD\" \n",
    "\n",
    "ascii_capitalize(\"Oh what a beautiful morning.\") ➞ \"oH wHaT a BeauTiFuL moRNiNg.\""
   ]
  },
  {
   "cell_type": "code",
   "execution_count": 18,
   "id": "071ca60a",
   "metadata": {},
   "outputs": [
    {
     "name": "stdout",
     "output_type": "stream",
     "text": [
      "output ➞ To Be oR NoT To Be!\n",
      "output ➞ THe LiTTLe meRmaiD\n",
      "output ➞ oH wHaT a BeauTiFuL moRNiNg.\n"
     ]
    }
   ],
   "source": [
    "def ascii_capitalize(str):\n",
    "    str2=\"\"\n",
    "    for i in str:\n",
    "        if ord(i)%2==0:\n",
    "            str2=str2+i.upper()\n",
    "        else:\n",
    "            str2=str2+i.lower()\n",
    "    print(f'output ➞ {str2}')\n",
    "ascii_capitalize(\"to be or not to be!\")\n",
    "ascii_capitalize(\"THE LITTLE MERMAID\")\n",
    "ascii_capitalize(\"Oh what a beautiful morning.\") "
   ]
  },
  {
   "cell_type": "code",
   "execution_count": 9,
   "id": "eafd56bd",
   "metadata": {},
   "outputs": [],
   "source": []
  },
  {
   "cell_type": "code",
   "execution_count": null,
   "id": "b6eed5cb",
   "metadata": {},
   "outputs": [],
   "source": []
  },
  {
   "cell_type": "code",
   "execution_count": null,
   "id": "0649860c",
   "metadata": {},
   "outputs": [],
   "source": []
  }
 ],
 "metadata": {
  "kernelspec": {
   "display_name": "Python 3 (ipykernel)",
   "language": "python",
   "name": "python3"
  },
  "language_info": {
   "codemirror_mode": {
    "name": "ipython",
    "version": 3
   },
   "file_extension": ".py",
   "mimetype": "text/x-python",
   "name": "python",
   "nbconvert_exporter": "python",
   "pygments_lexer": "ipython3",
   "version": "3.9.7"
  }
 },
 "nbformat": 4,
 "nbformat_minor": 5
}
