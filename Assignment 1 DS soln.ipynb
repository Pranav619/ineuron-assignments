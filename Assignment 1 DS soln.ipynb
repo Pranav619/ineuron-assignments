{
 "cells": [
  {
   "cell_type": "code",
   "execution_count": 1,
   "id": "f6d8b074",
   "metadata": {},
   "outputs": [
    {
     "name": "stdout",
     "output_type": "stream",
     "text": [
      "!dlroW ,olleH\n"
     ]
    }
   ],
   "source": [
    "#1 Write a Python program to reverse a string without using any built-in string reversal functions.\n",
    "def reverse_string(input_string):\n",
    "    reversed_string = ''\n",
    "    for char in input_string:\n",
    "        reversed_string = char + reversed_string\n",
    "    return reversed_string\n",
    "\n",
    "# Example usage\n",
    "input_str = 'Hello, World!'\n",
    "reversed_str = reverse_string(input_str)\n",
    "print(reversed_str)\n",
    "\n",
    "\n"
   ]
  },
  {
   "cell_type": "code",
   "execution_count": null,
   "id": "5f0c9b30",
   "metadata": {},
   "outputs": [],
   "source": [
    "#2. Implement a function to check if a given string is a palindrome.\n",
    "def is_palindrome(input_string):\n",
    "    # Remove spaces and convert to lowercase\n",
    "    input_string = input_string.replace(\" \", \"\").lower()\n",
    "\n",
    "    # Check if the string is equal to its reverse\n",
    "    if input_string == input_string[::-1]:\n",
    "        return True\n",
    "    else:\n",
    "        return False\n",
    "\n",
    "# Example usage\n",
    "string1 = \"racecar\"\n",
    "print(is_palindrome(string1))  # True\n",
    "\n",
    "string2 = \"Hello, World!\"\n",
    "print(is_palindrome(string2))  # False\n",
    "\n"
   ]
  },
  {
   "cell_type": "code",
   "execution_count": 2,
   "id": "6184812f",
   "metadata": {},
   "outputs": [
    {
     "name": "stdout",
     "output_type": "stream",
     "text": [
      "20\n"
     ]
    }
   ],
   "source": [
    "#3. Write a program to find the largest element in a given list.\n",
    "def find_largest_element(lst):\n",
    "    if not lst:\n",
    "        return None\n",
    "\n",
    "    largest = lst[0]\n",
    "    for num in lst:\n",
    "        if num > largest:\n",
    "            largest = num\n",
    "\n",
    "    return largest\n",
    "\n",
    "# Example usage\n",
    "numbers = [10, 5, 8, 20, 3]\n",
    "largest_number = find_largest_element(numbers)\n",
    "print(largest_number)\n"
   ]
  },
  {
   "cell_type": "code",
   "execution_count": null,
   "id": "467b8309",
   "metadata": {},
   "outputs": [],
   "source": [
    "# 4. Implement a function to count the occurrence of each element in a list.\n",
    "def count_occurrences(lst):\n",
    "    occurrence_count = {}\n",
    "\n",
    "    for element in lst:\n",
    "        if element in occurrence_count:\n",
    "            occurrence_count[element] += 1\n",
    "        else:\n",
    "            occurrence_count[element] = 1\n",
    "\n",
    "    return occurrence_count\n",
    "\n",
    "# Example usage\n",
    "numbers = [1, 2, 3, 2, 1, 1, 4, 5, 4]\n",
    "occurrences = count_occurrences(numbers)\n",
    "print(occurrences)\n"
   ]
  },
  {
   "cell_type": "code",
   "execution_count": 3,
   "id": "51a329b2",
   "metadata": {},
   "outputs": [
    {
     "name": "stdout",
     "output_type": "stream",
     "text": [
      "10\n"
     ]
    }
   ],
   "source": [
    "# 5. Write a Python program to find the second largest number in a list.\n",
    "def find_second_largest(lst):\n",
    "    if len(lst) < 2:\n",
    "        return None\n",
    "\n",
    "    largest = float('-inf')\n",
    "    second_largest = float('-inf')\n",
    "\n",
    "    for num in lst:\n",
    "        if num > largest:\n",
    "            second_largest = largest\n",
    "            largest = num\n",
    "        elif num > second_largest and num != largest:\n",
    "            second_largest = num\n",
    "\n",
    "    return second_largest\n",
    "\n",
    "# Example usage\n",
    "numbers = [10, 5, 8, 20, 3]\n",
    "second_largest_number = find_second_largest(numbers)\n",
    "print(second_largest_number)\n"
   ]
  },
  {
   "cell_type": "code",
   "execution_count": 4,
   "id": "2f698bb0",
   "metadata": {},
   "outputs": [
    {
     "name": "stdout",
     "output_type": "stream",
     "text": [
      "[1, 2, 3, 4, 5]\n"
     ]
    }
   ],
   "source": [
    "# 6. Implement a function to remove duplicate elements from a list.\n",
    "def remove_duplicates(lst):\n",
    "    unique_list = []\n",
    "    for element in lst:\n",
    "        if element not in unique_list:\n",
    "            unique_list.append(element)\n",
    "    return unique_list\n",
    "\n",
    "# Example usage\n",
    "numbers = [1, 2, 3, 2, 1, 4, 5, 4]\n",
    "unique_numbers = remove_duplicates(numbers)\n",
    "print(unique_numbers)\n"
   ]
  },
  {
   "cell_type": "code",
   "execution_count": 5,
   "id": "b505a375",
   "metadata": {},
   "outputs": [
    {
     "name": "stdout",
     "output_type": "stream",
     "text": [
      "120\n"
     ]
    }
   ],
   "source": [
    "# 7. Write a program to calculate the factorial of a given number.\n",
    "def factorial(n):\n",
    "    if n < 0:\n",
    "        return None\n",
    "    elif n == 0:\n",
    "        return 1\n",
    "    else:\n",
    "        result = 1\n",
    "        for i in range(1, n + 1):\n",
    "            result *= i\n",
    "        return result\n",
    "\n",
    "# Example usage\n",
    "number = 5\n",
    "factorial_value = factorial(number)\n",
    "print(factorial_value)\n"
   ]
  },
  {
   "cell_type": "code",
   "execution_count": 6,
   "id": "b49cff17",
   "metadata": {},
   "outputs": [
    {
     "name": "stdout",
     "output_type": "stream",
     "text": [
      "True\n"
     ]
    }
   ],
   "source": [
    "# 8. Implement a function to check if a given number is prime.\n",
    "def is_prime(number):\n",
    "    if number < 2:\n",
    "        return False\n",
    "\n",
    "    for i in range(2, int(number ** 0.5) + 1):\n",
    "        if number % i == 0:\n",
    "            return False\n",
    "\n",
    "    return True\n",
    "\n",
    "# Example usage\n",
    "num = 17\n",
    "is_prime_number = is_prime(num)\n",
    "print(is_prime_number)\n"
   ]
  },
  {
   "cell_type": "code",
   "execution_count": 7,
   "id": "04cbb1c3",
   "metadata": {},
   "outputs": [
    {
     "name": "stdout",
     "output_type": "stream",
     "text": [
      "[1, 2, 3, 5, 8, 9]\n"
     ]
    }
   ],
   "source": [
    "#9. Write a Python program to sort a list of integers in ascending order.\n",
    "def ascending_sort(lst):\n",
    "    for i in range(len(lst)):\n",
    "        for j in range(i + 1, len(lst)):\n",
    "            if lst[i] > lst[j]:\n",
    "                lst[i], lst[j] = lst[j], lst[i]\n",
    "    return lst\n",
    "\n",
    "# Example usage\n",
    "numbers = [5, 2, 8, 1, 9, 3]\n",
    "sorted_numbers = ascending_sort(numbers)\n",
    "print(sorted_numbers)\n"
   ]
  },
  {
   "cell_type": "code",
   "execution_count": 8,
   "id": "6c78a27d",
   "metadata": {},
   "outputs": [
    {
     "name": "stdout",
     "output_type": "stream",
     "text": [
      "15\n"
     ]
    }
   ],
   "source": [
    "# 10. Implement a function to find the sum of all numbers in a list.\n",
    "def calculate_sum(lst):\n",
    "    total_sum = 0\n",
    "    for num in lst:\n",
    "        total_sum += num\n",
    "    return total_sum\n",
    "\n",
    "# Example usage\n",
    "numbers = [1, 2, 3, 4, 5]\n",
    "sum_of_numbers = calculate_sum(numbers)\n",
    "print(sum_of_numbers)\n"
   ]
  },
  {
   "cell_type": "code",
   "execution_count": 13,
   "id": "45d57bfd",
   "metadata": {},
   "outputs": [
    {
     "name": "stdout",
     "output_type": "stream",
     "text": [
      "3\n"
     ]
    }
   ],
   "source": [
    "# 15. Write a program to find the median of a list of numbers.\n",
    "def find_median(numbers):\n",
    "    sorted_numbers = sorted(numbers)\n",
    "    length = len(sorted_numbers)\n",
    "\n",
    "    if length % 2 == 0:\n",
    "        mid1 = sorted_numbers[length // 2 - 1]\n",
    "        mid2 = sorted_numbers[length // 2]\n",
    "        median = (mid1 + mid2) / 2\n",
    "    else:\n",
    "        median = sorted_numbers[length // 2]\n",
    "\n",
    "    return median\n",
    "\n",
    "# Example usage\n",
    "numbers = [3, 1, 4, 2, 5]\n",
    "median_value = find_median(numbers)\n",
    "print(median_value)\n"
   ]
  },
  {
   "cell_type": "code",
   "execution_count": 10,
   "id": "6740f57d",
   "metadata": {},
   "outputs": [
    {
     "name": "stdout",
     "output_type": "stream",
     "text": [
      "[4, 5]\n"
     ]
    }
   ],
   "source": [
    "#11. Write a program to find the common elements between two lists.\n",
    "def find_common_elements(list1, list2):\n",
    "    common_elements = []\n",
    "    for element in list1:\n",
    "        if element in list2:\n",
    "            common_elements.append(element)\n",
    "    return common_elements\n",
    "\n",
    "# Example usage\n",
    "list1 = [1, 2, 3, 4, 5]\n",
    "list2 = [4, 5, 6, 7, 8]\n",
    "common_elements = find_common_elements(list1, list2)\n",
    "print(common_elements)\n"
   ]
  },
  {
   "cell_type": "code",
   "execution_count": 9,
   "id": "08bf061e",
   "metadata": {},
   "outputs": [
    {
     "name": "stdout",
     "output_type": "stream",
     "text": [
      "True\n",
      "False\n"
     ]
    }
   ],
   "source": [
    "# 12. Implement a function to check if a given string is an anagram of another string.\n",
    "def is_anagram(str1, str2):\n",
    "    # Remove spaces and convert to lowercase\n",
    "    str1 = str1.replace(\" \", \"\").lower()\n",
    "    str2 = str2.replace(\" \", \"\").lower()\n",
    "\n",
    "    # Check if the sorted strings are equal\n",
    "    return sorted(str1) == sorted(str2)\n",
    "\n",
    "# Example usage\n",
    "string1 = \"listen\"\n",
    "string2 = \"silent\"\n",
    "print(is_anagram(string1, string2))  # True\n",
    "\n",
    "string3 = \"hello\"\n",
    "string4 = \"world\"\n",
    "print(is_anagram(string3, string4))  # False\n"
   ]
  },
  {
   "cell_type": "code",
   "execution_count": 12,
   "id": "bb3036d9",
   "metadata": {},
   "outputs": [
    {
     "name": "stdout",
     "output_type": "stream",
     "text": [
      "abc\n",
      "acb\n",
      "bac\n",
      "bca\n",
      "cab\n",
      "cba\n"
     ]
    }
   ],
   "source": [
    "# 13. Write a Python program to generate all permutations of a given string.\n",
    "def permute_string(input_string):\n",
    "    if len(input_string) == 1:\n",
    "        return [input_string]\n",
    "\n",
    "    permutations = []\n",
    "    for i in range(len(input_string)):\n",
    "        char = input_string[i]\n",
    "        remaining_chars = input_string[:i] + input_string[i+1:]\n",
    "        for permutation in permute_string(remaining_chars):\n",
    "            permutations.append(char + permutation)\n",
    "\n",
    "    return permutations\n",
    "\n",
    "# Example usage\n",
    "string = \"abc\"\n",
    "permutations = permute_string(string)\n",
    "for permutation in permutations:\n",
    "    print(permutation)\n"
   ]
  },
  {
   "cell_type": "code",
   "execution_count": 11,
   "id": "d644a13f",
   "metadata": {},
   "outputs": [
    {
     "name": "stdout",
     "output_type": "stream",
     "text": [
      "[0, 1, 1, 2, 3, 5, 8, 13, 21, 34]\n"
     ]
    }
   ],
   "source": [
    "# 14. Implement a function to calculate the Fibonacci sequence up to a given number of terms.\n",
    "def fibonacci_sequence(num_terms):\n",
    "    sequence = []\n",
    "    if num_terms >= 1:\n",
    "        sequence.append(0)\n",
    "    if num_terms >= 2:\n",
    "        sequence.append(1)\n",
    "\n",
    "    for i in range(2, num_terms):\n",
    "        next_term = sequence[i-1] + sequence[i-2]\n",
    "        sequence.append(next_term)\n",
    "\n",
    "    return sequence\n",
    "\n",
    "# Example usage\n",
    "terms = 10\n",
    "fib_sequence = fibonacci_sequence(terms)\n",
    "print(fib_sequence)\n",
    "\n"
   ]
  },
  {
   "cell_type": "code",
   "execution_count": null,
   "id": "c77916a0",
   "metadata": {},
   "outputs": [],
   "source": [
    "16. Implement a function to check if a given list is sorted in non-decreasing order.\n",
    "\n"
   ]
  },
  {
   "cell_type": "code",
   "execution_count": 14,
   "id": "5727f586",
   "metadata": {},
   "outputs": [
    {
     "name": "stdout",
     "output_type": "stream",
     "text": [
      "[4, 5]\n"
     ]
    }
   ],
   "source": [
    "# 16\n",
    "def find_intersection(list1, list2):\n",
    "    return list(set(list1) & set(list2))\n",
    "\n",
    "# Example usage\n",
    "list1 = [1, 2, 3, 4, 5]\n",
    "list2 = [4, 5, 6, 7, 8]\n",
    "intersection = find_intersection(list1, list2)\n",
    "print(intersection)\n"
   ]
  },
  {
   "cell_type": "code",
   "execution_count": 15,
   "id": "7b017d64",
   "metadata": {},
   "outputs": [
    {
     "name": "stdout",
     "output_type": "stream",
     "text": [
      "6\n"
     ]
    }
   ],
   "source": [
    "# 18. Implement a function to find the maximum subarray sum in a given list.\n",
    "def max_subarray_sum(lst):\n",
    "    if not lst:\n",
    "        return 0\n",
    "\n",
    "    max_sum = current_sum = lst[0]\n",
    "\n",
    "    for i in range(1, len(lst)):\n",
    "        current_sum = max(lst[i], current_sum + lst[i])\n",
    "        max_sum = max(max_sum, current_sum)\n",
    "\n",
    "    return max_sum\n",
    "\n",
    "# Example usage\n",
    "numbers = [-2, 1, -3, 4, -1, 2, 1, -5, 4]\n",
    "max_sum = max_subarray_sum(numbers)\n",
    "print(max_sum)\n"
   ]
  },
  {
   "cell_type": "code",
   "execution_count": 16,
   "id": "d1d77e5f",
   "metadata": {},
   "outputs": [
    {
     "name": "stdout",
     "output_type": "stream",
     "text": [
      "Hll, Wrld!\n"
     ]
    }
   ],
   "source": [
    "# 19. Write a program to remove all vowels from a given string.\n",
    "def remove_vowels(input_string):\n",
    "    vowels = 'aeiouAEIOU'\n",
    "    without_vowels = ''\n",
    "\n",
    "    for char in input_string:\n",
    "        if char not in vowels:\n",
    "            without_vowels += char\n",
    "\n",
    "    return without_vowels\n",
    "\n",
    "# Example usage\n",
    "string = \"Hello, World!\"\n",
    "result = remove_vowels(string)\n",
    "print(result)\n"
   ]
  },
  {
   "cell_type": "code",
   "execution_count": 18,
   "id": "72a59d19",
   "metadata": {},
   "outputs": [
    {
     "name": "stdout",
     "output_type": "stream",
     "text": [
      "True\n",
      "False\n"
     ]
    }
   ],
   "source": [
    "# 21. Write a Python program to check if two strings are anagrams of each other.\n",
    "def are_anagrams(str1, str2):\n",
    "    # Remove spaces and convert to lowercase\n",
    "    str1 = str1.replace(\" \", \"\").lower()\n",
    "    str2 = str2.replace(\" \", \"\").lower()\n",
    "\n",
    "    # Check if the sorted strings are equal\n",
    "    return sorted(str1) == sorted(str2)\n",
    "\n",
    "# Example usage\n",
    "string1 = \"listen\"\n",
    "string2 = \"silent\"\n",
    "print(are_anagrams(string1, string2))  # True\n",
    "\n",
    "string3 = \"hello\"\n",
    "string4 = \"world\"\n",
    "print(are_anagrams(string3, string4))  # False\n"
   ]
  },
  {
   "cell_type": "code",
   "execution_count": 17,
   "id": "381b172a",
   "metadata": {},
   "outputs": [
    {
     "name": "stdout",
     "output_type": "stream",
     "text": [
      "b\n"
     ]
    }
   ],
   "source": [
    "#22. Implement a function to find the first non-repeating character in a string.\n",
    "def find_first_non_repeating_character(input_string):\n",
    "    char_count = {}\n",
    "\n",
    "    # Count occurrences of each character\n",
    "    for char in input_string:\n",
    "        if char in char_count:\n",
    "            char_count[char] += 1\n",
    "        else:\n",
    "            char_count[char] = 1\n",
    "\n",
    "    # Find the first non-repeating character\n",
    "    for char in input_string:\n",
    "        if char_count[char] == 1:\n",
    "            return char\n",
    "\n",
    "    return None  # No non-repeating character found\n",
    "\n",
    "# Example usage\n",
    "string = \"aabccd\"\n",
    "first_non_repeating_char = find_first_non_repeating_character(string)\n",
    "print(first_non_repeating_char)\n"
   ]
  },
  {
   "cell_type": "code",
   "execution_count": null,
   "id": "be043eed",
   "metadata": {},
   "outputs": [],
   "source": [
    "# 23. Write a program to find the prime factors of a given number.\n",
    "def find_prime_factors(number):\n",
    "    prime_factors = []\n",
    "    divisor = 2\n",
    "\n",
    "    while divisor <= number:\n",
    "        if number % divisor == 0:\n",
    "            prime_factors.append(divisor)\n",
    "            number //= divisor\n",
    "        else:\n",
    "            divisor += 1\n",
    "\n",
    "    return prime_factors\n",
    "\n",
    "# Example usage\n",
    "num = 84\n",
    "prime_factors = find_prime_factors(num)\n",
    "print(prime_factors)\n"
   ]
  },
  {
   "cell_type": "code",
   "execution_count": null,
   "id": "9377f6c7",
   "metadata": {},
   "outputs": [],
   "source": []
  },
  {
   "cell_type": "code",
   "execution_count": 1,
   "id": "a5cacd40",
   "metadata": {},
   "outputs": [],
   "source": [
    "#25. Write a Python program to merge two sorted lists into a single sorted list.\n",
    "def merge_sorted_lists(list1, list2):\n",
    "    merged_list = []\n",
    "    i = 0\n",
    "    j = 0\n",
    "\n",
    "    while i < len(list1) and j < len(list2):\n",
    "        if list1[i] < list2[j]:\n",
    "            merged_list.append(list1[i])\n",
    "            i += 1\n",
    "        else:\n",
    "            merged_list.append(list2[j])\n",
    "            j += 1\n",
    "\n",
    "    while i < len(list1):\n",
    "        merged_list.append(list1[i])\n",
    "        i += 1\n",
    "\n",
    "    while j < len(list2):\n",
    "        merged_list.append(list2[j])\n",
    "        j += 1\n",
    "\n",
    "    return merged_list\n",
    "\n",
    "\n",
    "\n"
   ]
  },
  {
   "cell_type": "code",
   "execution_count": null,
   "id": "e2f2a8e6",
   "metadata": {},
   "outputs": [],
   "source": [
    "#30. Implement a function to find the minimum element in a rotated sorted list.\n",
    "def find_minimum_element(nums):\n",
    "    left = 0\n",
    "    right = len(nums) - 1\n",
    "\n",
    "    if nums[left] < nums[right]:\n",
    "        return nums[left]\n",
    "\n",
    "    while left < right:\n",
    "        mid = (left + right) // 2\n",
    "\n",
    "        # Check if mid element is the minimum\n",
    "        if nums[mid] > nums[mid + 1]:\n",
    "            return nums[mid + 1]\n",
    "\n",
    "        # Check if mid element is the maximum\n",
    "        if nums[mid] < nums[mid - 1]:\n",
    "            return nums[mid]\n",
    "\n",
    "        if nums[mid] > nums[right]:\n",
    "            left = mid + 1\n",
    "\n",
    "        # If the right half is sorted, search the left half\n",
    "        else:\n",
    "            right = mid - 1\n",
    "\n",
    "    return nums[left]\n",
    "\n",
    "\n"
   ]
  },
  {
   "cell_type": "code",
   "execution_count": 2,
   "id": "8d58844f",
   "metadata": {},
   "outputs": [
    {
     "name": "stdout",
     "output_type": "stream",
     "text": [
      "GCD: 12\n"
     ]
    }
   ],
   "source": [
    "#27. Write a program to find the greatest common divisor (GCD) of two numbers.\n",
    "def find_gcd(a, b):\n",
    "    while b != 0:\n",
    "        a, b = b, a % b\n",
    "\n",
    "    return a\n",
    "\n",
    "\n",
    "# Example usage\n",
    "num1 = 48\n",
    "num2 = 60\n",
    "gcd = find_gcd(num1, num2)\n",
    "print(\"GCD:\", gcd)\n",
    "\n"
   ]
  },
  {
   "cell_type": "code",
   "execution_count": 3,
   "id": "f8f1faa9",
   "metadata": {},
   "outputs": [
    {
     "name": "stdout",
     "output_type": "stream",
     "text": [
      "Mode: 3\n"
     ]
    }
   ],
   "source": [
    "#26. Implement a function to find the mode of a list of numbers.\n",
    "import statistics\n",
    "\n",
    "def find_mode(numbers):\n",
    "    try:\n",
    "        mode = statistics.mode(numbers)\n",
    "        return mode\n",
    "    except statistics.StatisticsError:\n",
    "        return None\n",
    "\n",
    "\n",
    "# Example usage\n",
    "number_list = [1, 2, 3, 3, 4, 4, 5, 6]\n",
    "mode_value = find_mode(number_list)\n",
    "\n",
    "if mode_value is not None:\n",
    "    print(\"Mode:\", mode_value)\n",
    "else:\n",
    "    print(\"No mode found.\")\n"
   ]
  },
  {
   "cell_type": "code",
   "execution_count": 4,
   "id": "e9280ec5",
   "metadata": {},
   "outputs": [
    {
     "name": "stdout",
     "output_type": "stream",
     "text": [
      "Square root: 4.0\n"
     ]
    }
   ],
   "source": [
    "#28. Implement a function to calculate the square root of a given number.\n",
    "import math\n",
    "\n",
    "def calculate_square_root(number):\n",
    "    if number < 0:\n",
    "        return None\n",
    "\n",
    "    square_root = math.sqrt(number)\n",
    "    return square_root\n",
    "\n",
    "\n",
    "# Example usage\n",
    "num = 16\n",
    "square_root = calculate_square_root(num)\n",
    "\n",
    "if square_root is not None:\n",
    "    print(\"Square root:\", square_root)\n",
    "else:\n",
    "    print(\"Invalid input: Cannot calculate square root of a negative number.\")\n",
    "\n",
    "    "
   ]
  },
  {
   "cell_type": "code",
   "execution_count": 5,
   "id": "d952395d",
   "metadata": {},
   "outputs": [
    {
     "name": "stdout",
     "output_type": "stream",
     "text": [
      "The string is a valid palindrome.\n"
     ]
    }
   ],
   "source": [
    "#29. Write a Python program to check if a given string is a valid palindrome ignoring non-alphanumeric characters.\n",
    "import re\n",
    "\n",
    "def is_valid_palindrome(string):\n",
    "    # Remove non-alphanumeric characters\n",
    "    alphanumeric_string = re.sub(r'\\W+', '', string.lower())\n",
    "\n",
    "    # Check if the alphanumeric string is a palindrome\n",
    "    return alphanumeric_string == alphanumeric_string[::-1]\n",
    "\n",
    "\n",
    "# Example \n",
    "input_string = \"A man, a plan, a canal, Panama!\"\n",
    "is_palindrome = is_valid_palindrome(input_string)\n",
    "\n",
    "if is_palindrome:\n",
    "    print(\"The string is a valid palindrome.\")\n",
    "else:\n",
    "    print(\"The string is not a valid palindrome.\")\n"
   ]
  },
  {
   "cell_type": "code",
   "execution_count": 6,
   "id": "dc6df74e",
   "metadata": {},
   "outputs": [
    {
     "name": "stdout",
     "output_type": "stream",
     "text": [
      "The number is a perfect square.\n"
     ]
    }
   ],
   "source": [
    "# 35. Write a program to check if a given number is a perfect square.\n",
    "import math\n",
    "\n",
    "def is_perfect_square(number):\n",
    "    if number < 0:\n",
    "        return False\n",
    "\n",
    "    sqrt = int(math.sqrt(number))\n",
    "    return sqrt * sqrt == number\n",
    "\n",
    "\n",
    "# Example \n",
    "num = 16\n",
    "if is_perfect_square(num):\n",
    "    print(\"The number is a perfect square.\")\n",
    "else:\n",
    "    print(\"The number is not a perfect square.\")\n"
   ]
  },
  {
   "cell_type": "code",
   "execution_count": 7,
   "id": "20dce002",
   "metadata": {},
   "outputs": [
    {
     "name": "stdout",
     "output_type": "stream",
     "text": [
      "Product: 120\n"
     ]
    }
   ],
   "source": [
    "# 36. Implement a function to calculate the product of all elements in a list.\n",
    "def calculate_product(numbers):\n",
    "    product = 1\n",
    "    for num in numbers:\n",
    "        product *= num\n",
    "    return product\n",
    "\n",
    "\n",
    "# Example usage\n",
    "number_list = [2, 3, 4, 5]\n",
    "product_result = calculate_product(number_list)\n",
    "print(\"Product:\", product_result)\n"
   ]
  },
  {
   "cell_type": "code",
   "execution_count": 8,
   "id": "75ae30fd",
   "metadata": {},
   "outputs": [
    {
     "name": "stdout",
     "output_type": "stream",
     "text": [
      "Reversed sentence: today? you are how Hello,\n"
     ]
    }
   ],
   "source": [
    "# 37. Write a Python program to reverse the order of words in a sentence while preserving the word order.\n",
    "def reverse_sentence(sentence):\n",
    "    words = sentence.split()\n",
    "    reversed_words = words[::-1]\n",
    "    reversed_sentence = ' '.join(reversed_words)\n",
    "    return reversed_sentence\n",
    "\n",
    "\n",
    "# Example usage\n",
    "input_sentence = \"Hello, how are you today?\"\n",
    "reversed_sentence = reverse_sentence(input_sentence)\n",
    "print(\"Reversed sentence:\", reversed_sentence)\n"
   ]
  },
  {
   "cell_type": "code",
   "execution_count": 9,
   "id": "fc2d5b8b",
   "metadata": {},
   "outputs": [
    {
     "name": "stdout",
     "output_type": "stream",
     "text": [
      "Missing number: 4\n"
     ]
    }
   ],
   "source": [
    "# 38. Implement a function to find the missing number in a given list of consecutive numbers.\n",
    "def find_missing_number(numbers):\n",
    "    n = len(numbers) + 1\n",
    "    total_sum = (n * (n + 1)) // 2\n",
    "    actual_sum = sum(numbers)\n",
    "    missing_number = total_sum - actual_sum\n",
    "    return missing_number\n",
    "\n",
    "\n",
    "# Example usage\n",
    "number_list = [1, 2, 3, 5, 6]\n",
    "missing_num = find_missing_number(number_list)\n",
    "print(\"Missing number:\", missing_num)\n"
   ]
  },
  {
   "cell_type": "code",
   "execution_count": null,
   "id": "6954390d",
   "metadata": {},
   "outputs": [],
   "source": [
    "# 39. Write a program to find the sum of digits of a given number.\n",
    "def sum_of_digits(number):\n",
    "    sum = 0\n",
    "    while number != 0:\n",
    "        digit = number % 10\n",
    "        sum += digit\n",
    "        number //= 10\n",
    "    return sum\n",
    "\n",
    "\n",
    "# Example usage\n",
    "num = 12345\n",
    "digit_sum = sum_of_digits(num)\n",
    "print(\"Sum of digits:\", digit_sum)\n"
   ]
  },
  {
   "cell_type": "code",
   "execution_count": 12,
   "id": "ef19477c",
   "metadata": {},
   "outputs": [
    {
     "name": "stdout",
     "output_type": "stream",
     "text": [
      "Longest palindrome substring: aba\n"
     ]
    }
   ],
   "source": [
    "# 42. Implement a function to find the longest palindrome substring in a given string.\n",
    "def find_longest_palindrome(s):\n",
    "    if len(s) < 2:\n",
    "        return s\n",
    "\n",
    "    start = 0\n",
    "    end = 0\n",
    "\n",
    "    for i in range(len(s)):\n",
    "        len1 = expand_around_center(s, i, i)  # Odd-length palindromes\n",
    "        len2 = expand_around_center(s, i, i + 1)  # Even-length palindromes\n",
    "        max_len = max(len1, len2)\n",
    "\n",
    "        if max_len > end - start:\n",
    "            start = i - (max_len - 1) // 2\n",
    "            end = i + max_len // 2\n",
    "\n",
    "    return s[start:end+1]\n",
    "\n",
    "\n",
    "def expand_around_center(s, left, right):\n",
    "    while left >= 0 and right < len(s) and s[left] == s[right]:\n",
    "        left -= 1\n",
    "        right += 1\n",
    "\n",
    "    return right - left - 1\n",
    "\n",
    "\n",
    "# Example usage\n",
    "input_string = \"babad\"\n",
    "longest_palindrome = find_longest_palindrome(input_string)\n",
    "print(\"Longest palindrome substring:\", longest_palindrome)\n"
   ]
  },
  {
   "cell_type": "code",
   "execution_count": 11,
   "id": "cc984e74",
   "metadata": {},
   "outputs": [
    {
     "name": "stdout",
     "output_type": "stream",
     "text": [
      "Occurrences of 3 : 3\n"
     ]
    }
   ],
   "source": [
    "# 43. Write a program to find the number of occurrences of a given element in a list.\n",
    "def count_occurrences(numbers, element):\n",
    "    count = 0\n",
    "    for num in numbers:\n",
    "        if num == element:\n",
    "            count += 1\n",
    "    return count\n",
    "\n",
    "\n",
    "# Example usage\n",
    "number_list = [1, 2, 3, 3, 4, 3, 5]\n",
    "target_element = 3\n",
    "occurrence_count = count_occurrences(number_list, target_element)\n",
    "print(\"Occurrences of\", target_element, \":\", occurrence_count)\n"
   ]
  },
  {
   "cell_type": "code",
   "execution_count": 10,
   "id": "68ae2665",
   "metadata": {},
   "outputs": [
    {
     "name": "stdout",
     "output_type": "stream",
     "text": [
      "First missing positive: 2\n"
     ]
    }
   ],
   "source": [
    "\n",
    "#46. Implement a function to find the first missing positive\n",
    "def find_first_missing_positive(nums):\n",
    "    # Step 1: Move all non-positive numbers to the left side\n",
    "    i = 0\n",
    "    n = len(nums)\n",
    "    while i < n:\n",
    "        if nums[i] <= 0 or nums[i] > n:\n",
    "            i += 1\n",
    "        elif nums[nums[i] - 1] != nums[i]:\n",
    "            nums[nums[i] - 1], nums[i] = nums[i], nums[nums[i] - 1]\n",
    "        else:\n",
    "            i += 1\n",
    "\n",
    "    # Step 2: Find the first missing positive\n",
    "    for i in range(n):\n",
    "        if nums[i] != i + 1:\n",
    "            return i + 1\n",
    "\n",
    "    return n + 1\n",
    "\n",
    "\n",
    "# Example usage\n",
    "number_list = [3, 4, -1, 1]\n",
    "missing_positive = find_first_missing_positive(number_list)\n",
    "print(\"First missing positive:\", missing_positive)\n"
   ]
  },
  {
   "cell_type": "code",
   "execution_count": null,
   "id": "c7e402de",
   "metadata": {},
   "outputs": [],
   "source": []
  },
  {
   "cell_type": "code",
   "execution_count": null,
   "id": "e19ca962",
   "metadata": {},
   "outputs": [],
   "source": []
  },
  {
   "cell_type": "code",
   "execution_count": null,
   "id": "581f8025",
   "metadata": {},
   "outputs": [],
   "source": []
  },
  {
   "cell_type": "raw",
   "id": "09c6c13b",
   "metadata": {},
   "source": []
  },
  {
   "cell_type": "markdown",
   "id": "48f91180",
   "metadata": {},
   "source": []
  },
  {
   "cell_type": "markdown",
   "id": "d1c6dc28",
   "metadata": {},
   "source": []
  },
  {
   "cell_type": "markdown",
   "id": "33bbeca3",
   "metadata": {},
   "source": []
  },
  {
   "cell_type": "markdown",
   "id": "7426f8ee",
   "metadata": {},
   "source": [
    "\n"
   ]
  },
  {
   "cell_type": "markdown",
   "id": "789feed9",
   "metadata": {},
   "source": []
  },
  {
   "cell_type": "markdown",
   "id": "561ae455",
   "metadata": {},
   "source": []
  },
  {
   "cell_type": "markdown",
   "id": "8ab5010e",
   "metadata": {},
   "source": []
  },
  {
   "cell_type": "markdown",
   "id": "5f3608ad",
   "metadata": {},
   "source": []
  },
  {
   "cell_type": "markdown",
   "id": "80661733",
   "metadata": {},
   "source": []
  },
  {
   "cell_type": "markdown",
   "id": "faceb392",
   "metadata": {},
   "source": []
  },
  {
   "cell_type": "markdown",
   "id": "1b8f5339",
   "metadata": {},
   "source": []
  },
  {
   "cell_type": "markdown",
   "id": "05d8d7ed",
   "metadata": {},
   "source": []
  },
  {
   "cell_type": "markdown",
   "id": "cfa9b9f0",
   "metadata": {},
   "source": []
  },
  {
   "cell_type": "markdown",
   "id": "9b3d074a",
   "metadata": {},
   "source": []
  },
  {
   "cell_type": "markdown",
   "id": "3e7c9c35",
   "metadata": {},
   "source": []
  },
  {
   "cell_type": "markdown",
   "id": "086d2317",
   "metadata": {},
   "source": []
  }
 ],
 "metadata": {
  "kernelspec": {
   "display_name": "Python 3 (ipykernel)",
   "language": "python",
   "name": "python3"
  },
  "language_info": {
   "codemirror_mode": {
    "name": "ipython",
    "version": 3
   },
   "file_extension": ".py",
   "mimetype": "text/x-python",
   "name": "python",
   "nbconvert_exporter": "python",
   "pygments_lexer": "ipython3",
   "version": "3.9.12"
  }
 },
 "nbformat": 4,
 "nbformat_minor": 5
}
