{
 "cells": [
  {
   "cell_type": "raw",
   "id": "08c71f93",
   "metadata": {},
   "source": [
    "1. To what does a relative path refer?\n",
    "when a path is not relative to its current directory then it is considered to be a relative path.\n",
    "\n",
    "2. What does an absolute path start with your operating system?\n",
    "path will begin at the home directory of our computer and will end with the file or directory that we wish to access. Absolute paths ensure that Python can find the exact file on your computer.\n",
    "\n",
    "\n",
    "3. What do the functions os.getcwd() and os.chdir() do?\n",
    "it tells us the current working directory of our system and chdir allows us to change the current working directory\n",
    "\n",
    "\n",
    "4. What are the . and .. folders?\n",
    "ANS)    . represents the directory we are in and .. represents the parent directory.\n",
    "\n",
    "\n",
    "5. In C:\\bacon\\eggs\\spam.txt, which part is the dir name, and which part is the base name? \n",
    "\n",
    "starting C:\\bacon\\eggs is the dir name and after that there is base name spam.txt\n",
    "\n",
    "\n",
    "\n",
    "\n",
    "6. What are the three “mode” arguments that can be passed to the open() function?\n",
    "\n",
    "read write and append are the three modes that can be passes to open() function  \n",
    "\n",
    "\n",
    "\n",
    "7. What happens if an existing file is opened in write mode?\n",
    "whatever was written in it will be discarded and it will be considered as a new empty file  \n",
    "\n",
    "\n",
    "8. How do you tell the difference between read() and readlines()? \n",
    "read() reads the file as an individual string, and so allows relatively easy file-wide manipulations, such as a file-wide regex search or substitution. f. readline() reads a single line of the file, allowing the user to parse a single line without necessarily reading the entire file. \n",
    "\n",
    "\n",
    "\n",
    "9. What data structure does a shelf value resemble?\n",
    "A shelf value resembles a dictionary value; it has keys and values, along with keys() and values() methods that work similarly to the dictionary methods of the same names."
   ]
  }
 ],
 "metadata": {
  "kernelspec": {
   "display_name": "Python 3 (ipykernel)",
   "language": "python",
   "name": "python3"
  },
  "language_info": {
   "codemirror_mode": {
    "name": "ipython",
    "version": 3
   },
   "file_extension": ".py",
   "mimetype": "text/x-python",
   "name": "python",
   "nbconvert_exporter": "python",
   "pygments_lexer": "ipython3",
   "version": "3.9.7"
  }
 },
 "nbformat": 4,
 "nbformat_minor": 5
}
