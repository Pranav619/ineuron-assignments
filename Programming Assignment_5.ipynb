{
 "cells": [
  {
   "cell_type": "markdown",
   "id": "ff8d41c7",
   "metadata": {},
   "source": [
    "1. Write a Python Program to Find LCM?  \n",
    "2. Write a Python Program to Find HCF? \n",
    "3. Write a Python Program to Convert Decimal to Binary, Octal and Hexadecimal? \n",
    "4. Write a Python Program To Find ASCII value of a character? \n",
    "5. Write a Python Program to Make a Simple Calculator with 4 basic mathematical operations ?"
   ]
  },
  {
   "cell_type": "markdown",
   "id": "c74eeab1",
   "metadata": {},
   "source": [
    "# 1"
   ]
  },
  {
   "cell_type": "code",
   "execution_count": 45,
   "id": "5e10c3bd",
   "metadata": {},
   "outputs": [
    {
     "name": "stdout",
     "output_type": "stream",
     "text": [
      "LCM of (2,5) is 10\n",
      "LCM of (30,15) is 30\n",
      "LCM of (22,44) is 44\n"
     ]
    }
   ],
   "source": [
    "\n",
    "def lcm(x,y):\n",
    "    if x%y!=0 and y%x!=0:\n",
    "            print(f'LCM of ({x},{y}) is {x*y}')\n",
    "    elif x>y:\n",
    "        print(f'LCM of ({x},{y}) is {x}')\n",
    "    else:\n",
    "        print(f'LCM of ({x},{y}) is {y}')\n",
    "lcm(2,5)  \n",
    "lcm(30,15)\n",
    "lcm(22,44)     "
   ]
  },
  {
   "cell_type": "markdown",
   "id": "5d2cf164",
   "metadata": {},
   "source": [
    "# 2"
   ]
  },
  {
   "cell_type": "code",
   "execution_count": 3,
   "id": "ac6d283e",
   "metadata": {},
   "outputs": [
    {
     "name": "stdout",
     "output_type": "stream",
     "text": [
      "The HCF of 6,12 is 6\n",
      "The HCF of 2,3 is 1\n",
      "The HCF of 10,23 is 1\n"
     ]
    }
   ],
   "source": [
    "def findTheHcf(x_term,y_term):\n",
    "    if x_term>y_term:\n",
    "        smaller = y_term\n",
    "    else:\n",
    "        smaller = x_term\n",
    "    for ele in range(1,smaller+1):\n",
    "        if((x_term%ele == 0) and (y_term%ele == 0)):\n",
    "            hcf = ele\n",
    "    print(f'The HCF of {x_term},{y_term} is {hcf}')\n",
    "\n",
    "findTheHcf(6,12)\n",
    "findTheHcf(2,3)\n",
    "findTheHcf(10,23)"
   ]
  },
  {
   "cell_type": "markdown",
   "id": "0a8c7465",
   "metadata": {},
   "source": [
    "# 3"
   ]
  },
  {
   "cell_type": "code",
   "execution_count": 4,
   "id": "ffeb0441",
   "metadata": {},
   "outputs": [
    {
     "name": "stdout",
     "output_type": "stream",
     "text": [
      "Enter a Number: 5\n",
      "Binary Number -> 0b101\n",
      "Octal Number -> 0o5\n",
      "Hexadecimal Number -> 0x5\n"
     ]
    }
   ],
   "source": [
    "def DecimalToOther():\n",
    "    num = int(input('Enter a Number: '))\n",
    "    print(f'Binary Number -> {bin(num)}')\n",
    "    print(f'Octal Number -> {oct(num)}')    \n",
    "    print(f'Hexadecimal Number -> {hex(num)}')    \n",
    "\n",
    "DecimalToOther()"
   ]
  },
  {
   "cell_type": "markdown",
   "id": "469c372a",
   "metadata": {},
   "source": [
    "# 4"
   ]
  },
  {
   "cell_type": "code",
   "execution_count": 5,
   "id": "1e02ad6b",
   "metadata": {},
   "outputs": [
    {
     "name": "stdout",
     "output_type": "stream",
     "text": [
      "Enter a Character: a\n",
      "Ascii Character of a is 97\n"
     ]
    }
   ],
   "source": [
    "def charToAscii():\n",
    "    char = input('Enter a Character: ')\n",
    "    if len(char) > 1:\n",
    "        print('Please Enter a Single Character')\n",
    "    else:\n",
    "        print(f'Ascii Character of {char} is {ord(char)}')\n",
    "\n",
    "charToAscii()"
   ]
  },
  {
   "cell_type": "markdown",
   "id": "9329629c",
   "metadata": {},
   "source": [
    "# 5"
   ]
  },
  {
   "cell_type": "code",
   "execution_count": 10,
   "id": "c40a1d01",
   "metadata": {},
   "outputs": [
    {
     "name": "stdout",
     "output_type": "stream",
     "text": [
      "1 for +      2 for -    3 for *      and 4 for /4\n",
      "enter number 10\n",
      "enter number 5\n",
      "2.0\n"
     ]
    }
   ],
   "source": [
    "x= int(input('1 for +      2 for -    3 for *      and 4 for /'))\n",
    "def calculator():\n",
    "    if x==1:\n",
    "        a= int(input(\"enter number \"))\n",
    "        b= int(input(\"enter number \"))\n",
    "        print(\"addition is \", a+b)\n",
    "    elif x==2:\n",
    "        a= int(input(\"enter number \"))\n",
    "        b= int(input(\"enter number \"))\n",
    "        print(a-b)\n",
    "    elif x==3:\n",
    "        a= int(input(\"enter number \"))\n",
    "        b= int(input(\"enter number \"))\n",
    "        print(a*b)\n",
    "    elif x==4:\n",
    "        a= int(input(\"enter number \"))\n",
    "        b= int(input(\"enter number \"))\n",
    "        print(a/b)\n",
    "        \n",
    "calculator()\n",
    "    "
   ]
  },
  {
   "cell_type": "code",
   "execution_count": null,
   "id": "65f37bf9",
   "metadata": {},
   "outputs": [],
   "source": []
  }
 ],
 "metadata": {
  "kernelspec": {
   "display_name": "Python 3 (ipykernel)",
   "language": "python",
   "name": "python3"
  },
  "language_info": {
   "codemirror_mode": {
    "name": "ipython",
    "version": 3
   },
   "file_extension": ".py",
   "mimetype": "text/x-python",
   "name": "python",
   "nbconvert_exporter": "python",
   "pygments_lexer": "ipython3",
   "version": "3.9.7"
  }
 },
 "nbformat": 4,
 "nbformat_minor": 5
}
