{
 "cells": [
  {
   "cell_type": "markdown",
   "id": "1af9fdea",
   "metadata": {},
   "source": [
    "## Q1"
   ]
  },
  {
   "cell_type": "code",
   "execution_count": 1,
   "id": "66dbf206",
   "metadata": {},
   "outputs": [
    {
     "name": "stdout",
     "output_type": "stream",
     "text": [
      "[0, 1]\n"
     ]
    }
   ],
   "source": [
    "def twoSum(nums, target):\n",
    "    for i in range(len(nums)):\n",
    "        for j in range(i + 1, len(nums)):\n",
    "            if nums[i] + nums[j] == target:\n",
    "                return [i, j]\n",
    "    return []  # No solution found\n",
    "\n",
    "# Example usage\n",
    "nums = [2, 7, 11, 15]\n",
    "target = 9\n",
    "result = twoSum(nums, target)\n",
    "print(result)  # Output: [0, 1]\n"
   ]
  },
  {
   "cell_type": "code",
   "execution_count": null,
   "id": "60477936",
   "metadata": {},
   "outputs": [],
   "source": []
  },
  {
   "cell_type": "markdown",
   "id": "7163079b",
   "metadata": {},
   "source": [
    "## Q2"
   ]
  },
  {
   "cell_type": "code",
   "execution_count": null,
   "id": "ff5c913f",
   "metadata": {},
   "outputs": [],
   "source": [
    "# We can use 2 pointer approach here \n",
    "def removeElement(nums, val):\n",
    "    count = 0  # Variable to count elements not equal to val\n",
    "    i = 0  # Pointer to iterate through the array\n",
    "\n",
    "    for i in range(len(nums)):\n",
    "        if nums[i] != val:\n",
    "            nums[count] = nums[i]\n",
    "            count += 1\n",
    "\n",
    "    return count\n",
    "\n",
    "\n"
   ]
  },
  {
   "cell_type": "code",
   "execution_count": null,
   "id": "19815884",
   "metadata": {},
   "outputs": [],
   "source": []
  },
  {
   "cell_type": "markdown",
   "id": "e084ba1b",
   "metadata": {},
   "source": [
    "## Q3"
   ]
  },
  {
   "cell_type": "code",
   "execution_count": null,
   "id": "f95e1caf",
   "metadata": {},
   "outputs": [],
   "source": [
    "\n",
    "# simply used binary search and complexity came O(log N)\n",
    "def searchInsert(nums, target):\n",
    "    left = 0\n",
    "    right = len(nums) - 1\n",
    "\n",
    "    while left <= right:\n",
    "        mid = (left + right) // 2\n",
    "        if nums[mid] == target:\n",
    "            return mid\n",
    "        elif nums[mid] > target:\n",
    "            right = mid - 1\n",
    "        else:\n",
    "            left = mid + 1\n",
    "\n",
    "    return left\n",
    "\n",
    "\n"
   ]
  },
  {
   "cell_type": "code",
   "execution_count": null,
   "id": "2566ef6c",
   "metadata": {},
   "outputs": [],
   "source": []
  },
  {
   "cell_type": "markdown",
   "id": "f34877dd",
   "metadata": {},
   "source": [
    "## Q4"
   ]
  },
  {
   "cell_type": "code",
   "execution_count": null,
   "id": "1c4691f5",
   "metadata": {},
   "outputs": [],
   "source": [
    "def plusOne(digits):\n",
    "    carry = 1\n",
    "\n",
    "    for i in range(len(digits)-1, -1, -1):\n",
    "        digits[i] += carry\n",
    "        if digits[i] == 10:\n",
    "            digits[i] = 0\n",
    "        else:\n",
    "            carry = 0\n",
    "            break\n",
    "\n",
    "    if carry == 1:\n",
    "        digits.insert(0, 1)\n",
    "\n",
    "    return digits\n",
    "\n"
   ]
  },
  {
   "cell_type": "code",
   "execution_count": null,
   "id": "18ae1222",
   "metadata": {},
   "outputs": [],
   "source": []
  },
  {
   "cell_type": "markdown",
   "id": "7ce19264",
   "metadata": {},
   "source": [
    "## Q5"
   ]
  },
  {
   "cell_type": "code",
   "execution_count": null,
   "id": "66732380",
   "metadata": {},
   "outputs": [],
   "source": [
    "\n",
    "## used merge sort algorithm here \n",
    "\n",
    "def merge(nums1, m, nums2, n):\n",
    "    p1 = m - 1\n",
    "    p2 = n - 1\n",
    "    p = m + n - 1\n",
    "\n",
    "    while p1 >= 0 and p2 >= 0:\n",
    "        if nums1[p1] >= nums2[p2]:\n",
    "            nums1[p] = nums1[p1]\n",
    "            p1 -= 1\n",
    "        else:\n",
    "            nums1[p] = nums2[p2]\n",
    "            p2 -= 1\n",
    "        p -= 1\n",
    "\n",
    "    if p2 >= 0:\n",
    "        nums1[:p2+1] = nums2[:p2+1]\n",
    "\n",
    "    return nums1\n",
    "\n",
    "\n"
   ]
  },
  {
   "cell_type": "code",
   "execution_count": null,
   "id": "b740a90c",
   "metadata": {},
   "outputs": [],
   "source": []
  },
  {
   "cell_type": "code",
   "execution_count": null,
   "id": "55c5a89f",
   "metadata": {},
   "outputs": [],
   "source": []
  },
  {
   "cell_type": "markdown",
   "id": "0ccef9af",
   "metadata": {},
   "source": [
    "## Q6"
   ]
  },
  {
   "cell_type": "code",
   "execution_count": null,
   "id": "d5b7334e",
   "metadata": {},
   "outputs": [],
   "source": [
    "def containsDuplicate(nums):\n",
    "    seen = set()\n",
    "\n",
    "    for num in nums:\n",
    "        if num in seen:\n",
    "            return True\n",
    "        seen.add(num)\n",
    "\n",
    "    return False\n",
    "\n",
    "# Example usage\n",
    "nums = [1, 2, 3, 1]\n",
    "result = containsDuplicate(nums)\n",
    "print(result)  # Output: True\n"
   ]
  },
  {
   "cell_type": "code",
   "execution_count": null,
   "id": "3006b2e2",
   "metadata": {},
   "outputs": [],
   "source": []
  },
  {
   "cell_type": "markdown",
   "id": "e3d05781",
   "metadata": {},
   "source": [
    "## Q7"
   ]
  },
  {
   "cell_type": "code",
   "execution_count": null,
   "id": "2b12aa63",
   "metadata": {},
   "outputs": [],
   "source": [
    "def moveZeroes(nums):\n",
    "    nonzeroIndex = 0\n",
    "\n",
    "    for i in range(len(nums)):\n",
    "        if nums[i] != 0:\n",
    "            nums[i], nums[nonzeroIndex] = nums[nonzeroIndex], nums[i]\n",
    "            nonzeroIndex += 1\n",
    "\n",
    "    for i in range(nonzeroIndex, len(nums)):\n",
    "        nums[i] = 0\n",
    "\n",
    "    return nums\n",
    "\n",
    "\n"
   ]
  },
  {
   "cell_type": "code",
   "execution_count": null,
   "id": "2ebee9e9",
   "metadata": {},
   "outputs": [],
   "source": []
  },
  {
   "cell_type": "markdown",
   "id": "4584a5d0",
   "metadata": {},
   "source": [
    "## Q8"
   ]
  },
  {
   "cell_type": "code",
   "execution_count": null,
   "id": "e4281bf7",
   "metadata": {},
   "outputs": [],
   "source": [
    "def findErrorNums(nums):\n",
    "    seen = set()\n",
    "    duplicate = None\n",
    "    missing = None\n",
    "\n",
    "    for num in nums:\n",
    "        if num in seen:\n",
    "            duplicate = num\n",
    "        seen.add(num)\n",
    "\n",
    "    for i in range(1, len(nums) + 1):\n",
    "        if i not in seen:\n",
    "            missing = i\n",
    "            break\n",
    "\n",
    "    return [duplicate, missing]\n",
    "\n",
    "# Example usage\n",
    "nums = [1, 2, 2, 4]\n",
    "result = findErrorNums(nums)\n",
    "print(result)  # Output: [2, 3]\n"
   ]
  },
  {
   "cell_type": "code",
   "execution_count": null,
   "id": "2501ce9a",
   "metadata": {},
   "outputs": [],
   "source": []
  },
  {
   "cell_type": "markdown",
   "id": "b7593b20",
   "metadata": {},
   "source": []
  },
  {
   "cell_type": "code",
   "execution_count": null,
   "id": "3f8cd5d7",
   "metadata": {},
   "outputs": [],
   "source": []
  },
  {
   "cell_type": "code",
   "execution_count": null,
   "id": "e73aa980",
   "metadata": {},
   "outputs": [],
   "source": []
  },
  {
   "cell_type": "code",
   "execution_count": null,
   "id": "1db37704",
   "metadata": {},
   "outputs": [],
   "source": []
  }
 ],
 "metadata": {
  "kernelspec": {
   "display_name": "Python 3 (ipykernel)",
   "language": "python",
   "name": "python3"
  },
  "language_info": {
   "codemirror_mode": {
    "name": "ipython",
    "version": 3
   },
   "file_extension": ".py",
   "mimetype": "text/x-python",
   "name": "python",
   "nbconvert_exporter": "python",
   "pygments_lexer": "ipython3",
   "version": "3.9.12"
  }
 },
 "nbformat": 4,
 "nbformat_minor": 5
}
