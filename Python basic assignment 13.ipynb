{
 "cells": [
  {
   "cell_type": "raw",
   "id": "597407e7",
   "metadata": {},
   "source": [
    "1. What advantages do Excel spreadsheets have over CSV spreadsheets?\n",
    "Ans) ->Excel can perform VBA Coding, functions, formulas and create summaries easily when compared to CSV.\n",
    "-> Reading large data set is much easier for the end-user to read, comprehend and understand when compared to CSV.\n",
    "-> Excel manipulate data and stores it as-is. Excel also allows the user the add-in feature.\n",
    "\n",
    "\n",
    "2.What do you pass to csv.reader() and csv.writer() to create reader and writer objects?\n",
    "Ans) First, call open() and pass it 'w' to open a file in write mode. This will create the object you can then pass to csv.writer() to create a Writer object.\n",
    "A Reader object lets you iterate over lines in the CSV file and then you pass it in csv.reader\n",
    "\n",
    "\n",
    "3. What modes do File objects for reader and writer objects need to be opened in?\n",
    "In order to open a file for reading or writing purposes, we must use the built-in open() function. The open() function uses two arguments. First is the name of the file and second is for what purpose we want to open it .\n",
    "\n",
    "\n",
    "4. What method takes a list argument and writes it to a CSV file?\n",
    "writerows() method takes list and writes it to CSV file\n",
    "\n",
    "\n",
    "\n",
    "5. What do the keyword arguments delimiter and line terminator do?\n",
    " The delimiter is the character that appears between cells on a row. By default, the delimiter for a CSV file is a comma. The line terminator is the character that comes at the end of a row. The line terminator is a newline.  \n",
    "\n",
    "\n",
    "6. What function takes a string of JSON data and returns a Python data structure?\n",
    "loads() method return Python data structure of JSON string or data.\n",
    "\n",
    "\n",
    "7. What function takes a Python data structure and returns a string of JSON data?\n",
    "dumps() in Python"
   ]
  }
 ],
 "metadata": {
  "kernelspec": {
   "display_name": "Python 3 (ipykernel)",
   "language": "python",
   "name": "python3"
  },
  "language_info": {
   "codemirror_mode": {
    "name": "ipython",
    "version": 3
   },
   "file_extension": ".py",
   "mimetype": "text/x-python",
   "name": "python",
   "nbconvert_exporter": "python",
   "pygments_lexer": "ipython3",
   "version": "3.9.7"
  }
 },
 "nbformat": 4,
 "nbformat_minor": 5
}
