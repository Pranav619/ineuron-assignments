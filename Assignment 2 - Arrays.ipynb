{
 "cells": [
  {
   "cell_type": "markdown",
   "id": "a9313482",
   "metadata": {},
   "source": [
    "## Q1) sum array max"
   ]
  },
  {
   "cell_type": "code",
   "execution_count": 1,
   "id": "83bbeb9b",
   "metadata": {},
   "outputs": [
    {
     "name": "stdout",
     "output_type": "stream",
     "text": [
      "Maximized sum: 4\n"
     ]
    }
   ],
   "source": [
    "def arrayPairSum(nums):\n",
    "    nums.sort()  # Sort the array in ascending order\n",
    "    max_sum = 0\n",
    "\n",
    "    for i in range(0, len(nums), 2):\n",
    "        max_sum += nums[i]\n",
    "\n",
    "    return max_sum\n",
    "\n",
    "# Example usage:\n",
    "nums = [1, 4, 3, 2]\n",
    "maximized_sum = arrayPairSum(nums)\n",
    "print(\"Maximized sum:\", maximized_sum)\n"
   ]
  },
  {
   "cell_type": "code",
   "execution_count": null,
   "id": "c93b4844",
   "metadata": {},
   "outputs": [],
   "source": []
  },
  {
   "cell_type": "markdown",
   "id": "d9b52a03",
   "metadata": {},
   "source": [
    "## Q2) "
   ]
  },
  {
   "cell_type": "code",
   "execution_count": 2,
   "id": "ebb16635",
   "metadata": {},
   "outputs": [
    {
     "name": "stdout",
     "output_type": "stream",
     "text": [
      "Maximum number of different candies Alice can eat: 3\n"
     ]
    }
   ],
   "source": [
    "def maxDifferentCandies(candyType):\n",
    "    max_candies = len(candyType) // 2\n",
    "    unique_candies = set(candyType)\n",
    "\n",
    "    return min(max_candies, len(unique_candies))\n",
    "\n",
    "# Example usage:\n",
    "candyType = [1, 1, 2, 2, 3, 3]\n",
    "max_different_candies = maxDifferentCandies(candyType)\n",
    "print(\"Maximum number of different candies Alice can eat:\", max_different_candies)\n"
   ]
  },
  {
   "cell_type": "code",
   "execution_count": null,
   "id": "750e4c5b",
   "metadata": {},
   "outputs": [],
   "source": []
  },
  {
   "cell_type": "markdown",
   "id": "9d57c40e",
   "metadata": {},
   "source": [
    "## Q3) harmonious array"
   ]
  },
  {
   "cell_type": "code",
   "execution_count": 3,
   "id": "43fe7e7f",
   "metadata": {},
   "outputs": [
    {
     "name": "stdout",
     "output_type": "stream",
     "text": [
      "Length of the longest harmonious subsequence: 5\n"
     ]
    }
   ],
   "source": [
    "from collections import Counter\n",
    "\n",
    "def findLHS(nums):\n",
    "    num_counts = Counter(nums)\n",
    "    max_length = 0\n",
    "\n",
    "    for num in nums:\n",
    "        if num + 1 in num_counts:\n",
    "            length = num_counts[num] + num_counts[num + 1]\n",
    "            max_length = max(max_length, length)\n",
    "\n",
    "    return max_length\n",
    "\n",
    "# Example usage:\n",
    "nums = [1, 3, 2, 2, 5, 2, 3, 7]\n",
    "longest_harmonious_subsequence_length = findLHS(nums)\n",
    "print(\"Length of the longest harmonious subsequence:\", longest_harmonious_subsequence_length)\n"
   ]
  },
  {
   "cell_type": "code",
   "execution_count": null,
   "id": "94f59469",
   "metadata": {},
   "outputs": [],
   "source": []
  },
  {
   "cell_type": "markdown",
   "id": "881cf432",
   "metadata": {},
   "source": [
    "## Q4) iterated array"
   ]
  },
  {
   "cell_type": "code",
   "execution_count": 4,
   "id": "27fb10dc",
   "metadata": {},
   "outputs": [
    {
     "name": "stdout",
     "output_type": "stream",
     "text": [
      "Can plant 1 flowers? True\n"
     ]
    }
   ],
   "source": [
    "def canPlaceFlowers(flowerbed, n):\n",
    "    count = 0\n",
    "    i = 0\n",
    "\n",
    "    while i < len(flowerbed):\n",
    "        if flowerbed[i] == 0 and (i == 0 or flowerbed[i-1] == 0) and (i == len(flowerbed)-1 or flowerbed[i+1] == 0):\n",
    "            flowerbed[i] = 1\n",
    "            count += 1\n",
    "            i += 1\n",
    "        if count >= n:\n",
    "            return True\n",
    "        i += 1\n",
    "\n",
    "    return False\n",
    "\n",
    "# Example usage:\n",
    "flowerbed = [1, 0, 0, 0, 1]\n",
    "n = 1\n",
    "can_plant_flowers = canPlaceFlowers(flowerbed, n)\n",
    "print(\"Can plant\", n, \"flowers?\", can_plant_flowers)\n"
   ]
  },
  {
   "cell_type": "code",
   "execution_count": null,
   "id": "5cfa8639",
   "metadata": {},
   "outputs": [],
   "source": []
  },
  {
   "cell_type": "markdown",
   "id": "fc0e81d4",
   "metadata": {},
   "source": [
    "## Q5) using sort method"
   ]
  },
  {
   "cell_type": "code",
   "execution_count": 5,
   "id": "016cbe2d",
   "metadata": {},
   "outputs": [
    {
     "name": "stdout",
     "output_type": "stream",
     "text": [
      "Maximum product of three numbers: 6\n"
     ]
    }
   ],
   "source": [
    "def maximumProduct(nums):\n",
    "    nums.sort()  # Sort the array in ascending order\n",
    "\n",
    "    # Case 1: Product of the three largest numbers\n",
    "    product1 = nums[-1] * nums[-2] * nums[-3]\n",
    "\n",
    "    # Case 2: Product of the largest number and the two smallest (negative) numbers\n",
    "    product2 = nums[0] * nums[1] * nums[-1]\n",
    "\n",
    "    return max(product1, product2)\n",
    "\n",
    "# Example usage:\n",
    "nums = [1, 2, 3]\n",
    "max_product = maximumProduct(nums)\n",
    "print(\"Maximum product of three numbers:\", max_product)\n"
   ]
  },
  {
   "cell_type": "code",
   "execution_count": null,
   "id": "54f00eb0",
   "metadata": {},
   "outputs": [],
   "source": []
  },
  {
   "cell_type": "markdown",
   "id": "fe43bdc9",
   "metadata": {},
   "source": [
    "## Q6) by using while and if "
   ]
  },
  {
   "cell_type": "code",
   "execution_count": null,
   "id": "a160c4c2",
   "metadata": {},
   "outputs": [],
   "source": [
    "def search(nums, target):\n",
    "    left = 0\n",
    "    right = len(nums) - 1\n",
    "\n",
    "    while left <= right:\n",
    "        mid = left + (right - left) // 2\n",
    "\n",
    "        if nums[mid] == target:\n",
    "            return mid\n",
    "        elif nums[mid] < target:\n",
    "            left = mid + 1\n",
    "        else:\n",
    "            right = mid - 1\n",
    "\n",
    "    return -1\n",
    "\n",
    "# Example usage:\n",
    "nums = [-1, 0, 3, 5, 9, 12]\n",
    "target = 9\n",
    "index = search(nums, target)\n",
    "print(\"Index of target in nums:\", index)\n"
   ]
  },
  {
   "cell_type": "code",
   "execution_count": null,
   "id": "8ae62c6d",
   "metadata": {},
   "outputs": [],
   "source": []
  },
  {
   "cell_type": "markdown",
   "id": "4ca7dee6",
   "metadata": {},
   "source": [
    "## Q7) using simple for loop"
   ]
  },
  {
   "cell_type": "code",
   "execution_count": 6,
   "id": "5157e73a",
   "metadata": {},
   "outputs": [
    {
     "name": "stdout",
     "output_type": "stream",
     "text": [
      "Is the array monotonic? True\n"
     ]
    }
   ],
   "source": [
    "def isMonotonic(nums):\n",
    "    increasing = decreasing = True\n",
    "\n",
    "    for i in range(len(nums) - 1):\n",
    "        if nums[i] > nums[i + 1]:\n",
    "            increasing = False\n",
    "        if nums[i] < nums[i + 1]:\n",
    "            decreasing = False\n",
    "\n",
    "    return increasing or decreasing\n",
    "\n",
    "# Example usage:\n",
    "nums = [1, 2, 2, 3]\n",
    "is_monotonic = isMonotonic(nums)\n",
    "print(\"Is the array monotonic?\", is_monotonic)\n"
   ]
  },
  {
   "cell_type": "code",
   "execution_count": null,
   "id": "331de8b0",
   "metadata": {},
   "outputs": [],
   "source": []
  },
  {
   "cell_type": "markdown",
   "id": "3027bb1c",
   "metadata": {},
   "source": [
    "## Q8) "
   ]
  },
  {
   "cell_type": "code",
   "execution_count": 7,
   "id": "50b92da0",
   "metadata": {},
   "outputs": [
    {
     "name": "stdout",
     "output_type": "stream",
     "text": [
      "Minimum score of nums: 0\n"
     ]
    }
   ],
   "source": [
    "def minimumScore(nums, k):\n",
    "    min_val = max_val = nums[0]\n",
    "\n",
    "    for i in range(1, len(nums)):\n",
    "        min_val = min(nums[i] - k, min_val)\n",
    "        max_val = max(nums[i] + k, max_val)\n",
    "\n",
    "    return max(0, max_val - min_val)\n",
    "\n",
    "# Example usage:\n",
    "nums = [1]\n",
    "k = 0\n",
    "min_score = minimumScore(nums, k)\n",
    "print(\"Minimum score of nums:\", min_score)\n"
   ]
  },
  {
   "cell_type": "code",
   "execution_count": null,
   "id": "e85e509d",
   "metadata": {},
   "outputs": [],
   "source": []
  },
  {
   "cell_type": "markdown",
   "id": "50876957",
   "metadata": {},
   "source": []
  },
  {
   "cell_type": "code",
   "execution_count": null,
   "id": "1c7bc643",
   "metadata": {},
   "outputs": [],
   "source": []
  },
  {
   "cell_type": "code",
   "execution_count": null,
   "id": "5bd97fd8",
   "metadata": {},
   "outputs": [],
   "source": []
  },
  {
   "cell_type": "markdown",
   "id": "c9791d44",
   "metadata": {},
   "source": []
  }
 ],
 "metadata": {
  "kernelspec": {
   "display_name": "Python 3 (ipykernel)",
   "language": "python",
   "name": "python3"
  },
  "language_info": {
   "codemirror_mode": {
    "name": "ipython",
    "version": 3
   },
   "file_extension": ".py",
   "mimetype": "text/x-python",
   "name": "python",
   "nbconvert_exporter": "python",
   "pygments_lexer": "ipython3",
   "version": "3.9.12"
  }
 },
 "nbformat": 4,
 "nbformat_minor": 5
}
