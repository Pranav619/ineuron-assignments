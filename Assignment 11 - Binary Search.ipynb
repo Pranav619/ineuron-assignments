{
 "cells": [
  {
   "cell_type": "markdown",
   "id": "b6e363d7",
   "metadata": {},
   "source": [
    "## Q1"
   ]
  },
  {
   "cell_type": "code",
   "execution_count": null,
   "id": "b3965045",
   "metadata": {},
   "outputs": [],
   "source": [
    "def mySqrt(x):\n",
    "    if x == 0 or x == 1:\n",
    "        return x\n",
    "    \n",
    "    left, right = 1, x // 2\n",
    "    \n",
    "    while left <= right:\n",
    "        mid = (left + right) // 2\n",
    "        \n",
    "        if mid * mid == x:\n",
    "            return mid\n",
    "        elif mid * mid < x:\n",
    "            left = mid + 1\n",
    "        else:\n",
    "            right = mid - 1\n",
    "    \n",
    "    return left\n"
   ]
  },
  {
   "cell_type": "code",
   "execution_count": null,
   "id": "d233758a",
   "metadata": {},
   "outputs": [],
   "source": []
  },
  {
   "cell_type": "markdown",
   "id": "a22c0c0f",
   "metadata": {},
   "source": [
    "## Q2"
   ]
  },
  {
   "cell_type": "code",
   "execution_count": null,
   "id": "2e28f221",
   "metadata": {},
   "outputs": [],
   "source": [
    "def findPeakElement(nums):\n",
    "    left, right = 0, len(nums) - 1\n",
    "    \n",
    "    while left < right:\n",
    "        mid = (left + right) // 2\n",
    "        \n",
    "        if nums[mid] < nums[mid+1]:\n",
    "            left = mid + 1\n",
    "        else:\n",
    "            right = mid\n",
    "    \n",
    "    return left\n"
   ]
  },
  {
   "cell_type": "code",
   "execution_count": null,
   "id": "e46849c5",
   "metadata": {},
   "outputs": [],
   "source": []
  },
  {
   "cell_type": "code",
   "execution_count": null,
   "id": "cd92ba2e",
   "metadata": {},
   "outputs": [],
   "source": []
  },
  {
   "cell_type": "markdown",
   "id": "aaceb302",
   "metadata": {},
   "source": [
    "## Q3"
   ]
  },
  {
   "cell_type": "code",
   "execution_count": null,
   "id": "474d3f41",
   "metadata": {},
   "outputs": [],
   "source": [
    "def missingNumber(nums):\n",
    "    left, right = 0, len(nums)\n",
    "    \n",
    "    while left < right:\n",
    "        mid = (left + right) // 2\n",
    "        \n",
    "        if nums[mid] == mid:\n",
    "            left = mid + 1\n",
    "        else:\n",
    "            right = mid\n",
    "    \n",
    "    return left\n"
   ]
  },
  {
   "cell_type": "code",
   "execution_count": null,
   "id": "a256ecba",
   "metadata": {},
   "outputs": [],
   "source": []
  },
  {
   "cell_type": "markdown",
   "id": "90bd7304",
   "metadata": {},
   "source": [
    "## Q4"
   ]
  },
  {
   "cell_type": "code",
   "execution_count": null,
   "id": "f4361965",
   "metadata": {},
   "outputs": [],
   "source": [
    "def findDuplicate(nums):\n",
    "    left, right = 1, len(nums) - 1\n",
    "    \n",
    "    while left <= right:\n",
    "        mid = (left + right) // 2\n",
    "        \n",
    "        count = 0\n",
    "        for num in nums:\n",
    "            if num <= mid:\n",
    "                count += 1\n",
    "        \n",
    "        if count > mid:\n",
    "            right = mid\n",
    "        else:\n",
    "            left = mid + 1\n",
    "    \n",
    "    return left\n"
   ]
  },
  {
   "cell_type": "code",
   "execution_count": null,
   "id": "fdd373a2",
   "metadata": {},
   "outputs": [],
   "source": []
  },
  {
   "cell_type": "code",
   "execution_count": null,
   "id": "7e2550ea",
   "metadata": {},
   "outputs": [],
   "source": []
  },
  {
   "cell_type": "markdown",
   "id": "6cf8e7e4",
   "metadata": {},
   "source": [
    "## Q5"
   ]
  },
  {
   "cell_type": "code",
   "execution_count": null,
   "id": "72e6cf10",
   "metadata": {},
   "outputs": [],
   "source": [
    "def intersection(nums1, nums2):\n",
    "    nums1.sort()\n",
    "    nums2.sort()\n",
    "    result = []\n",
    "    \n",
    "    for num in nums1:\n",
    "        left, right = 0, len(nums2) - 1\n",
    "        \n",
    "        while left <= right:\n",
    "            mid = (left + right) // 2\n",
    "            \n",
    "            if nums2[mid] == num:\n",
    "                result.append(num)\n",
    "                break\n",
    "            elif nums2[mid] < num:\n",
    "                left = mid + 1\n",
    "            else:\n",
    "                right = mid - 1\n",
    "    \n",
    "    return result\n"
   ]
  },
  {
   "cell_type": "code",
   "execution_count": null,
   "id": "149a6b71",
   "metadata": {},
   "outputs": [],
   "source": []
  },
  {
   "cell_type": "markdown",
   "id": "f91fe573",
   "metadata": {},
   "source": [
    "## Q6"
   ]
  },
  {
   "cell_type": "code",
   "execution_count": null,
   "id": "d32a3a18",
   "metadata": {},
   "outputs": [],
   "source": [
    "def findMin(nums):\n",
    "    left = 0\n",
    "    right = len(nums) - 1\n",
    "    \n",
    "    while left < right:\n",
    "        mid = (left + right) // 2\n",
    "        \n",
    "        if nums[mid] > nums[right]:\n",
    "            left = mid + 1\n",
    "        else:\n",
    "            right = mid\n",
    "    \n",
    "    return nums[left]\n"
   ]
  },
  {
   "cell_type": "code",
   "execution_count": null,
   "id": "2e3f27c0",
   "metadata": {},
   "outputs": [],
   "source": []
  },
  {
   "cell_type": "code",
   "execution_count": null,
   "id": "c1719836",
   "metadata": {},
   "outputs": [],
   "source": []
  },
  {
   "cell_type": "markdown",
   "id": "452646eb",
   "metadata": {},
   "source": [
    "## Q7"
   ]
  },
  {
   "cell_type": "code",
   "execution_count": null,
   "id": "139e66a9",
   "metadata": {},
   "outputs": [],
   "source": [
    "def searchRange(nums, target):\n",
    "    left = 0\n",
    "    right = len(nums) - 1\n",
    "    start = -1\n",
    "    end = -1\n",
    "    \n",
    "    while left <= right:\n",
    "        mid = (left + right) // 2\n",
    "        \n",
    "        if nums[mid] == target:\n",
    "            start = mid\n",
    "            end = mid\n",
    "            \n",
    "            while start > 0 and nums[start - 1] == target:\n",
    "                start -= 1\n",
    "            \n",
    "            while end < len(nums) - 1 and nums[end + 1] == target:\n",
    "                end += 1\n",
    "            \n",
    "            break\n",
    "        elif nums[mid] < target:\n",
    "            left = mid + 1\n",
    "        else:\n",
    "            right = mid - 1\n",
    "    \n",
    "    if start == -1:\n",
    "        return [-1, -1]\n",
    "    else:\n",
    "        return [start, end]\n"
   ]
  },
  {
   "cell_type": "code",
   "execution_count": null,
   "id": "4d0215e2",
   "metadata": {},
   "outputs": [],
   "source": []
  },
  {
   "cell_type": "code",
   "execution_count": null,
   "id": "eda78306",
   "metadata": {},
   "outputs": [],
   "source": []
  },
  {
   "cell_type": "code",
   "execution_count": null,
   "id": "4dca4382",
   "metadata": {},
   "outputs": [],
   "source": []
  },
  {
   "cell_type": "markdown",
   "id": "d2f0da90",
   "metadata": {},
   "source": [
    "## Q8"
   ]
  },
  {
   "cell_type": "code",
   "execution_count": null,
   "id": "697b47e8",
   "metadata": {},
   "outputs": [],
   "source": [
    "import bisect\n",
    "\n",
    "def intersect(nums1, nums2):\n",
    "    nums1.sort()\n",
    "    nums2.sort()\n",
    "    \n",
    "    result = []\n",
    "    \n",
    "    for num in nums1:\n",
    "        index = bisect.bisect_left(nums2, num)\n",
    "        \n",
    "        if index < len(nums2) and nums2[index] == num:\n",
    "            result.append(num)\n",
    "            del nums2[index]\n",
    "    \n",
    "    return result\n"
   ]
  },
  {
   "cell_type": "code",
   "execution_count": null,
   "id": "3ff7d7c1",
   "metadata": {},
   "outputs": [],
   "source": []
  },
  {
   "cell_type": "code",
   "execution_count": null,
   "id": "29ce9144",
   "metadata": {},
   "outputs": [],
   "source": []
  },
  {
   "cell_type": "code",
   "execution_count": null,
   "id": "600c1025",
   "metadata": {},
   "outputs": [],
   "source": []
  },
  {
   "cell_type": "code",
   "execution_count": null,
   "id": "72f9dcca",
   "metadata": {},
   "outputs": [],
   "source": []
  },
  {
   "cell_type": "code",
   "execution_count": null,
   "id": "1efa2fdc",
   "metadata": {},
   "outputs": [],
   "source": []
  },
  {
   "cell_type": "code",
   "execution_count": null,
   "id": "7ed21004",
   "metadata": {},
   "outputs": [],
   "source": []
  },
  {
   "cell_type": "code",
   "execution_count": null,
   "id": "941df00d",
   "metadata": {},
   "outputs": [],
   "source": []
  }
 ],
 "metadata": {
  "kernelspec": {
   "display_name": "Python 3 (ipykernel)",
   "language": "python",
   "name": "python3"
  },
  "language_info": {
   "codemirror_mode": {
    "name": "ipython",
    "version": 3
   },
   "file_extension": ".py",
   "mimetype": "text/x-python",
   "name": "python",
   "nbconvert_exporter": "python",
   "pygments_lexer": "ipython3",
   "version": "3.9.12"
  }
 },
 "nbformat": 4,
 "nbformat_minor": 5
}
