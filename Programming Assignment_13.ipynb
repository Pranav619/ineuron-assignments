{
 "cells": [
  {
   "cell_type": "markdown",
   "id": "c6a66f4f",
   "metadata": {},
   "source": [
    "#### Question 1: Write a program that calculates and prints the value according to the given formula:\n",
    "Q = Square root of [(2 * C * D)/H] Following are the fixed values of C and H: C is 50. H is 30. D is the variable \n",
    "whose values should be input to your program in a comma-separated sequence. Example Let us assume the following \n",
    "comma separated input sequence is given to the program: 100,150,180 The output of the program should be: 18,22,24"
   ]
  },
  {
   "cell_type": "code",
   "execution_count": 3,
   "id": "5ca162a3",
   "metadata": {},
   "outputs": [
    {
     "name": "stdout",
     "output_type": "stream",
     "text": [
      "enter ur list in py format [100,150,180]\n",
      "[18, 22, 24] is the list after calculations\n"
     ]
    }
   ],
   "source": [
    "import math\n",
    "def calcu():\n",
    "    C=50\n",
    "    H=30\n",
    "    a=[]\n",
    "    l=eval(input(\"enter ur list in py format \"))\n",
    "    for i in range(len(l)):\n",
    "        s=0\n",
    "        s= math.sqrt((2 * C * l[i])/H)\n",
    "        a.append(int(s))\n",
    "    print(f'{a} is the list after calculations')\n",
    "calcu()    "
   ]
  },
  {
   "cell_type": "markdown",
   "id": "5834365c",
   "metadata": {},
   "source": [
    "#### Question 2: Write a program which takes 2 digits, X,Y as input and generates a 2-dimensional array.\n",
    "The element value in the i-th row and j-th column of the array should be \n",
    "i*j. Note: i=0,1.., X-1; j=0,1,¡ Y-1. \n",
    "Example Suppose the following inputs are given to the program: 3,5 \n",
    "Then, the output of the program should be: [[0, 0, 0, 0, 0], [0, 1, 2, 3, 4], [0, 2, 4, 6, 8]]"
   ]
  },
  {
   "cell_type": "code",
   "execution_count": 11,
   "id": "c71044dc",
   "metadata": {},
   "outputs": [
    {
     "name": "stdout",
     "output_type": "stream",
     "text": [
      "Enter no. of row 3\n",
      "Enter no. of column 5\n",
      "[[0, 0, 0, 0, 0], [0, 1, 2, 3, 4], [0, 2, 4, 6, 8]]\n"
     ]
    }
   ],
   "source": [
    "import array as arr\n",
    "def generateArray():\n",
    "    X=int(input(\"Enter no. of row \"))\n",
    "    Y=int(input(\"Enter no. of column \"))\n",
    "    arr=[]\n",
    "    #print(\"enter values rowwise: \")\n",
    "    for i in range(X):\n",
    "        arr.insert(X,[])\n",
    "        for j in range(Y):\n",
    "            arr[i].append(i*j)\n",
    "    print(arr)       \n",
    "generateArray()    "
   ]
  },
  {
   "cell_type": "markdown",
   "id": "8df99d8b",
   "metadata": {},
   "source": [
    "#### Question 3: Write a program that accepts a comma separated sequence of words as input and \n",
    "prints the words in a comma-separated sequence after sorting them alphabetically. \n",
    "Suppose the following input is supplied to the program: without,hello,bag,world Then, the output should be: bag,hello,without,world"
   ]
  },
  {
   "cell_type": "code",
   "execution_count": 50,
   "id": "d0532b0f",
   "metadata": {},
   "outputs": [
    {
     "name": "stdout",
     "output_type": "stream",
     "text": [
      "Enter the Input String: without,hello,bag,world\n",
      "Output: bag,hello,without,world\n"
     ]
    }
   ],
   "source": [
    "def sortString():\n",
    "    in_string = input(\"Enter the Input String: \")\n",
    "    out_string = ','.join(sorted(in_string.split(',')))\n",
    "    print(f'Output: {out_string}')\n",
    "    \n",
    "sortString()"
   ]
  },
  {
   "cell_type": "markdown",
   "id": "48377203",
   "metadata": {},
   "source": [
    "#### Question 4: Write a program that accepts a sequence of whitespace separated words as input and prints \n",
    "the words after removing all duplicate words and sorting them alphanumerically. Suppose the following \n",
    "input is supplied to the program: hello world and practice makes perfect and hello world again \n",
    "Then, the output should be: again and hello makes perfect practice world"
   ]
  },
  {
   "cell_type": "code",
   "execution_count": 82,
   "id": "cc750ca9",
   "metadata": {},
   "outputs": [
    {
     "name": "stdout",
     "output_type": "stream",
     "text": [
      "enter string with spaces: hello world and practice makes perfect and hello world again\n",
      "Output: again and hello makes perfect practice world\n"
     ]
    }
   ],
   "source": [
    "def dictAnddupli():\n",
    "    inp= input(\"Enter string with spaces: \")\n",
    "    outp= ' '.join(sorted(inp.split(\" \")))\n",
    "    sets= \" \".join((set(outp.split(\" \"))))\n",
    "    lists= list(sets.split(\" \"))\n",
    "    final = ' '.join(sorted(lists))\n",
    "    print(f'Output: {final}')\n",
    "\n",
    "dictAnddupli()"
   ]
  },
  {
   "cell_type": "code",
   "execution_count": null,
   "id": "54c90c94",
   "metadata": {},
   "outputs": [],
   "source": []
  },
  {
   "cell_type": "markdown",
   "id": "5e2b1281",
   "metadata": {},
   "source": [
    "#### Question 5: Write a program that accepts a sentence and calculate the number of letters and digits. \n",
    "Suppose the following input is supplied to the program: hello world! 123 Then, the output should be: LETTERS 10 DIGITS 3"
   ]
  },
  {
   "cell_type": "code",
   "execution_count": 83,
   "id": "9448763d",
   "metadata": {},
   "outputs": [
    {
     "name": "stdout",
     "output_type": "stream",
     "text": [
      "Enter the Input String: my name 123\n",
      "LETTERS 6 \n",
      "DIGITS 3\n"
     ]
    }
   ],
   "source": [
    "def countLetterAndDigits():\n",
    "    in_string = input(\"Enter the Input String: \")\n",
    "    lettersList = 'ABCDEFGHIJKLMNOPQRSTUVWXYZabcdefghijklmnopqrstuvwxyz'\n",
    "    digitsList = '0123456789'\n",
    "    letters = 0\n",
    "    digits = 0\n",
    "    for ele in in_string:\n",
    "        if ele in lettersList:\n",
    "            letters += 1\n",
    "        if ele in digitsList:\n",
    "            digits += 1\n",
    "    print(f'LETTERS {letters} \\nDIGITS {digits}')\n",
    "        \n",
    "countLetterAndDigits()"
   ]
  },
  {
   "cell_type": "markdown",
   "id": "c1ba8de5",
   "metadata": {},
   "source": [
    "####  Question 6: A website requires the users to input username and password to register. Write a program to check the validity of password input by users. Following are the criteria for checking the password: \n",
    "1. At least 1 letter between [a-z] \n",
    "2. At least 1 number between [0-9] 1. At least 1 letter between [A-Z]\n",
    "3. At least 1 character from [$#@] \n",
    "4. Minimum length of transaction password: 6 \n",
    "5. Maximum length of transaction password: 12 Your program should accept a sequence of comma separated passwords and will check them according to the above criteria. Passwords that match the criteria are to be printed, each separated by a comma. Example If the following passwords are given as input to the program: ABd1234@1,a F1#,2w3E*,2We3345 Then, the output of the program should be: ABd1234@1"
   ]
  },
  {
   "cell_type": "code",
   "execution_count": 85,
   "id": "afee9c68",
   "metadata": {},
   "outputs": [
    {
     "name": "stdout",
     "output_type": "stream",
     "text": [
      "Enter the Input String: ABd1234@1,a F1#,2w3E*,2We3345\n",
      "ABd1234@1\n"
     ]
    }
   ],
   "source": [
    "def checkPassword():\n",
    "    in_string = input(\"Enter the Input String: \")\n",
    "    small_list = \"abcdefghijklmnopqrstuvwxyz\"\n",
    "    cap_list = \"ABCDEFGHIJKLMNOPQRSTUVWXYZ\"\n",
    "    num_list = \"0123456789\"\n",
    "    special_list = \"$#@\"\n",
    "    for ele in in_string.split(\",\"):\n",
    "        if len(ele) <= 12 and len(ele) >=6 :\n",
    "            if any(i.isupper() for i in ele):\n",
    "                if any(i.islower() for i in ele):\n",
    "                    if any(i for i in ele if i in special_list):\n",
    "                        print(ele)\n",
    "                               \n",
    "checkPassword() "
   ]
  },
  {
   "cell_type": "code",
   "execution_count": null,
   "id": "5d409059",
   "metadata": {},
   "outputs": [],
   "source": []
  },
  {
   "cell_type": "code",
   "execution_count": null,
   "id": "a2c49f20",
   "metadata": {},
   "outputs": [],
   "source": []
  },
  {
   "cell_type": "code",
   "execution_count": null,
   "id": "e7e0515b",
   "metadata": {},
   "outputs": [],
   "source": []
  },
  {
   "cell_type": "code",
   "execution_count": null,
   "id": "450fffe9",
   "metadata": {},
   "outputs": [],
   "source": []
  },
  {
   "cell_type": "code",
   "execution_count": null,
   "id": "a018eb7b",
   "metadata": {},
   "outputs": [],
   "source": []
  }
 ],
 "metadata": {
  "kernelspec": {
   "display_name": "Python 3 (ipykernel)",
   "language": "python",
   "name": "python3"
  },
  "language_info": {
   "codemirror_mode": {
    "name": "ipython",
    "version": 3
   },
   "file_extension": ".py",
   "mimetype": "text/x-python",
   "name": "python",
   "nbconvert_exporter": "python",
   "pygments_lexer": "ipython3",
   "version": "3.9.7"
  }
 },
 "nbformat": 4,
 "nbformat_minor": 5
}
