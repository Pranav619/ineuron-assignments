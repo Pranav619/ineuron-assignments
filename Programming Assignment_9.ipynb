{
 "cells": [
  {
   "cell_type": "markdown",
   "id": "afc75be1",
   "metadata": {},
   "source": [
    "1. Write a Python program to check if the given number is a Disarium Number? \n",
    "2. Write a Python program to print all disarium numbers between 1 to 100? \n",
    "3. Write a Python program to check if the given number is Happy Number? \n",
    "4. Write a Python program to print all happy numbers between 1 and 100? \n",
    "5. Write a Python program to determine whether the given number is a Harshad Number?\n",
    "6. Write a Python program to print all pronic numbers between 1 and 100?"
   ]
  },
  {
   "cell_type": "markdown",
   "id": "43d379cb",
   "metadata": {},
   "source": [
    "## 1"
   ]
  },
  {
   "cell_type": "code",
   "execution_count": 8,
   "id": "d1ffc07a",
   "metadata": {},
   "outputs": [
    {
     "name": "stdout",
     "output_type": "stream",
     "text": [
      "Enter a Number: 135\n",
      "135 is a Disarium Number\n"
     ]
    }
   ],
   "source": [
    "#A number whose sum of its digits powered with its respective position equals to the number itself \n",
    "def checkDisariumNumber():\n",
    "    in_num = input('Enter a Number: ')\n",
    "    sum = 0 \n",
    "    for item in range(len(in_num)):\n",
    "        sum = sum + int(in_num[item])**(item+1)\n",
    "    if sum == int(in_num):\n",
    "        print(f'{in_num} is a Disarium Number')\n",
    "    else:\n",
    "        print(f'{in_num} is a Not Disarium Number') \n",
    "checkDisariumNumber()"
   ]
  },
  {
   "cell_type": "markdown",
   "id": "5b0863aa",
   "metadata": {},
   "source": [
    "## 2"
   ]
  },
  {
   "cell_type": "code",
   "execution_count": 16,
   "id": "87eb992b",
   "metadata": {},
   "outputs": [
    {
     "data": {
      "text/plain": [
       "[1, 2, 3, 4, 5, 6, 7, 8, 9, 89]"
      ]
     },
     "execution_count": 16,
     "metadata": {},
     "output_type": "execute_result"
    }
   ],
   "source": [
    "def printDisariumNumbers(start=0,end=100):\n",
    "    output_num = []\n",
    "    for number in range(start,end+1):\n",
    "        sum = 0\n",
    "        for item in range(len(str(number))):\n",
    "            sum = sum + int(str(number)[item])**(item+1)\n",
    "        if sum == number:\n",
    "            output_num.append(number)\n",
    "    return output_num\n",
    "            \n",
    "        \n",
    "printDisariumNumbers(1,100)"
   ]
  },
  {
   "cell_type": "markdown",
   "id": "3527751d",
   "metadata": {},
   "source": [
    "## 3"
   ]
  },
  {
   "cell_type": "code",
   "execution_count": 32,
   "id": "8e63671a",
   "metadata": {},
   "outputs": [
    {
     "name": "stdout",
     "output_type": "stream",
     "text": [
      "Enter a Number: 379\n",
      "379 is a Happy Number\n"
     ]
    }
   ],
   "source": [
    "# A number which eventually reaches 1 when replaced by the sum of the square of each digit.\n",
    "# 1, 7, 13, 19, 23, 28, 44, 49, 68, 79, 129, 133, 139, 167, 188, 226, 236, 239, 338, \n",
    "# 356, 367, 368, 379, 446, 469, 478, 556, 566, 888, 899.\n",
    "def checkHappyNumber():\n",
    "    in_num = input('Enter a Number: ')\n",
    "    in_num_duplicate = in_num\n",
    "    trackNumber = set()   \n",
    "    while True:\n",
    "        if in_num != '1' and str(in_num) not in trackNumber:\n",
    "            trackNumber.add(in_num)\n",
    "            sum = 0\n",
    "            for ele in range(len((in_num))):\n",
    "                sum = sum + int(in_num[ele])**2\n",
    "            in_num = str(sum)\n",
    "        elif str(in_num) in trackNumber:\n",
    "            print(f'{in_num_duplicate} is not a Happy Number')\n",
    "            break\n",
    "        else:\n",
    "            print(f'{in_num_duplicate} is a Happy Number')\n",
    "            break\n",
    "checkHappyNumber()"
   ]
  },
  {
   "cell_type": "markdown",
   "id": "1e82f74f",
   "metadata": {},
   "source": [
    "## 4"
   ]
  },
  {
   "cell_type": "code",
   "execution_count": 38,
   "id": "e48f0aaf",
   "metadata": {},
   "outputs": [
    {
     "name": "stdout",
     "output_type": "stream",
     "text": [
      "The Happy Numbers between 0 and 100 are [1, 7, 10, 13, 19, 23, 28, 31, 32, 44, 49, 68, 70, 79, 82, 86, 91, 94, 97, 100]\n"
     ]
    }
   ],
   "source": [
    "#print\n",
    "def printHappyNumber(start=0,end=100):\n",
    "    l=[]\n",
    "    for i in range(start,end+1):\n",
    "        trackNumber = set()\n",
    "        in_num=str(i)\n",
    "        in_num_duplicate=in_num\n",
    "        while True:\n",
    "            if in_num != '1' and str(in_num) not in trackNumber:\n",
    "                trackNumber.add(in_num)\n",
    "                sum = 0\n",
    "                for ele in range(len((in_num))):\n",
    "                    sum = sum + int(in_num[ele])**2\n",
    "                in_num = str(sum)\n",
    "            elif str(in_num) in trackNumber:\n",
    "                #print(f'{in_num_duplicate} is not a Happy Number')\n",
    "                break\n",
    "            else:\n",
    "                l.append(int(in_num_duplicate))\n",
    "                break\n",
    "    \n",
    "    print(f'The Happy Numbers between {start} and {end} are {l}')\n",
    "\n",
    "printHappyNumber()"
   ]
  },
  {
   "cell_type": "markdown",
   "id": "2b23f8b4",
   "metadata": {},
   "source": [
    "## 5"
   ]
  },
  {
   "cell_type": "code",
   "execution_count": 47,
   "id": "6f394252",
   "metadata": {},
   "outputs": [
    {
     "name": "stdout",
     "output_type": "stream",
     "text": [
      "enter a number to check: 22\n",
      "4\n",
      "22 is not a harshad number\n"
     ]
    }
   ],
   "source": [
    "#harshad number = an integer that is divisible by the sum of its digits when written in that base.\n",
    "\n",
    "def checkHarshadNumber():\n",
    "    n = input(\"enter a number to check: \")\n",
    "    s=0\n",
    "    for i in range(len(n)):\n",
    "        s=s + int(n[i])\n",
    "    #print(s)    \n",
    "    if int(n)%s==0:\n",
    "        print(f'{n} is a harshad number')\n",
    "    else:\n",
    "        print(f'{n} is not a harshad number')\n",
    "checkHarshadNumber()"
   ]
  },
  {
   "cell_type": "markdown",
   "id": "ff2f60de",
   "metadata": {},
   "source": [
    "## 6"
   ]
  },
  {
   "cell_type": "code",
   "execution_count": 67,
   "id": "c33eca21",
   "metadata": {},
   "outputs": [
    {
     "name": "stdout",
     "output_type": "stream",
     "text": [
      "[0, 2, 6, 12, 20, 30, 42, 56, 72, 90]\n"
     ]
    }
   ],
   "source": [
    "# pronic number - if k*k+1 = that number then it is pronic  \n",
    "import math\n",
    "def printPronicNumber(start=0,end=100):\n",
    "    l=[]\n",
    "    for i in range(start,end+1):\n",
    "        #n=int(input(\"enter a number \"))\n",
    "        sqr= int(math.sqrt(i))\n",
    "        if i == sqr*(sqr+1):\n",
    "            l.append(i)\n",
    "    print(l)    \n",
    "checkPronicNumber()\n"
   ]
  },
  {
   "cell_type": "code",
   "execution_count": null,
   "id": "54346c1e",
   "metadata": {},
   "outputs": [],
   "source": []
  },
  {
   "cell_type": "code",
   "execution_count": null,
   "id": "eaf6ae45",
   "metadata": {},
   "outputs": [],
   "source": []
  }
 ],
 "metadata": {
  "kernelspec": {
   "display_name": "Python 3 (ipykernel)",
   "language": "python",
   "name": "python3"
  },
  "language_info": {
   "codemirror_mode": {
    "name": "ipython",
    "version": 3
   },
   "file_extension": ".py",
   "mimetype": "text/x-python",
   "name": "python",
   "nbconvert_exporter": "python",
   "pygments_lexer": "ipython3",
   "version": "3.9.7"
  }
 },
 "nbformat": 4,
 "nbformat_minor": 5
}
