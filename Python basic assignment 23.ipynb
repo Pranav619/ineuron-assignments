{
 "cells": [
  {
   "cell_type": "raw",
   "id": "04737403",
   "metadata": {},
   "source": [
    "Q. What is the result of the code, and why? >>> def func(a, b=6, c=8): print(a, b, c) >>> func(1, 2)\n",
    "ANS) \n",
    " When function call m=is made, parameter passed are a=1,b=2. When the function is executed , parameter c=8 will be taken by default as its a keyword argument.\n",
    "   # solution is = 1,2,8\n",
    "\n",
    "\n",
    "2) What is the result of this code, and why? >>> def func(a, b, c=5): print(a, b, c) >>> func(1, c=3, b=2)\n",
    "ANS)\n",
    "When we make function call, order will be positional argument and then keywords arguments. we can pass the keyword arguments in any order we want.\n",
    "#Solution is 1,2,3\n",
    "\n",
    "\n",
    "3) How about this code: what is its result, and why? >>> def func(a, *pargs): print(a, pargs) >>> func(1, 2, 3)\n",
    "ANS)\n",
    "The return type of *args parameter is tuple, where as **kargs will be dictionary\n",
    "#solution is = 1,(2,3)\n",
    "\n",
    "\n",
    "4)What does this code print, and why? >>> def func(a, **kargs): print(a, kargs) >>> func(a=1, c=3, b=2)\n",
    "Ans)\n",
    "The return type of  **kargs is  dictionary\n",
    "#solution is = 1,{'c':3,'b':2}\n",
    "\n",
    "\n",
    "5)What gets printed by this, and explain? >>> def func(a, b, c=8, d=5): print(a, b, c, d) >>> func(1, *(5, 6))\n",
    "ANS)\n",
    "In the example the value *(5,6) will be unpacked and will be assigned to b and c and passed \n",
    "  as arguments, d =5 will taken by defaults are keyword arguments.\n",
    "\n",
    "  #  Solution 1,5,6,5\n",
    "\n",
    "\n",
    "6)Q. what is the result of this, and explain? >>> def func(a, b, c): a = 2; b[0] = 'x'; c['a'] = 'y' >>> l=1; m=[1]; n={'a':0} >>> func(l, m, n)\n",
    "\n",
    "ANS)\n",
    "the list and dict are passed as argument, and those are mutable. Here the list l and parameter b point \n",
    "to the same list in the memory location where as dict n and c point to the same memory location. Any updates to this \n",
    "list will update in the memory location\n",
    "\n",
    "l = 1 , integer values, immutable, m is list, mutable, n is dict, mutable.\n",
    "#output will be = 1,['x'],{'a':'y'}\n"
   ]
  }
 ],
 "metadata": {
  "kernelspec": {
   "display_name": "Python 3 (ipykernel)",
   "language": "python",
   "name": "python3"
  },
  "language_info": {
   "codemirror_mode": {
    "name": "ipython",
    "version": 3
   },
   "file_extension": ".py",
   "mimetype": "text/x-python",
   "name": "python",
   "nbconvert_exporter": "python",
   "pygments_lexer": "ipython3",
   "version": "3.9.7"
  }
 },
 "nbformat": 4,
 "nbformat_minor": 5
}
