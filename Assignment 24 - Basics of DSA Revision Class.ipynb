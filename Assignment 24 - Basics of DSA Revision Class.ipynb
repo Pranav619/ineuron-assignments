{
 "cells": [
  {
   "cell_type": "markdown",
   "id": "9b9ef475",
   "metadata": {},
   "source": [
    "## Q1) Roman to Integer"
   ]
  },
  {
   "cell_type": "code",
   "execution_count": 6,
   "id": "c9504365",
   "metadata": {},
   "outputs": [
    {
     "name": "stdout",
     "output_type": "stream",
     "text": [
      "Enter a Roman numeral: LIII\n",
      "Integer value: 53\n"
     ]
    }
   ],
   "source": [
    "def roman_to_int(roman):\n",
    "    roman_values = {\n",
    "        'I': 1,\n",
    "        'V': 5,\n",
    "        'X': 10,\n",
    "        'L': 50,\n",
    "        'C': 100,\n",
    "        'D': 500,\n",
    "        'M': 1000\n",
    "    }\n",
    "    total = 0\n",
    "    prev_value = 0\n",
    "\n",
    "    for char in roman[::-1]:\n",
    "        current_value = roman_values[char]\n",
    "        if current_value >= prev_value:\n",
    "            total += current_value\n",
    "        else:\n",
    "            total -= current_value\n",
    "        prev_value = current_value\n",
    "\n",
    "    return total\n",
    "\n",
    "# Example usage:\n",
    "roman_numeral = input(\"Enter a Roman numeral: \")\n",
    "integer_value = roman_to_int(roman_numeral)\n",
    "print(\"Integer value:\", integer_value)\n"
   ]
  },
  {
   "cell_type": "code",
   "execution_count": null,
   "id": "c413ba56",
   "metadata": {},
   "outputs": [],
   "source": []
  },
  {
   "cell_type": "markdown",
   "id": "aa43998b",
   "metadata": {},
   "source": [
    "## Q2) longest substring"
   ]
  },
  {
   "cell_type": "code",
   "execution_count": 3,
   "id": "062d09e0",
   "metadata": {},
   "outputs": [
    {
     "name": "stdout",
     "output_type": "stream",
     "text": [
      "Enter a string: abdcdcdjikabdc\n",
      "Length of the longest substring without repeating characters: 7\n"
     ]
    }
   ],
   "source": [
    "def length_of_longest_substring(s):\n",
    "    n = len(s)\n",
    "    start = 0  # Start index of the current substring\n",
    "    max_length = 0  # Length of the longest substring without repeating characters\n",
    "    char_set = set()  # Set to store unique characters in the current substring\n",
    "\n",
    "    i = 0  \n",
    "\n",
    "    while i < n:\n",
    "        if s[i] not in char_set:\n",
    "            char_set.add(s[i])\n",
    "            i += 1\n",
    "            max_length = max(max_length, len(char_set))\n",
    "        else:\n",
    "            char_set.remove(s[start])\n",
    "            start += 1\n",
    "\n",
    "    return max_length\n",
    "\n",
    "# Example usage:\n",
    "string = input(\"Enter a string: \")\n",
    "length = length_of_longest_substring(string)\n",
    "print(\"Length of the longest substring without repeating characters:\", length)\n"
   ]
  },
  {
   "cell_type": "code",
   "execution_count": null,
   "id": "58c55717",
   "metadata": {},
   "outputs": [],
   "source": []
  },
  {
   "cell_type": "markdown",
   "id": "2cce4b31",
   "metadata": {},
   "source": [
    "## Q3) majority element "
   ]
  },
  {
   "cell_type": "code",
   "execution_count": 8,
   "id": "0b8ce539",
   "metadata": {},
   "outputs": [
    {
     "name": "stdout",
     "output_type": "stream",
     "text": [
      "Enter the array elements (space-separated): 1 2 3 1 5 1 5 1 1 1\n",
      "The majority element is: 1\n"
     ]
    }
   ],
   "source": [
    "def majority_element(nums):\n",
    "    count = 0\n",
    "    candidate = None\n",
    "\n",
    "    for num in nums:\n",
    "        if count == 0:\n",
    "            candidate = num\n",
    "            count = 1\n",
    "        elif candidate == num:\n",
    "            count += 1\n",
    "        else:\n",
    "            count -= 1\n",
    "\n",
    "    return candidate\n",
    "\n",
    "# Example usage:\n",
    "nums = input(\"Enter the array elements (space-separated): \").split()\n",
    "nums = [int(num) for num in nums]\n",
    "majority = majority_element(nums)\n",
    "print(\"The majority element is:\", majority)\n"
   ]
  },
  {
   "cell_type": "code",
   "execution_count": null,
   "id": "84bc4295",
   "metadata": {},
   "outputs": [],
   "source": []
  },
  {
   "cell_type": "markdown",
   "id": "710985e2",
   "metadata": {},
   "source": [
    "## Q4) Anagrams"
   ]
  },
  {
   "cell_type": "code",
   "execution_count": 9,
   "id": "dc6e3df8",
   "metadata": {},
   "outputs": [
    {
     "name": "stdout",
     "output_type": "stream",
     "text": [
      "Enter the array of strings (comma-separated): abc,bca,hgf\n",
      "Anagram groups: [['abc', 'bca'], ['hgf']]\n"
     ]
    }
   ],
   "source": [
    "from collections import defaultdict\n",
    "\n",
    "def group_anagrams(strs):\n",
    "    groups = defaultdict(list)\n",
    "\n",
    "    for word in strs:\n",
    "        # Create a character frequency map for the word\n",
    "        count = [0] * 26\n",
    "        for char in word:\n",
    "            count[ord(char) - ord('a')] += 1\n",
    "\n",
    "        # Convert the character frequency map to a tuple to serve as the key\n",
    "        key = tuple(count)\n",
    "\n",
    "        # Add the word to the corresponding group based on the key\n",
    "        groups[key].append(word)\n",
    "\n",
    "    # Convert the groups dictionary to a list of grouped anagrams\n",
    "    result = list(groups.values())\n",
    "    return result\n",
    "\n",
    "# Example usage:\n",
    "strs = input(\"Enter the array of strings (comma-separated): \").split(\",\")\n",
    "anagram_groups = group_anagrams(strs)\n",
    "print(\"Anagram groups:\", anagram_groups)\n"
   ]
  },
  {
   "cell_type": "code",
   "execution_count": null,
   "id": "f96ed13d",
   "metadata": {},
   "outputs": [],
   "source": []
  },
  {
   "cell_type": "markdown",
   "id": "548f1507",
   "metadata": {},
   "source": [
    "## Q5) ugly number "
   ]
  },
  {
   "cell_type": "code",
   "execution_count": 10,
   "id": "d2f07113",
   "metadata": {},
   "outputs": [
    {
     "name": "stdout",
     "output_type": "stream",
     "text": [
      "Enter the value of n: 5\n",
      "The 5th ugly number is: 5\n"
     ]
    }
   ],
   "source": [
    "def get_nth_ugly_number(n):\n",
    "    ugly_numbers = [1]  # List to store the ugly numbers\n",
    "    i2 = i3 = i5 = 0  # Pointers for the next multiples of 2, 3, and 5\n",
    "\n",
    "    while len(ugly_numbers) < n:\n",
    "        # Find the next ugly number by taking the minimum of the multiples of 2, 3, and 5\n",
    "        next_ugly = min(ugly_numbers[i2] * 2, ugly_numbers[i3] * 3, ugly_numbers[i5] * 5)\n",
    "\n",
    "        # Update the pointers if the next ugly number is equal to the respective multiples\n",
    "        if next_ugly == ugly_numbers[i2] * 2:\n",
    "            i2 += 1\n",
    "        if next_ugly == ugly_numbers[i3] * 3:\n",
    "            i3 += 1\n",
    "        if next_ugly == ugly_numbers[i5] * 5:\n",
    "            i5 += 1\n",
    "\n",
    "        # Add the next ugly number to the list\n",
    "        ugly_numbers.append(next_ugly)\n",
    "\n",
    "    return ugly_numbers[-1]\n",
    "\n",
    "# Example usage:\n",
    "n = int(input(\"Enter the value of n: \"))\n",
    "ugly_number = get_nth_ugly_number(n)\n",
    "print(f\"The {n}th ugly number is: {ugly_number}\")\n"
   ]
  },
  {
   "cell_type": "code",
   "execution_count": null,
   "id": "4bb2aad2",
   "metadata": {},
   "outputs": [],
   "source": []
  },
  {
   "cell_type": "code",
   "execution_count": null,
   "id": "1e7a003f",
   "metadata": {},
   "outputs": [],
   "source": []
  },
  {
   "cell_type": "markdown",
   "id": "640e3c39",
   "metadata": {},
   "source": [
    "## Q7"
   ]
  },
  {
   "cell_type": "code",
   "execution_count": 11,
   "id": "fd992c10",
   "metadata": {},
   "outputs": [
    {
     "name": "stdout",
     "output_type": "stream",
     "text": [
      "Enter the array of words (space-separated): my name is pranav\n",
      "Enter the value of k: 5\n",
      "The 5 most frequent words are: ['pranav', 'name', 'my', 'is']\n"
     ]
    }
   ],
   "source": [
    "from collections import Counter\n",
    "import heapq\n",
    "\n",
    "def topKFrequent(words, k):\n",
    "    word_count = Counter(words)\n",
    "    heap = []\n",
    "\n",
    "    for word, count in word_count.items():\n",
    "        heapq.heappush(heap, (-count, word))\n",
    "        if len(heap) > k:\n",
    "            heapq.heappop(heap)\n",
    "\n",
    "    top_k_frequent_words = [word for _, word in heapq.nsmallest(k, heap)][::-1]\n",
    "    return top_k_frequent_words\n",
    "\n",
    "# Example usage:\n",
    "words = input(\"Enter the array of words (space-separated): \").split()\n",
    "k = int(input(\"Enter the value of k: \"))\n",
    "top_k_frequent_words = topKFrequent(words, k)\n",
    "print(\"The\", k, \"most frequent words are:\", top_k_frequent_words)\n"
   ]
  },
  {
   "cell_type": "code",
   "execution_count": null,
   "id": "9d926c6f",
   "metadata": {},
   "outputs": [],
   "source": []
  },
  {
   "cell_type": "code",
   "execution_count": null,
   "id": "d9727dde",
   "metadata": {},
   "outputs": [],
   "source": []
  },
  {
   "cell_type": "markdown",
   "id": "2df0a775",
   "metadata": {},
   "source": [
    "## Q8)  Find K Closest Elements \n",
    "### done by using binary search "
   ]
  },
  {
   "cell_type": "code",
   "execution_count": 13,
   "id": "a0f73bfc",
   "metadata": {},
   "outputs": [
    {
     "name": "stdout",
     "output_type": "stream",
     "text": [
      "Enter the sorted integer array (space-separated): 1 2 3 4 5\n",
      "Enter the value of k: 4\n",
      "Enter the value of x: -1\n",
      "The 4 closest elements to -1 are: [1, 2, 3, 4]\n"
     ]
    }
   ],
   "source": [
    "def find_closest_elements(arr, k, x):\n",
    "    left = 0\n",
    "    right = len(arr) - k\n",
    "\n",
    "    while left < right:\n",
    "        mid = left + (right - left) // 2\n",
    "        if x - arr[mid] > arr[mid + k] - x:\n",
    "            left = mid + 1\n",
    "        else:\n",
    "            right = mid\n",
    "\n",
    "    return arr[left : left + k]\n",
    "\n",
    "# Example usage:\n",
    "arr = input(\"Enter the sorted integer array (space-separated): \").split()\n",
    "arr = [int(num) for num in arr]\n",
    "k = int(input(\"Enter the value of k: \"))\n",
    "x = int(input(\"Enter the value of x: \"))\n",
    "closest_elements = find_closest_elements(arr, k, x)\n",
    "print(\"The\", k, \"closest elements to\", x, \"are:\", closest_elements)\n"
   ]
  },
  {
   "cell_type": "code",
   "execution_count": null,
   "id": "8ba0925c",
   "metadata": {},
   "outputs": [],
   "source": []
  },
  {
   "cell_type": "markdown",
   "id": "7d2492af",
   "metadata": {},
   "source": []
  },
  {
   "cell_type": "code",
   "execution_count": null,
   "id": "36243000",
   "metadata": {},
   "outputs": [],
   "source": []
  },
  {
   "cell_type": "code",
   "execution_count": null,
   "id": "d73c6068",
   "metadata": {},
   "outputs": [],
   "source": []
  },
  {
   "cell_type": "markdown",
   "id": "46876115",
   "metadata": {},
   "source": []
  },
  {
   "cell_type": "code",
   "execution_count": null,
   "id": "a6fea658",
   "metadata": {},
   "outputs": [],
   "source": []
  },
  {
   "cell_type": "code",
   "execution_count": null,
   "id": "0cfd70ec",
   "metadata": {},
   "outputs": [],
   "source": []
  },
  {
   "cell_type": "markdown",
   "id": "7cf8f64b",
   "metadata": {},
   "source": []
  },
  {
   "cell_type": "code",
   "execution_count": null,
   "id": "f024a10b",
   "metadata": {},
   "outputs": [],
   "source": []
  },
  {
   "cell_type": "code",
   "execution_count": null,
   "id": "d88b6bc5",
   "metadata": {},
   "outputs": [],
   "source": []
  },
  {
   "cell_type": "markdown",
   "id": "0f9a1156",
   "metadata": {},
   "source": []
  },
  {
   "cell_type": "code",
   "execution_count": null,
   "id": "5eb56bfa",
   "metadata": {},
   "outputs": [],
   "source": []
  },
  {
   "cell_type": "code",
   "execution_count": null,
   "id": "48a7c03e",
   "metadata": {},
   "outputs": [],
   "source": []
  },
  {
   "cell_type": "code",
   "execution_count": null,
   "id": "f914a35a",
   "metadata": {},
   "outputs": [],
   "source": []
  }
 ],
 "metadata": {
  "kernelspec": {
   "display_name": "Python 3 (ipykernel)",
   "language": "python",
   "name": "python3"
  },
  "language_info": {
   "codemirror_mode": {
    "name": "ipython",
    "version": 3
   },
   "file_extension": ".py",
   "mimetype": "text/x-python",
   "name": "python",
   "nbconvert_exporter": "python",
   "pygments_lexer": "ipython3",
   "version": "3.9.12"
  }
 },
 "nbformat": 4,
 "nbformat_minor": 5
}
