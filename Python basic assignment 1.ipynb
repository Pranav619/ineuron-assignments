{
 "cells": [
  {
   "cell_type": "raw",
   "metadata": {},
   "source": [
    "q1) In the below elements which of them are values or an expression? eg:- values can be integer or string and expressions will be mathematical operators.\n",
    "\n",
    "Ans1 ) values -   'hello' , -87.8  , 6\n",
    " \n",
    " expression -    *   ,   -  , /  ,  +  (or can be called operators)\n",
    "\n",
    "\n",
    "\n",
    "\n"
   ]
  },
  {
   "cell_type": "raw",
   "metadata": {},
   "source": [
    "q2) What is the difference between string and variable?\n",
    "\n",
    "ans2) string is a collection of unicode characters  whereas variable is basically anything which stores data and it can be a anything like string , int, float etc.\n",
    "\n",
    "i can also say that string itself is a data which can be used to fill up variable"
   ]
  },
  {
   "cell_type": "raw",
   "metadata": {},
   "source": [
    "q3) Describe three different data types.\n",
    "\n",
    "Ans3) There are many data tyes in python for ex. int, float , dictionary , boolean etc \n",
    "\n",
    "int : it takes in numeric values which are whole number positive or negative but not fraction or decimal\n",
    "\n",
    "whereas float : takes in decimal values and we can also store scientific values in it by using e or E\n",
    "\n",
    "third data type we can take \n",
    "list :  which are sequence type of data type and its speciality is that it can take \n",
    "values of different data types just like a arrays they are also collection of data in an ordered way.\n",
    "\n",
    "\n",
    "\n",
    "\n",
    "\n",
    "\n",
    "q4.) What is an expression made up of? What do all expressions do?\n",
    "\n",
    "ans4) An expression is made up of operand(like variables)  and operators and they are solved to calculate another value.\n",
    "they can be constant , arithematic or integral\n",
    "\n",
    "\n",
    "\n",
    "Q5. This assignment statements, like spam = 10. What is the difference between an expression and a statement?\n",
    "\n",
    "ans5) when we talk about expression it always gives us an output whereas it is not always for a statement\n",
    " to give a result\n",
    "\n",
    "expression will produce at least one value\n",
    "spam=10 here is a expression "
   ]
  },
  {
   "cell_type": "raw",
   "metadata": {},
   "source": [
    "\n",
    "6. After running the following code, what does the variable bacon contain?\n",
    "bacon = 22\n",
    "bacon + 1\n",
    "\n",
    "Ans6) bacon will contain 22 only as we have not assigned it bacon + 1 values \n",
    "\n",
    "\n",
    "\n",
    "7. What should the values of the following two terms be?\n",
    "'spam' + 'spamspam'\n",
    "'spam' * 3\n",
    "\n",
    "Ans 7) both will produce 'spamspamspam'\n",
    "as + operator will concatinate the string \n",
    "wheras * operaror will print the string 3 times\n",
    "\n",
    "\n",
    "\n",
    "\n"
   ]
  },
  {
   "cell_type": "raw",
   "metadata": {},
   "source": [
    "8. Why is eggs a valid variable name while 100 is invalid?\n",
    "Ans8) 100 itself is a value and it is constant so cant be consider as a variable as its value cant vary wheras \n",
    "eggs can be considered as a valid variable as it follow all rules for naming a varaible \n",
    "\n",
    "\n",
    "\n",
    "\n",
    "9. What three functions can be used to get the integer, floating-point number, or string version of a value?\n",
    "ans9)  we can use int()  , float() and str() functions and pass the values into them to get the respective version of a \n",
    "value\n",
    "\n",
    "\n",
    "\n",
    "10. Why does this expression cause an error? How can you fix it?\n",
    "'I have eaten ' + 99 + ' burritos.'\n",
    "Ans 10) we are using two different types of data types and using add operator \n",
    "so we can fix it by giving 99 as a string and placing it in inverted commas\n",
    "\n",
    "\n",
    "\n",
    "Thanks \n",
    "Pranav \n",
    "full stack batch\n",
    "mail: pranav619vashisth@gmail.com"
   ]
  }
 ],
 "metadata": {
  "kernelspec": {
   "display_name": "Python 3",
   "language": "python",
   "name": "python3"
  },
  "language_info": {
   "codemirror_mode": {
    "name": "ipython",
    "version": 3
   },
   "file_extension": ".py",
   "mimetype": "text/x-python",
   "name": "python",
   "nbconvert_exporter": "python",
   "pygments_lexer": "ipython3",
   "version": "3.7.6"
  }
 },
 "nbformat": 4,
 "nbformat_minor": 4
}
