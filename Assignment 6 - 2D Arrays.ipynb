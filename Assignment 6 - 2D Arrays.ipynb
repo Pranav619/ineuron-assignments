{
 "cells": [
  {
   "cell_type": "markdown",
   "id": "bcbb5291",
   "metadata": {},
   "source": [
    "# Q1 "
   ]
  },
  {
   "cell_type": "code",
   "execution_count": null,
   "id": "e31da4f2",
   "metadata": {},
   "outputs": [],
   "source": [
    "def fun(s):\n",
    "    perm = []\n",
    "    n = len(s)\n",
    "    low, high = 0, n\n",
    "\n",
    "    for c in s:\n",
    "        if c == 'I':\n",
    "            perm.append(low)\n",
    "            low += 1\n",
    "        elif c == 'D':\n",
    "            perm.append(high)\n",
    "            high -= 1\n",
    "\n",
    "    perm.append(low)  \n",
    "    return perm\n"
   ]
  },
  {
   "cell_type": "code",
   "execution_count": null,
   "id": "f0bcd5f9",
   "metadata": {},
   "outputs": [],
   "source": []
  },
  {
   "cell_type": "markdown",
   "id": "f8d0c94b",
   "metadata": {},
   "source": [
    "## Q2"
   ]
  },
  {
   "cell_type": "code",
   "execution_count": null,
   "id": "fce04930",
   "metadata": {},
   "outputs": [],
   "source": [
    "def search_matrix(matrix, target):\n",
    "    rows = len(matrix)\n",
    "    cols = len(matrix[0])\n",
    "\n",
    "    left = 0\n",
    "    right = rows * cols - 1\n",
    "\n",
    "    while left <= right:\n",
    "        mid = (left + right) // 2\n",
    "        row = mid // cols\n",
    "        col = mid % cols\n",
    "        value = matrix[row][col]\n",
    "\n",
    "        if value == target:\n",
    "            return True\n",
    "        elif value > target:\n",
    "            right = mid - 1\n",
    "        else:\n",
    "            left = mid + 1\n",
    "\n",
    "    return False\n"
   ]
  },
  {
   "cell_type": "code",
   "execution_count": null,
   "id": "37eb8277",
   "metadata": {},
   "outputs": [],
   "source": []
  },
  {
   "cell_type": "markdown",
   "id": "214f33c4",
   "metadata": {},
   "source": [
    "## Q3"
   ]
  },
  {
   "cell_type": "code",
   "execution_count": null,
   "id": "6a105726",
   "metadata": {},
   "outputs": [],
   "source": [
    "def m_array(arr):\n",
    "    if len(arr) < 3:\n",
    "        return False\n",
    "\n",
    "    n = len(arr)\n",
    "    left = 0\n",
    "    right = n - 1\n",
    "\n",
    "    while left < n - 1 and arr[left] < arr[left + 1]:\n",
    "        left += 1\n",
    "\n",
    "    while right > 0 and arr[right - 1] > arr[right]:\n",
    "        right -= 1\n",
    "\n",
    "    return left > 0 and right < n - 1 and left == right\n"
   ]
  },
  {
   "cell_type": "code",
   "execution_count": null,
   "id": "bb231216",
   "metadata": {},
   "outputs": [],
   "source": []
  },
  {
   "cell_type": "markdown",
   "id": "d1a2754f",
   "metadata": {},
   "source": [
    "## Q4 "
   ]
  },
  {
   "cell_type": "code",
   "execution_count": null,
   "id": "cdc90917",
   "metadata": {},
   "outputs": [],
   "source": [
    "def findMaxLength(nums):\n",
    "    max_length = 0\n",
    "    count = 0\n",
    "    count_map = {0: -1}  # Initialize the count map with count 0 at index -1\n",
    "\n",
    "    for i, num in enumerate(nums):\n",
    "        if num == 0:\n",
    "            count += 1\n",
    "        else:\n",
    "            count -= 1\n",
    "\n",
    "        if count in count_map:\n",
    "            max_length = max(max_length, i - count_map[count])\n",
    "        else:\n",
    "            count_map[count] = i\n",
    "\n",
    "    return max_length\n"
   ]
  },
  {
   "cell_type": "code",
   "execution_count": null,
   "id": "19c765e6",
   "metadata": {},
   "outputs": [],
   "source": []
  },
  {
   "cell_type": "markdown",
   "id": "2642befe",
   "metadata": {},
   "source": [
    "## Q5"
   ]
  },
  {
   "cell_type": "code",
   "execution_count": null,
   "id": "fd11d5da",
   "metadata": {},
   "outputs": [],
   "source": [
    "def minProductSum(nums1, nums2):\n",
    "    nums1.sort()\n",
    "    nums2.sort()\n",
    "\n",
    "    min_product_sum = 0\n",
    "    left = 0\n",
    "    right = len(nums1) - 1\n",
    "\n",
    "    while left <= right:\n",
    "        min_product_sum += nums1[left] * nums2[right]\n",
    "        left += 1\n",
    "        right -= 1\n",
    "\n",
    "    return min_product_sum\n",
    "# time complexity here O(n log n)"
   ]
  },
  {
   "cell_type": "code",
   "execution_count": null,
   "id": "c6fa8400",
   "metadata": {},
   "outputs": [],
   "source": []
  },
  {
   "cell_type": "markdown",
   "id": "93727287",
   "metadata": {},
   "source": [
    " ## Q6"
   ]
  },
  {
   "cell_type": "code",
   "execution_count": 1,
   "id": "f708fc6f",
   "metadata": {},
   "outputs": [],
   "source": [
    "from collections import defaultdict\n",
    "\n",
    "def findOriginalArray(changed):\n",
    "    count = defaultdict(int)\n",
    "\n",
    "    for num in changed:\n",
    "        count[num] += 1\n",
    "\n",
    "    changed.sort()\n",
    "\n",
    "    original = []\n",
    "    for num in changed:\n",
    "        if count[num] == 0:\n",
    "            continue\n",
    "        if count[num * 2] == 0:\n",
    "            return []\n",
    "        original.append(num)\n",
    "        count[num] -= 1\n",
    "        count[num * 2] -= 1\n",
    "\n",
    "    return original\n"
   ]
  },
  {
   "cell_type": "code",
   "execution_count": null,
   "id": "0bf26500",
   "metadata": {},
   "outputs": [],
   "source": []
  },
  {
   "cell_type": "markdown",
   "id": "d44d3ac8",
   "metadata": {},
   "source": [
    "## Q7  DOUBT "
   ]
  },
  {
   "cell_type": "code",
   "execution_count": null,
   "id": "8d969e50",
   "metadata": {},
   "outputs": [],
   "source": [
    "def generateMatrix(n):\n",
    "    matrix = [[0] * n for _ in range(n)]\n",
    "    num = 1\n",
    "    target = n * n\n",
    "    row_start, row_end = 0, n - 1\n",
    "    col_start, col_end = 0, n - 1\n",
    "\n",
    "    while num <= target:\n",
    "        for j in range(col_start, col_end + 1):\n",
    "            matrix[row_start][j] = num\n",
    "            num += 1\n",
    "        row_start += 1\n",
    "\n",
    "        for i in range(row_start, row_end + 1):\n",
    "            matrix[i][col_end] = num\n",
    "            num += 1\n",
    "        col_end -= 1\n",
    "\n",
    "        if row_start <= row_end:\n",
    "            for j in range(col_end, col_start - 1, -1):\n",
    "                matrix[row_end][j] = num\n",
    "                num += 1\n",
    "            row_end -= 1\n",
    "\n",
    "        if col_start <= col_end:\n",
    "            for i in range(row_end, row_start - 1, -1):\n",
    "                matrix[i][col_start] = num\n",
    "                num += 1\n",
    "            col_start += 1\n",
    "\n",
    "    return matrix\n"
   ]
  },
  {
   "cell_type": "code",
   "execution_count": null,
   "id": "93b3b908",
   "metadata": {},
   "outputs": [],
   "source": []
  },
  {
   "cell_type": "markdown",
   "id": "43929427",
   "metadata": {},
   "source": [
    "## Q8"
   ]
  },
  {
   "cell_type": "code",
   "execution_count": null,
   "id": "a2e0f16d",
   "metadata": {},
   "outputs": [],
   "source": [
    "def multiply(mat1, mat2):\n",
    "    m = len(mat1)\n",
    "    k = len(mat1[0])\n",
    "    n = len(mat2[0])\n",
    "\n",
    "    result = {}\n",
    "\n",
    "    for i in range(m):\n",
    "        for j in range(n):\n",
    "            for x in range(k):\n",
    "                product = mat1[i][x] * mat2[x][j]\n",
    "                if product != 0:\n",
    "                    if (i, j) in result:\n",
    "                        result[(i, j)] += product\n",
    "                    else:\n",
    "                        result[(i, j)] = product\n",
    "\n",
    "    result_matrix = [[0] * n for _ in range(m)]\n",
    "    for (i, j), value in result.items():\n",
    "        result_matrix[i][j] = value\n",
    "\n",
    "    return result_matrix\n"
   ]
  },
  {
   "cell_type": "code",
   "execution_count": null,
   "id": "9c839062",
   "metadata": {},
   "outputs": [],
   "source": []
  },
  {
   "cell_type": "code",
   "execution_count": null,
   "id": "902a3974",
   "metadata": {},
   "outputs": [],
   "source": []
  }
 ],
 "metadata": {
  "kernelspec": {
   "display_name": "Python 3 (ipykernel)",
   "language": "python",
   "name": "python3"
  },
  "language_info": {
   "codemirror_mode": {
    "name": "ipython",
    "version": 3
   },
   "file_extension": ".py",
   "mimetype": "text/x-python",
   "name": "python",
   "nbconvert_exporter": "python",
   "pygments_lexer": "ipython3",
   "version": "3.9.12"
  }
 },
 "nbformat": 4,
 "nbformat_minor": 5
}
