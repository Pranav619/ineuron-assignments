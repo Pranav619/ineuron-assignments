{
 "cells": [
  {
   "cell_type": "raw",
   "metadata": {},
   "source": [
    "1. What does an empty dictionary's code look like?\n",
    "Ans) a= {} is the code empty dictionary \n",
    "\n",
    "2. What is the value of a dictionary value with the key 'foo' and the value 42?\n",
    "Ans) a={\"foo\":42}\n",
    "\n",
    "3. What is the most significant distinction between a dictionary and a list?\n",
    "ans ) Dictionaryhave unordered data and also dictionary has keys which are not always numeric and \n",
    "are always specified first while in list keys are always numerics and automatic generated.\n",
    "\n",
    "4. What happens if you try to access spam['foo'] if spam is {'bar': 100}?\n",
    "ans) it will show key error as no such key is present.\n",
    "\n",
    "5. If a dictionary is stored in spam, what is the difference between the expressions 'cat' in spam and\n",
    "'cat' in spam.keys()?\n",
    "Ans) 'cat' represent the key in dict. and former is also same as it checks for the 'cat' key in the dict.\n",
    "\n",
    "\n",
    "6. If a dictionary is stored in spam, what is the difference between the expressions 'cat' in spam and\n",
    "'cat'in spam.values()?\n",
    "Ans) first one check for 'cat' as a key in the dict while the other check for values of any key in \n",
    "the dict.\n",
    "\n",
    "\n",
    "7. What is a shortcut for the following code?\n",
    "if 'color' not in spam:\n",
    "spam['color'] = 'black'\n",
    "Ans )  we can use set default fn as :   spam.setdefault('color':'black')\n",
    "\n",
    "\n",
    "\n",
    "8. How do you \"pretty print\" dictionary values using which module and function?\n",
    "Ans) you should first import pprint and then use pprint.pprint() and pass dict inside into it \n",
    "it will print the data in a more readable form."
   ]
  }
 ],
 "metadata": {
  "kernelspec": {
   "display_name": "Python 3",
   "language": "python",
   "name": "python3"
  },
  "language_info": {
   "codemirror_mode": {
    "name": "ipython",
    "version": 3
   },
   "file_extension": ".py",
   "mimetype": "text/x-python",
   "name": "python",
   "nbconvert_exporter": "python",
   "pygments_lexer": "ipython3",
   "version": "3.7.6"
  }
 },
 "nbformat": 4,
 "nbformat_minor": 4
}
