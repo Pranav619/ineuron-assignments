{
 "cells": [
  {
   "cell_type": "raw",
   "id": "900b70b1",
   "metadata": {},
   "source": [
    "1. Is the Python Standard Library included with PyInputPlus? \n",
    "No pyInputPlus is not a standard library included with python,we have to install it with pip function\n",
    "\n",
    "2. Why is PyInputPlus commonly imported with import pyinputplus as pypi? \n",
    "PyInputPlus is equal to pypi as its a shortcut so we can use any one of them\n",
    "\n",
    "\n",
    "3. How do you distinguish between inputInt() and inputFloat()? \n",
    "as the name sugest inputInt() : Accepts an integer value, and returns int value\n",
    "inputFloat() : Accepts integer/floating point value and returns float value\n",
    "\n",
    "4. Using PyInputPlus, how do you ensure that the user enters a whole number between 0 and 99? \n",
    "\n",
    "we can set the min = 0 and max =99 to ensure user enters number between 0 and 99\n",
    "like pyip.inputInt(min = 0, max =99)\n",
    "\n",
    "\n",
    "\n",
    "5. What is transferred to the keyword arguments allowRegexes and blockRegexes? \n",
    "We can also use regular expressions to specify whether an input is allowed or not. The allowRegexes and blockRegexes keyword arguments take a list of regular expression strings to determine what the PyInputPlus function will accept or reject as valid input.\n",
    "\n",
    "\n",
    "\n",
    "6. If a blank input is entered three times, what does inputStr(limit=3) do?\n",
    "\n",
    "Ans. It will throw RetryLimitException exception.\n",
    "\n",
    "\n",
    "\n",
    "7. If blank input is entered three times, what does inputStr(limit=3, default='hello') do? \n",
    "When you use limit keyword arguments and also pass a default keyword argument, the function returns the default value instead of raising an exception\n",
    "\n"
   ]
  }
 ],
 "metadata": {
  "kernelspec": {
   "display_name": "Python 3 (ipykernel)",
   "language": "python",
   "name": "python3"
  },
  "language_info": {
   "codemirror_mode": {
    "name": "ipython",
    "version": 3
   },
   "file_extension": ".py",
   "mimetype": "text/x-python",
   "name": "python",
   "nbconvert_exporter": "python",
   "pygments_lexer": "ipython3",
   "version": "3.9.7"
  }
 },
 "nbformat": 4,
 "nbformat_minor": 5
}
