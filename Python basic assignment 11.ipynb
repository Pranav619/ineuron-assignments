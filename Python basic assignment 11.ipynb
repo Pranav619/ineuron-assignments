{
 "cells": [
  {
   "cell_type": "raw",
   "id": "7b2c7be6",
   "metadata": {},
   "source": [
    "1. Create an assert statement that throws an AssertionError if the variable spam is a negative\n",
    "integer.\n",
    "Ans) assert(spam<0,\"AssertionError\")\n",
    "\n",
    "\n",
    "2. Write an assert statement that triggers an AssertionError if the variables eggs and bacon contain\n",
    "strings that are the same as each other, even if their cases are different (that is, 'hello' and 'hello' are\n",
    "considered the same, and 'goodbye' and 'GOODbye' are also considered the same).\n",
    "Ans)\n",
    "assert(eggs.lower() != bacon.lower(), 'The eggs and bacon variables are the same!') or assert(eggs.upper() != bacon.upper(), 'The eggs and bacon variables are the same!')\n",
    "\n",
    "\n",
    "\n",
    "3. Create an assert statement that throws an AssertionError every time.\n",
    "assert(False, 'This assertion always triggers.')\n",
    "\n",
    "\n",
    "4. What are the two lines that must be present in your software in order to call logging.debug()?\n",
    "two lines are :\n",
    "import logging \n",
    "logging.basicConfig(level=logging.DEBUG, format=' %(asctime)s - %(levelname)s - %(message)s')\n",
    "\n",
    "\n",
    "\n",
    "5. What are the two lines that your program must have in order to have logging.debug() send a\n",
    "logging message to a file named programLog.txt?\n",
    "Ans)\n",
    "import logging logging.basicConfig(filename='programLog.txt', level=logging.DEBUG, format=' %(asctime)s - %(levelname)s - %(message)s')\n",
    "\n",
    "\n",
    "6. What are the five levels of logging?\n",
    "ans) five levels are :  DEBUG, INFO, WARNING, ERROR, and CRITICAL\n",
    "\n",
    "\n",
    "7. What line of code would you add to your software to disable all logging messages?\n",
    "logging.disable(logging.CRITICAL)\n",
    "\n",
    "8.Why is using logging messages better than using print() to display the same message?\n",
    "You can disable logging messages without removing the logging function calls. \n",
    "You can selectively disable lower-level logging messages.\n",
    "You can create logging messages. \n",
    "Logging messages provides a timestamp.\n",
    "\n",
    "9. What are the differences between the Step Over, Step In, and Step Out buttons in the debugger?\n",
    "ans) \n",
    "The Step button will move the debugger into a function call. The Over button will quickly execute the function call without stepping into it. The Out button will quickly execute the rest of the code until it steps out of the function it currently is in.\n",
    "\n",
    "\n",
    "10.After you click Continue, when will the debugger stop ?\n",
    "Ans ) click Go, the debugger will stop when it has reached the end of the program or a line with a breakpoint.\n",
    "\n",
    "11. What is the concept of a breakpoint?\n",
    "ans)It is a tool that allows developers to set points in code at which a debugger is called. By default, this function results in an instantiation of Python's native debugger class"
   ]
  }
 ],
 "metadata": {
  "kernelspec": {
   "display_name": "Python 3 (ipykernel)",
   "language": "python",
   "name": "python3"
  },
  "language_info": {
   "codemirror_mode": {
    "name": "ipython",
    "version": 3
   },
   "file_extension": ".py",
   "mimetype": "text/x-python",
   "name": "python",
   "nbconvert_exporter": "python",
   "pygments_lexer": "ipython3",
   "version": "3.9.7"
  }
 },
 "nbformat": 4,
 "nbformat_minor": 5
}
