{
 "cells": [
  {
   "cell_type": "markdown",
   "id": "a3fab0ce",
   "metadata": {},
   "source": [
    "1. Write a Python program to print \"Hello Python\"? \n",
    "2. Write a Python program to do arithmetical operations addition and division? \n",
    "3. Write a Python program to find the area of a triangle? \n",
    "4. Write a Python program to swap two variables? \n",
    "5. Write a Python program to generate a random number?"
   ]
  },
  {
   "cell_type": "markdown",
   "id": "96999563",
   "metadata": {},
   "source": [
    "# 1"
   ]
  },
  {
   "cell_type": "code",
   "execution_count": 1,
   "id": "384f7618",
   "metadata": {
    "scrolled": true
   },
   "outputs": [
    {
     "name": "stdout",
     "output_type": "stream",
     "text": [
      "Hello Python\n"
     ]
    }
   ],
   "source": [
    "print(\"Hello Python\")"
   ]
  },
  {
   "cell_type": "markdown",
   "id": "6363727e",
   "metadata": {},
   "source": [
    "# 2"
   ]
  },
  {
   "cell_type": "code",
   "execution_count": 24,
   "id": "6bb3a2d1",
   "metadata": {},
   "outputs": [
    {
     "name": "stdout",
     "output_type": "stream",
     "text": [
      "choose 1 for addition OR 2 for division  3\n",
      "invalid input \n"
     ]
    }
   ],
   "source": [
    "a= int(input(\"choose 1 for addition OR 2 for division  \"))\n",
    "if a==1:\n",
    "    x, y = map(int, input(\"enter two number to add\").split())\n",
    "    print(\"addition =\", x+y)\n",
    "elif a==2:\n",
    "    x, y = map(int, input(\"enter two number to divide\").split())\n",
    "    print(\"division =\", x/y )\n",
    "else:\n",
    "    print(\"invalid input \")"
   ]
  },
  {
   "cell_type": "markdown",
   "id": "72f9291b",
   "metadata": {},
   "source": [
    "# 3"
   ]
  },
  {
   "cell_type": "code",
   "execution_count": 25,
   "id": "283c1d0a",
   "metadata": {},
   "outputs": [
    {
     "name": "stdout",
     "output_type": "stream",
     "text": [
      "enter base and height of traingle 2 55\n",
      "55.0 is the area of triangle \n"
     ]
    }
   ],
   "source": [
    "x, y = map(int, input(\"enter base and height of traingle \").split())\n",
    "print(0.5*x*y, \"is the area of triangle \")"
   ]
  },
  {
   "cell_type": "markdown",
   "id": "e7dca86d",
   "metadata": {},
   "source": [
    "# 4"
   ]
  },
  {
   "cell_type": "code",
   "execution_count": 29,
   "id": "22f12ee7",
   "metadata": {},
   "outputs": [
    {
     "name": "stdout",
     "output_type": "stream",
     "text": [
      "enter x and y of traingle 1 2\n",
      "1 2  values before split\n",
      "2 1  values after split\n"
     ]
    }
   ],
   "source": [
    "x, y = map(int, input(\"enter x and y of traingle \").split())\n",
    "print(x,y,\" values before split\")\n",
    "a=0\n",
    "a=x\n",
    "x=y\n",
    "y=a\n",
    "print(x,y, \" values after split\")"
   ]
  },
  {
   "cell_type": "markdown",
   "id": "06378aaf",
   "metadata": {},
   "source": [
    "# 5"
   ]
  },
  {
   "cell_type": "code",
   "execution_count": 39,
   "id": "fb95d42d",
   "metadata": {},
   "outputs": [
    {
     "name": "stdout",
     "output_type": "stream",
     "text": [
      "Random number ->  24\n"
     ]
    }
   ],
   "source": [
    "from random import randint\n",
    "\n",
    "def randomintr(s=0,e=100000):\n",
    "        print('Random number -> ',randint(s,e))\n",
    "randomintr(0,100)"
   ]
  },
  {
   "cell_type": "code",
   "execution_count": null,
   "id": "5977782f",
   "metadata": {},
   "outputs": [],
   "source": []
  }
 ],
 "metadata": {
  "kernelspec": {
   "display_name": "Python 3 (ipykernel)",
   "language": "python",
   "name": "python3"
  },
  "language_info": {
   "codemirror_mode": {
    "name": "ipython",
    "version": 3
   },
   "file_extension": ".py",
   "mimetype": "text/x-python",
   "name": "python",
   "nbconvert_exporter": "python",
   "pygments_lexer": "ipython3",
   "version": "3.9.7"
  }
 },
 "nbformat": 4,
 "nbformat_minor": 5
}
