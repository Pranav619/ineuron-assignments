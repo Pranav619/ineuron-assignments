{
 "cells": [
  {
   "cell_type": "markdown",
   "id": "084795f7",
   "metadata": {},
   "source": [
    "## Assignmnet 14"
   ]
  },
  {
   "cell_type": "markdown",
   "id": "7bae9ff6",
   "metadata": {},
   "source": [
    "#### Question 1: Define a class with a generator which can iterate the numbers, which are divisible by 7, between a given range 0 and n."
   ]
  },
  {
   "cell_type": "code",
   "execution_count": 31,
   "id": "fda87564",
   "metadata": {},
   "outputs": [
    {
     "name": "stdout",
     "output_type": "stream",
     "text": [
      "0 7 14 21 28 35 42 49 56 63 70 77 84 91 98 "
     ]
    }
   ],
   "source": [
    "class div_generator:\n",
    "    def __init__(self,in_num):\n",
    "        self.in_num = in_num\n",
    "    def get_numbers(self):\n",
    "        for ele in range(0,self.in_num+1):\n",
    "            if ele%7 == 0:\n",
    "                yield ele\n",
    "                \n",
    "output = div_generator(100)\n",
    "for ele in output.get_numbers():\n",
    "    print(ele,end=' ')"
   ]
  },
  {
   "cell_type": "markdown",
   "id": "5f746521",
   "metadata": {},
   "source": [
    "#### Question 2: Write a program to compute the frequency of the words from the input. The output should output after sorting the key alphanumerically. Suppose the following input is supplied to the program: \n",
    "New to Python or choosing between Python 2 and Python 3? Read Python 2 or Python 3. Then, the output should be: 2:2 3.:1 3?:1 New:1 Python:5 Read:1 and:1 between:1 choosing:1 or:2 to:1"
   ]
  },
  {
   "cell_type": "code",
   "execution_count": 3,
   "id": "4c4e3d22",
   "metadata": {},
   "outputs": [
    {
     "name": "stdout",
     "output_type": "stream",
     "text": [
      "Enter the Input String: my my my name is \n",
      ":1 is:1 my:3 name:1 "
     ]
    }
   ],
   "source": [
    "def checkFrequency():\n",
    "    in_string = input(\"Enter the Input String: \")\n",
    "    frequency = {}\n",
    "    for ele in in_string.split(\" \"):\n",
    "        if(frequency.get(ele) == None):\n",
    "            frequency[ele] = 1\n",
    "        else:\n",
    "            frequency[ele] += 1 \n",
    "    for ele in sorted(frequency):\n",
    "        print(f'{ele}:{frequency[ele]}',end=\" \")\n",
    "checkFrequency()"
   ]
  },
  {
   "cell_type": "code",
   "execution_count": null,
   "id": "9adf5545",
   "metadata": {},
   "outputs": [],
   "source": []
  },
  {
   "cell_type": "markdown",
   "id": "49d0b9a8",
   "metadata": {},
   "source": [
    "#### Question 3: Define a class Person and its two child classes: Male and Female. All classes have a method \"getGender\" which can print \"Male\" for Male class and \"Female\" for Female class."
   ]
  },
  {
   "cell_type": "code",
   "execution_count": 6,
   "id": "ec1a79bc",
   "metadata": {},
   "outputs": [
    {
     "name": "stdout",
     "output_type": "stream",
     "text": [
      "calling Male\n",
      "Calling Female\n"
     ]
    }
   ],
   "source": [
    "class Person():\n",
    "    def getGender():\n",
    "        pass\n",
    "        \n",
    "    \n",
    "    \n",
    "class Male(Person):\n",
    "        def getGender():\n",
    "            print(\"calling Male\")\n",
    "    \n",
    "class Female(Person):\n",
    "        def getGender():\n",
    "            print(\"Calling Female\")\n",
    "Male.getGender()\n",
    "Female.getGender()       "
   ]
  },
  {
   "cell_type": "code",
   "execution_count": null,
   "id": "db3a1be4",
   "metadata": {},
   "outputs": [],
   "source": []
  },
  {
   "cell_type": "markdown",
   "id": "35b598b6",
   "metadata": {},
   "source": [
    "#### Question 4: Please write a program to generate all sentences where subject is in [\"I\", \"You\"] and verb is in [\"Play\", \"Love\"] and the object is in [\"Hockey\",\"Football\"]. "
   ]
  },
  {
   "cell_type": "code",
   "execution_count": 12,
   "id": "a8767884",
   "metadata": {},
   "outputs": [
    {
     "name": "stdout",
     "output_type": "stream",
     "text": [
      "I Play Hockey\n",
      "I Play Football\n",
      "I Love Hockey\n",
      "I Love Football\n",
      "You Play Hockey\n",
      "You Play Football\n",
      "You Love Hockey\n",
      "You Love Football\n"
     ]
    }
   ],
   "source": [
    "def generateSentences():\n",
    "    subject = ['I','You']\n",
    "    verb = ['Play','Love']\n",
    "    object = ['Hockey','Football']\n",
    "    for s in subject:\n",
    "        for v in verb:\n",
    "            for o in object:\n",
    "                print(f'{s} {v} {o}')\n",
    "                \n",
    "generateSentences()"
   ]
  },
  {
   "cell_type": "code",
   "execution_count": null,
   "id": "ec7c03e3",
   "metadata": {},
   "outputs": [],
   "source": []
  },
  {
   "cell_type": "markdown",
   "id": "4e631d92",
   "metadata": {},
   "source": [
    "#### Question 5: Please write a program to compress and decompress the string \"hello world!hello world!hello world!hello world!\""
   ]
  },
  {
   "cell_type": "code",
   "execution_count": 11,
   "id": "3ea59244",
   "metadata": {},
   "outputs": [
    {
     "name": "stdout",
     "output_type": "stream",
     "text": [
      "ineuron ful2 stack datascience november m4\n",
      "ineuron full stack datascience november\n",
      "go2gle po2land2 to3 m4\n",
      "ineuron full nnnoooovvvvvember\n"
     ]
    }
   ],
   "source": [
    "def compress(in_string):\n",
    "    output = in_string[0]\n",
    "    count = 1\n",
    "    for ele in range(len(in_string)-1):\n",
    "        if in_string[ele] == in_string[ele+1]:\n",
    "            count +=1\n",
    "        else:\n",
    "            if count > 1:\n",
    "                output += str(count)\n",
    "            output += in_string[ele+1]\n",
    "            count = 1\n",
    "    if count > 1:\n",
    "        output += str(count)            \n",
    "    print(output)\n",
    "\n",
    "\n",
    "def decompress(in_string):\n",
    "    output = ''\n",
    "    for ele in range(len(in_string)):\n",
    "        if in_string[ele].isdigit():\n",
    "            output += output[-1]*(int(in_string[ele])-1)\n",
    "        else:\n",
    "            output += in_string[ele]\n",
    "    print(output)\n",
    "\n",
    "compress('ineuron full stack datascience november mmmm')\n",
    "decompress('ineuron ful2 stack datascience november')\n",
    "\n",
    "\n",
    "compress('google poolandd tooo mmmm')\n",
    "decompress('ineuron ful2 n3o4v5ember')"
   ]
  },
  {
   "cell_type": "markdown",
   "id": "60e319b9",
   "metadata": {},
   "source": [
    "#### Question 6:  Please write a binary search function which searches an item in a sorted list. \n",
    "The function should return the index of element to be searched in the list."
   ]
  },
  {
   "cell_type": "code",
   "execution_count": 49,
   "id": "ec7d73d4",
   "metadata": {},
   "outputs": [
    {
     "name": "stdout",
     "output_type": "stream",
     "text": [
      "Enter the number to search: 4\n"
     ]
    },
    {
     "data": {
      "text/plain": [
       "3"
      ]
     },
     "execution_count": 49,
     "metadata": {},
     "output_type": "execute_result"
    }
   ],
   "source": [
    "sorted_list = [1,2,3,4,5,6,7,8,9,10]\n",
    "def binarySearch():\n",
    "    s=0\n",
    "    e=len(sorted_list)\n",
    "    n=int(input(\"Enter the number to search: \"))\n",
    "    while s<=e:\n",
    "        mid= int(s+ (e-s)/2)\n",
    "        if sorted_list[mid]==n:\n",
    "            return mid\n",
    "        if sorted_list[mid]<n:\n",
    "            s=mid+1\n",
    "        elif sorted_list[mid]>n:\n",
    "            e= mid-1\n",
    "    else:\n",
    "        return 'Input Element not in the list'    \n",
    "binarySearch()           "
   ]
  }
 ],
 "metadata": {
  "kernelspec": {
   "display_name": "Python 3 (ipykernel)",
   "language": "python",
   "name": "python3"
  },
  "language_info": {
   "codemirror_mode": {
    "name": "ipython",
    "version": 3
   },
   "file_extension": ".py",
   "mimetype": "text/x-python",
   "name": "python",
   "nbconvert_exporter": "python",
   "pygments_lexer": "ipython3",
   "version": "3.9.7"
  }
 },
 "nbformat": 4,
 "nbformat_minor": 5
}
