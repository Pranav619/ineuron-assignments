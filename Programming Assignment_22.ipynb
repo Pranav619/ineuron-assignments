{
 "cells": [
  {
   "cell_type": "markdown",
   "id": "e759ac1a",
   "metadata": {},
   "source": [
    "## Assignment 22"
   ]
  },
  {
   "cell_type": "markdown",
   "id": "82c9497e",
   "metadata": {},
   "source": [
    "#### Question1 Create a function that takes three parameters where: \n",
    "\n",
    " x is the start of the range (inclusive). \n",
    "\n",
    " y is the end of the range (inclusive). \n",
    "\n",
    " n is the divisor to be checked against.\n",
    "\n",
    "Return an ordered list with numbers in the range that are divisible by the third parameter n . Return an empty list if there are no numbers that are divisible by n .\n",
    "\n",
    "Examples\n",
    "\n",
    "list_operation(1, 10, 3) ➞ [3, 6, 9] \n",
    "\n",
    "list_operation(7, 9, 2) ➞ [8] \n",
    "\n",
    "list_operation(15, 20, 7) ➞ []"
   ]
  },
  {
   "cell_type": "code",
   "execution_count": 4,
   "id": "6b79d72a",
   "metadata": {},
   "outputs": [
    {
     "name": "stdout",
     "output_type": "stream",
     "text": [
      "output: [3, 6, 9]\n",
      "output: [8]\n",
      "output: []\n"
     ]
    }
   ],
   "source": [
    "def list_operation(x,y,n):\n",
    "    l=[]\n",
    "    for i in range(x,y):\n",
    "        if i%n==0:\n",
    "            l.append(i)\n",
    "    print(f'output: {l}')        \n",
    "list_operation(1, 10, 3) \n",
    "\n",
    "list_operation(7, 9, 2)\n",
    "\n",
    "list_operation(15, 20, 7)  "
   ]
  },
  {
   "cell_type": "markdown",
   "id": "1ddd395e",
   "metadata": {},
   "source": [
    "#### Question2 Create a function that takes in two lists and returns True if the second list follows the first list by one element, and False otherwise. In other words, determine if the second list is the first list shifted to the right by 1. \n",
    "\n",
    "Examples \n",
    "\n",
    "simon_says([1, 2], [5, 1]) ➞ True \n",
    "\n",
    "simon_says([1, 2], [5, 5]) ➞ False \n",
    "\n",
    "simon_says([1, 2, 3, 4, 5], [0, 1, 2, 3, 4]) ➞ True \n",
    "\n",
    "simon_says([1, 2, 3, 4, 5], [5, 5, 1, 2, 3]) ➞ False\n",
    "\n",
    "Notes  Both input lists will be of the same length, and will have a minimum length of 2.  The values of the 0 -indexed element in the second list and the n-1 th indexed element in the first list do not matter."
   ]
  },
  {
   "cell_type": "code",
   "execution_count": 32,
   "id": "2cb7bca0",
   "metadata": {},
   "outputs": [
    {
     "name": "stdout",
     "output_type": "stream",
     "text": [
      "true\n",
      "False\n",
      "true\n",
      "False\n"
     ]
    }
   ],
   "source": [
    "def simon_says(l1,l2):\n",
    "    #for i in range(len(l1)-1):\n",
    "        if l1[:-1]== l2[1:]:\n",
    "            print('true')\n",
    "        else:\n",
    "            print('False')       \n",
    "simon_says([1, 2], [5, 1]) \n",
    "\n",
    "simon_says([1, 2], [5, 5]) \n",
    "\n",
    "simon_says([1, 2, 3, 4, 5], [0, 1, 2, 3, 4])\n",
    "\n",
    "simon_says([1, 2, 3, 4, 5], [5, 5, 1, 2, 3]) \n",
    "    "
   ]
  },
  {
   "cell_type": "markdown",
   "id": "96644e03",
   "metadata": {},
   "source": [
    "#### Question3 A group of friends have decided to start a secret society. The name will be the first letter of each of their names, sorted in alphabetical order. \n",
    "Create a function that takes in a list of names and returns the name of the secret society. \n",
    "\n",
    "Examples \n",
    "\n",
    "society_name([\"Adam\", \"Sarah\", \"Malcolm\"]) ➞ \"AMS\" \n",
    "\n",
    "society_name([\"Harry\", \"Newt\", \"Luna\", \"Cho\"]) ➞ \"CHLN\"\n",
    "\n",
    "society_name([\"Phoebe\", \"Chandler\", \"Rachel\", \"Ross\", \"Monica\", \"Joey\"])"
   ]
  },
  {
   "cell_type": "code",
   "execution_count": 42,
   "id": "cc8427ae",
   "metadata": {},
   "outputs": [
    {
     "name": "stdout",
     "output_type": "stream",
     "text": [
      "AMS\n",
      "CHLN\n",
      "CJMPRR\n"
     ]
    }
   ],
   "source": [
    "def society_name(list):\n",
    "    b=\"\"\n",
    "    for i in range(len(list)):\n",
    "        b= b + (' '.join((list[i][0])))\n",
    "        b=''.join(sorted(b))\n",
    "    print(b.upper())\n",
    "society_name([\"Adam\", \"Sarah\", \"Malcolm\"])\n",
    "society_name([\"Harry\", \"Newt\", \"Luna\", \"Cho\"]) \n",
    "society_name([\"Phoebe\", \"Chandler\", \"Rachel\", \"Ross\", \"Monica\", \"Joey\"])"
   ]
  },
  {
   "cell_type": "markdown",
   "id": "ad19e851",
   "metadata": {},
   "source": [
    "#### Question4 An isogram is a word that has no duplicate letters. \n",
    "\n",
    "Create a function that takes a string and returns either True or False depending on whether or not it's an \"isogram\". \n",
    "Examples \n",
    "\n",
    "is_isogram(\"Algorism\") ➞ True \n",
    "\n",
    "is_isogram(\"PasSword\") ➞ False # Not case sensitive.\n",
    "\n",
    "is_isogram(\"Consecutive\") ➞ False\n",
    "\n",
    "Notes  Ignore letter case (should not be case sensitive).  All test cases contain valid one word strings"
   ]
  },
  {
   "cell_type": "code",
   "execution_count": 49,
   "id": "3e4e756c",
   "metadata": {},
   "outputs": [
    {
     "data": {
      "text/plain": [
       "True"
      ]
     },
     "execution_count": 49,
     "metadata": {},
     "output_type": "execute_result"
    }
   ],
   "source": [
    "def is_isogram(s):\n",
    "    b=\"\"\n",
    "    s=s.lower()\n",
    "    for i in s:\n",
    "        if i in b:\n",
    "            return False\n",
    "        else:\n",
    "            b=b+i\n",
    "    return True\n",
    "\n",
    "is_isogram(\"Algorism\") \n"
   ]
  },
  {
   "cell_type": "markdown",
   "id": "47f8a39e",
   "metadata": {},
   "source": [
    "#### Question5 Create a function that takes a string and returns True or False , depending on whether the characters are in order or not. \n",
    "\n",
    "Examples \n",
    "\n",
    "is_in_order(\"abc\") ➞ True \n",
    "\n",
    "is_in_order(\"edabit\") ➞ False \n",
    "\n",
    "is_in_order(\"123\") ➞ True \n",
    "\n",
    "is_in_order(\"xyzz\") ➞ True \n",
    "\n",
    "Notes You don't have to handle empty strings"
   ]
  },
  {
   "cell_type": "code",
   "execution_count": 53,
   "id": "2ae94839",
   "metadata": {},
   "outputs": [
    {
     "data": {
      "text/plain": [
       "True"
      ]
     },
     "execution_count": 53,
     "metadata": {},
     "output_type": "execute_result"
    }
   ],
   "source": [
    "def is_in_order(a):\n",
    "    for i in range(len(a)):\n",
    "        if ord(a[i])<ord(a[i+1]):\n",
    "            return True\n",
    "        else:\n",
    "            return False\n",
    "is_in_order(\"xyzz\")"
   ]
  },
  {
   "cell_type": "code",
   "execution_count": null,
   "id": "75ee9b0e",
   "metadata": {},
   "outputs": [],
   "source": []
  },
  {
   "cell_type": "code",
   "execution_count": null,
   "id": "9cbfc07c",
   "metadata": {},
   "outputs": [],
   "source": []
  }
 ],
 "metadata": {
  "kernelspec": {
   "display_name": "Python 3 (ipykernel)",
   "language": "python",
   "name": "python3"
  },
  "language_info": {
   "codemirror_mode": {
    "name": "ipython",
    "version": 3
   },
   "file_extension": ".py",
   "mimetype": "text/x-python",
   "name": "python",
   "nbconvert_exporter": "python",
   "pygments_lexer": "ipython3",
   "version": "3.9.7"
  }
 },
 "nbformat": 4,
 "nbformat_minor": 5
}
