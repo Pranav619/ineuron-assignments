{
 "cells": [
  {
   "cell_type": "raw",
   "id": "abf8bbce",
   "metadata": {},
   "source": [
    "1. What are escape characters, and how do you use them?\n",
    "Ans) escape characters are the symbols which can be used to write illegeal characters in a string, like an backslash \\ is used to write or \\n , \\t ,\\b,\\f etc \n",
    "\n",
    "\n",
    "2. What do the escape characters n and t stand for? \n",
    "n is for new line and t is for tab\n",
    "\n",
    "\n",
    "3. What is the way to include backslash characters in a string? \n",
    "errror: line = \"i am \"pranav\" from delhi.\"\n",
    "using backslash : line = \"i am \\\"pranav\\\" from delhi.\"\n",
    "\n",
    "\n",
    "4. The string \"Howl's Moving Castle\" is a correct value. Why isn't the single quote character in the word Howl's not escaped a problem? \n",
    "as double quote are used to start and end , single quote is fine in howl's and will not give any error.\n",
    "\n",
    "\n",
    "5. How do you write a string of newlines if you don't want to use the n character? \n",
    "if we use new print fn we automatically go to a new line and we dont have to use \\n  \n",
    "\n",
    "\n",
    "6. What are the values of the given expressions? 'Hello, world!'[1] 'Hello, world!'[0:5] 'Hello, world!'[:5] 'Hello, world!'[3:] \n",
    "'Hello, world!'[1] will give 'e'\n",
    "'Hello, world!'[0:5] gives 'Hello'\n",
    "'Hello, world!'[:5] gives 'Hello'\n",
    "'Hello, world!'[3:] gives 'lo, world!'\n",
    "\n",
    "\n",
    "\n",
    "7. What are the values of the following expressions? 'Hello'.upper() 'Hello'.upper().isupper() 'Hello'.upper().lower()\n",
    "'Hello'.upper() covert to uppercase = 'HELLO'\n",
    "'Hello'.upper().isupper() convert and then check and gives = True \n",
    "'Hello'.upper().lower() convert upper then lower gives = 'hello'\n",
    "\n",
    "\n",
    "\n",
    "8. What are the values of the following expressions? 'Remember, remember, the fifth of July.'.split() '-'.join('There can only one.'.split()) \n",
    "split function spilts out each word  and gives = ['Remember,', 'remember,', 'the', 'fifth', 'of', 'July.']\n",
    "and join the string with - symbol and gives = 'There-can-only-one.'\n",
    "\n",
    "\n",
    "9. What are the methods for right-justifying, left-justifying, and centering a string? \n",
    "ljust() , rjust(), centre() are the methods \n",
    "10. What is the best way to remove whitespace characters from the start or end?\n",
    "To remove whitespace characters from the beginning or from the end of a string only, we can use the trimStart() or trimEnd() method.\n",
    "\n",
    "\n",
    "Thanks \n",
    "Pranav Sharma \n",
    "Full stack Nov batch \n"
   ]
  },
  {
   "cell_type": "code",
   "execution_count": null,
   "id": "5680f8d5",
   "metadata": {},
   "outputs": [],
   "source": []
  }
 ],
 "metadata": {
  "kernelspec": {
   "display_name": "Python 3 (ipykernel)",
   "language": "python",
   "name": "python3"
  },
  "language_info": {
   "codemirror_mode": {
    "name": "ipython",
    "version": 3
   },
   "file_extension": ".py",
   "mimetype": "text/x-python",
   "name": "python",
   "nbconvert_exporter": "python",
   "pygments_lexer": "ipython3",
   "version": "3.9.7"
  }
 },
 "nbformat": 4,
 "nbformat_minor": 5
}
