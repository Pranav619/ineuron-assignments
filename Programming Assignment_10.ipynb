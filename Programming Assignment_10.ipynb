{
 "cells": [
  {
   "cell_type": "markdown",
   "id": "2bbfe86b",
   "metadata": {},
   "source": [
    "1. Write a Python program to find sum of elements in list? \n",
    "2. Write a Python program to Multiply all numbers in the list?\n",
    "3. Write a Python program to find smallest number in a list? \n",
    "4. Write a Python program to find largest number in a list? \n",
    "5. Write a Python program to find second largest number in a list?\n",
    "6. Write a Python program to find N largest elements from a list?\n",
    "7. Write a Python program to print even numbers in a list? \n",
    "8. Write a Python program to print odd numbers in a List? \n",
    "9. Write a Python program to Remove empty List from List? \n",
    "10. Write a Python program to Cloning or Copying a list? \n",
    "11. Write a Python program to Count occurrences of an element in a list?"
   ]
  },
  {
   "cell_type": "markdown",
   "id": "925657c3",
   "metadata": {},
   "source": [
    "## 1"
   ]
  },
  {
   "cell_type": "code",
   "execution_count": 12,
   "id": "4c221257",
   "metadata": {},
   "outputs": [
    {
     "name": "stdout",
     "output_type": "stream",
     "text": [
      "33 is the sum of list\n"
     ]
    }
   ],
   "source": [
    "def sumList():\n",
    "    l=[1,23,4,5]\n",
    "    s=0\n",
    "    for i in range(len(l)):\n",
    "        s = s + int(l[i])\n",
    "    print(f'{s} is the sum of list')\n",
    "sumList()    "
   ]
  },
  {
   "cell_type": "markdown",
   "id": "bd2814c4",
   "metadata": {},
   "source": [
    "## 2"
   ]
  },
  {
   "cell_type": "code",
   "execution_count": 11,
   "id": "a75a468f",
   "metadata": {},
   "outputs": [
    {
     "name": "stdout",
     "output_type": "stream",
     "text": [
      "20 is the product of list\n"
     ]
    }
   ],
   "source": [
    "def productList():\n",
    "    l=[1,1,4,5]\n",
    "    s=1\n",
    "    for i in range(len(l)):\n",
    "        s = s * int(l[i])\n",
    "    print(f'{s} is the product of list')\n",
    "productList()    "
   ]
  },
  {
   "cell_type": "markdown",
   "id": "35e907d4",
   "metadata": {},
   "source": [
    "## 3"
   ]
  },
  {
   "cell_type": "code",
   "execution_count": 38,
   "id": "e683e0ea",
   "metadata": {},
   "outputs": [
    {
     "name": "stdout",
     "output_type": "stream",
     "text": [
      "2.3 is the smallest in the list\n"
     ]
    }
   ],
   "source": [
    "l=[11,2.3]\n",
    "\n",
    "def productList(l):\n",
    "    if len(l) == False:\n",
    "        print(\"please enter elements in list\")\n",
    "        return\n",
    "    s=l[0]\n",
    "    for i in range(1,len(l)):\n",
    "        if l[i]<s:\n",
    "            s=l[i]\n",
    "    print(f'{s} is the smallest in the list')\n",
    "productList(l)    "
   ]
  },
  {
   "cell_type": "markdown",
   "id": "e29fe5af",
   "metadata": {},
   "source": [
    "## 4"
   ]
  },
  {
   "cell_type": "code",
   "execution_count": 40,
   "id": "47892b5f",
   "metadata": {},
   "outputs": [
    {
     "name": "stdout",
     "output_type": "stream",
     "text": [
      "45 is the largest in the list\n"
     ]
    }
   ],
   "source": [
    "l=[11,2.3,33,45,2,3,4,5]\n",
    "\n",
    "def largestList(l):\n",
    "    if len(l) == False:\n",
    "        print(\"please enter elements in list\")\n",
    "        return\n",
    "    s=l[0]\n",
    "    for i in range(1,len(l)):\n",
    "        if l[i]>s:\n",
    "            s=l[i]\n",
    "    print(f'{s} is the largest in the list')\n",
    "largestList(l)    "
   ]
  },
  {
   "cell_type": "markdown",
   "id": "f2d5659a",
   "metadata": {},
   "source": [
    "## 5"
   ]
  },
  {
   "cell_type": "code",
   "execution_count": 4,
   "id": "37d62285",
   "metadata": {},
   "outputs": [
    {
     "name": "stdout",
     "output_type": "stream",
     "text": [
      "77 is the second largest element\n"
     ]
    }
   ],
   "source": [
    "l=[12, 13, 14, 15, 77,78]\n",
    "def secondLargestList(l):\n",
    "    l.sort()\n",
    "    o= l[len(l)-2]\n",
    "    print(f'{o} is the second largest element')\n",
    "secondLargestList(l)    "
   ]
  },
  {
   "cell_type": "markdown",
   "id": "48f2bcaa",
   "metadata": {},
   "source": [
    "## 6"
   ]
  },
  {
   "cell_type": "code",
   "execution_count": 14,
   "id": "05a2803d",
   "metadata": {},
   "outputs": [
    {
     "name": "stdout",
     "output_type": "stream",
     "text": [
      "14 is the 4th largest element\n"
     ]
    }
   ],
   "source": [
    "l=[12, 13, 14, 15, 77,78]\n",
    "\n",
    "def nthLargestInList(l,p):\n",
    "    l.sort()\n",
    "    o= l[len(l)-p]\n",
    "    print(f'{o} is the {p}th largest element')\n",
    "nthLargestInList(l,4)    "
   ]
  },
  {
   "cell_type": "markdown",
   "id": "11b294b8",
   "metadata": {},
   "source": [
    "## 7"
   ]
  },
  {
   "cell_type": "code",
   "execution_count": 20,
   "id": "0f17c921",
   "metadata": {},
   "outputs": [
    {
     "name": "stdout",
     "output_type": "stream",
     "text": [
      "[32, 884, 6, 8] is the even list\n"
     ]
    }
   ],
   "source": [
    "l=[11,32,884,6,7,8]\n",
    "\n",
    "def evenList(l):\n",
    "    e=[]\n",
    "    if len(l) == False:\n",
    "        print(\"please enter elements in list\")\n",
    "        return\n",
    "    for i in range(len(l)):\n",
    "        if l[i]%2==0:\n",
    "            e.append(l[i])\n",
    "    print(f'{e} is the even list')\n",
    "evenList(l)    "
   ]
  },
  {
   "cell_type": "markdown",
   "id": "2503cdcc",
   "metadata": {},
   "source": [
    "## 8"
   ]
  },
  {
   "cell_type": "code",
   "execution_count": 23,
   "id": "2f523e03",
   "metadata": {},
   "outputs": [
    {
     "name": "stdout",
     "output_type": "stream",
     "text": [
      "[11, 321, 88445, 7] is the odd number list\n"
     ]
    }
   ],
   "source": [
    "l=[11,321,88445,6,7,8]\n",
    "\n",
    "def evenList(l):\n",
    "    e=[]\n",
    "    if len(l) == False:\n",
    "        print(\"please enter elements in list\")\n",
    "        return\n",
    "    for i in range(len(l)):\n",
    "        if l[i]%2!=0:\n",
    "            e.append(l[i])\n",
    "    print(f'{e} is the odd number list')\n",
    "evenList(l)    "
   ]
  },
  {
   "cell_type": "markdown",
   "id": "7981d6a6",
   "metadata": {},
   "source": [
    "## 9"
   ]
  },
  {
   "cell_type": "code",
   "execution_count": 29,
   "id": "2551f75f",
   "metadata": {},
   "outputs": [
    {
     "name": "stdout",
     "output_type": "stream",
     "text": [
      "Enter all elements of the list: [1,2,4,5,[],8]\n",
      "There is an Empty list in [1, 2, 4, 5, [], 8] at Position 4\n",
      "The List after removing [] is [1, 2, 4, 5, 8]\n"
     ]
    }
   ],
   "source": [
    "def checkEmptyList():\n",
    "    in_list = eval(input('Enter all elements of the list: '))\n",
    "    if [] in in_list:\n",
    "        print(f'There is an Empty list in {in_list} at Position {in_list.index([])}')\n",
    "        in_list.remove([])\n",
    "        print(f'The List after removing [] is {in_list}')\n",
    "    else:\n",
    "        print(f'There is no [] List in the list {in_list}')\n",
    "        \n",
    "checkEmptyList()"
   ]
  },
  {
   "cell_type": "markdown",
   "id": "7b226adb",
   "metadata": {},
   "source": [
    "## 10"
   ]
  },
  {
   "cell_type": "code",
   "execution_count": 31,
   "id": "f3a66e22",
   "metadata": {},
   "outputs": [
    {
     "name": "stdout",
     "output_type": "stream",
     "text": [
      "Enter a list[1,2,5,6]\n",
      "[1, 2, 5, 6] 1733373448000\n",
      "[1, 2, 5, 6] 1733373429696\n"
     ]
    }
   ],
   "source": [
    "def clopy():\n",
    "    in_list = eval(input('Enter a list'))\n",
    "    print(in_list, id(in_list))\n",
    "    cloned_list = in_list.copy()\n",
    "    print(cloned_list, id(cloned_list))\n",
    "\n",
    "clopy() "
   ]
  },
  {
   "cell_type": "markdown",
   "id": "2d75317c",
   "metadata": {},
   "source": [
    "## 11"
   ]
  },
  {
   "cell_type": "code",
   "execution_count": 35,
   "id": "2286ab67",
   "metadata": {},
   "outputs": [
    {
     "name": "stdout",
     "output_type": "stream",
     "text": [
      "Enter a list[1,2,3,1,2,3,1,2,3,4,5,6,4,5,6]\n",
      "Enter element to count occurence :3\n",
      "3 =the number of occurence in the list\n"
     ]
    }
   ],
   "source": [
    "def occurList():\n",
    "    in_list = eval(input('Enter a list'))\n",
    "    n=eval(input(\"Enter element to count occurence :\"))\n",
    "    count=0\n",
    "    for i in range(len(in_list)):\n",
    "        if n == in_list[i]:\n",
    "            count+=1\n",
    "    print(count,\"= the number of occurence in the list\")\n",
    "occurList()    "
   ]
  },
  {
   "cell_type": "code",
   "execution_count": null,
   "id": "5708388c",
   "metadata": {},
   "outputs": [],
   "source": []
  },
  {
   "cell_type": "code",
   "execution_count": null,
   "id": "53a6009b",
   "metadata": {},
   "outputs": [],
   "source": []
  }
 ],
 "metadata": {
  "kernelspec": {
   "display_name": "Python 3 (ipykernel)",
   "language": "python",
   "name": "python3"
  },
  "language_info": {
   "codemirror_mode": {
    "name": "ipython",
    "version": 3
   },
   "file_extension": ".py",
   "mimetype": "text/x-python",
   "name": "python",
   "nbconvert_exporter": "python",
   "pygments_lexer": "ipython3",
   "version": "3.9.7"
  }
 },
 "nbformat": 4,
 "nbformat_minor": 5
}
