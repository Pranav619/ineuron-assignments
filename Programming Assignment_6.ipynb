{
 "cells": [
  {
   "cell_type": "markdown",
   "id": "fb53d7cf",
   "metadata": {},
   "source": [
    "1. Write a Python Program to Display Fibonacci Sequence Using Recursion? \n",
    "2. Write a Python Program to Find Factorial of Number Using Recursion? \n",
    "3. Write a Python Program to calculate your Body Mass Index? \n",
    "4. Write a Python Program to calculate the natural logarithm of any number? \n",
    "5. Write a Python Program for cube sum of first n natural numbers?"
   ]
  },
  {
   "cell_type": "markdown",
   "id": "b226e57b",
   "metadata": {},
   "source": [
    "## 1"
   ]
  },
  {
   "cell_type": "code",
   "execution_count": 9,
   "id": "90c6df66",
   "metadata": {},
   "outputs": [
    {
     "name": "stdout",
     "output_type": "stream",
     "text": [
      "Enter the length of Series: 6\n",
      "0, 1, 3, 5, 8, 13, 21, 34, "
     ]
    }
   ],
   "source": [
    "# 0, 1, 1, 2, 3, 5, 8, 13, 21, 34, 55, 89, 144, .....\n",
    "def genFibonacci(n,a,b):\n",
    "    if n == 0:\n",
    "        return 1\n",
    "    else:\n",
    "        result = a+b\n",
    "        print(result, end=', ')\n",
    "        genFibonacci(n-1,b,result)\n",
    "in_num = int(input('Enter the length of Series: '))\n",
    "print('0, 1',end=', ')\n",
    "genFibonacci(in_num,1,2)"
   ]
  },
  {
   "cell_type": "markdown",
   "id": "ca36126b",
   "metadata": {},
   "source": [
    "## 2"
   ]
  },
  {
   "cell_type": "code",
   "execution_count": 21,
   "id": "bd0d6001",
   "metadata": {},
   "outputs": [
    {
     "name": "stdout",
     "output_type": "stream",
     "text": [
      "The factorial of 5 is 120\n"
     ]
    }
   ],
   "source": [
    "def Factorial(n):\n",
    "    #num=input(\"enter the number \")\n",
    "    if n == 0:\n",
    "        return 1\n",
    "    else:\n",
    "        return (n * Factorial(n-1))\n",
    "num=5   \n",
    "print(\"The factorial of\", num, \"is\", Factorial(num))"
   ]
  },
  {
   "cell_type": "markdown",
   "id": "9f85f425",
   "metadata": {},
   "source": [
    "## 3"
   ]
  },
  {
   "cell_type": "code",
   "execution_count": 15,
   "id": "b6729dd8",
   "metadata": {},
   "outputs": [
    {
     "name": "stdout",
     "output_type": "stream",
     "text": [
      "enter weight in kg 73\n",
      "enter height in m 1.77\n",
      "Your're BMI is 23.301094832264035 and status is Healthy \n"
     ]
    }
   ],
   "source": [
    "def bmi():\n",
    "    w = int(input(\"enter weight in kg \"))\n",
    "    h = float(input(\"enter height in m \"))\n",
    "    bm = w/(h*h) \n",
    "    #return bm\n",
    "    if (bm < 18.5):\n",
    "        status = 'Underweight'\n",
    "    elif (bm >= 18.5 and bm < 24.9):\n",
    "        status = 'Healthy'\n",
    "    elif (bm >= 24.9 and bm < 30):\n",
    "        status = 'Overweight'\n",
    "    elif (bm >=30):\n",
    "        status = 'Suffering from Obesity'\n",
    "    print(f'Your\\'re BMI is {bm} and status is {status} ')\n",
    "        \n",
    "bmi()"
   ]
  },
  {
   "cell_type": "markdown",
   "id": "600c5b59",
   "metadata": {},
   "source": [
    "## 4"
   ]
  },
  {
   "cell_type": "code",
   "execution_count": null,
   "id": "ee862f29",
   "metadata": {},
   "outputs": [],
   "source": [
    "import math\n",
    "def genNatLog():\n",
    "    in_num = eval(input(\"Enter a Number:\"))\n",
    "    print(math.log(in_num))\n",
    "\n",
    "genNatLog()"
   ]
  },
  {
   "cell_type": "markdown",
   "id": "40dfce05",
   "metadata": {},
   "source": [
    "## 5"
   ]
  },
  {
   "cell_type": "code",
   "execution_count": 21,
   "id": "bb02bc07",
   "metadata": {},
   "outputs": [
    {
     "name": "stdout",
     "output_type": "stream",
     "text": [
      "Enter a Number:4\n"
     ]
    },
    {
     "data": {
      "text/plain": [
       "100"
      ]
     },
     "execution_count": 21,
     "metadata": {},
     "output_type": "execute_result"
    }
   ],
   "source": [
    "import math\n",
    "def cubsum():\n",
    "        n = int(input(\"Enter a Number:\"))\n",
    "        sol=0\n",
    "        for i in range(n+1):\n",
    "            sol = (i*i*i)+ sol\n",
    "        return sol\n",
    "cubsum()    "
   ]
  },
  {
   "cell_type": "code",
   "execution_count": null,
   "id": "771080d6",
   "metadata": {},
   "outputs": [],
   "source": []
  }
 ],
 "metadata": {
  "kernelspec": {
   "display_name": "Python 3 (ipykernel)",
   "language": "python",
   "name": "python3"
  },
  "language_info": {
   "codemirror_mode": {
    "name": "ipython",
    "version": 3
   },
   "file_extension": ".py",
   "mimetype": "text/x-python",
   "name": "python",
   "nbconvert_exporter": "python",
   "pygments_lexer": "ipython3",
   "version": "3.9.7"
  }
 },
 "nbformat": 4,
 "nbformat_minor": 5
}
